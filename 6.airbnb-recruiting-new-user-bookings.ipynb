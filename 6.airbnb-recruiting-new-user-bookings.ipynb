{
 "cells": [
  {
   "attachments": {},
   "cell_type": "markdown",
   "id": "711282ea",
   "metadata": {
    "id": "711282ea"
   },
   "source": [
    "## Exploratory Data Analysis for Airbnb New User Bookings datasets"
   ]
  },
  {
   "attachments": {},
   "cell_type": "markdown",
   "id": "3b206f87",
   "metadata": {
    "id": "3b206f87"
   },
   "source": [
    "### Importing relevant libraries"
   ]
  },
  {
   "cell_type": "code",
   "execution_count": 1,
   "id": "17949959",
   "metadata": {
    "colab": {
     "base_uri": "https://localhost:8080/"
    },
    "executionInfo": {
     "elapsed": 10817,
     "status": "ok",
     "timestamp": 1687538512550,
     "user": {
      "displayName": "Yasser Sakr",
      "userId": "15584901531651561141"
     },
     "user_tz": -180
    },
    "id": "17949959",
    "outputId": "b8a0767d-7303-4953-d7d4-2aa908862f40"
   },
   "outputs": [],
   "source": [
    "import numpy as np\n",
    "import pandas as pd\n",
    "import matplotlib.pyplot as plt\n",
    "%matplotlib inline\n",
    "import seaborn as sns\n",
    "import miceforest as mf"
   ]
  },
  {
   "cell_type": "code",
   "execution_count": 2,
   "id": "959f4a53",
   "metadata": {
    "executionInfo": {
     "elapsed": 14,
     "status": "ok",
     "timestamp": 1687538512554,
     "user": {
      "displayName": "Yasser Sakr",
      "userId": "15584901531651561141"
     },
     "user_tz": -180
    },
    "id": "959f4a53"
   },
   "outputs": [],
   "source": [
    "pd.set_option(\"display.max.columns\", None)\n",
    "pd.set_option(\"display.precision\", 2)"
   ]
  },
  {
   "attachments": {},
   "cell_type": "markdown",
   "id": "9ef0d404",
   "metadata": {
    "id": "9ef0d404"
   },
   "source": [
    "### loading datasets"
   ]
  },
  {
   "cell_type": "code",
   "execution_count": 3,
   "id": "4dacda32",
   "metadata": {
    "executionInfo": {
     "elapsed": 4162,
     "status": "ok",
     "timestamp": 1687538655907,
     "user": {
      "displayName": "Yasser Sakr",
      "userId": "15584901531651561141"
     },
     "user_tz": -180
    },
    "id": "4dacda32"
   },
   "outputs": [],
   "source": [
    "age_gender_bkts = pd.read_csv('age_gender_bkts.csv')\n",
    "countries = pd.read_csv('countries.csv')\n",
    "#sessions = pd.read_csv('sessions.csv')\n",
    "train_users = pd.read_csv('train_users_2.csv')\n",
    "test_users = pd.read_csv('test_users.csv')"
   ]
  },
  {
   "attachments": {},
   "cell_type": "markdown",
   "id": "c51044dd",
   "metadata": {
    "id": "c51044dd"
   },
   "source": [
    "## Data Wrangling"
   ]
  },
  {
   "attachments": {},
   "cell_type": "markdown",
   "id": "d4784773",
   "metadata": {
    "id": "d4784773"
   },
   "source": [
    "#### 1. Age-Gender Dataset"
   ]
  },
  {
   "cell_type": "code",
   "execution_count": 4,
   "id": "cdce2d86",
   "metadata": {
    "colab": {
     "base_uri": "https://localhost:8080/",
     "height": 206
    },
    "executionInfo": {
     "elapsed": 36,
     "status": "ok",
     "timestamp": 1687538655908,
     "user": {
      "displayName": "Yasser Sakr",
      "userId": "15584901531651561141"
     },
     "user_tz": -180
    },
    "id": "cdce2d86",
    "outputId": "8c3d0561-2259-4ac7-aed8-15e93b4372af"
   },
   "outputs": [
    {
     "data": {
      "text/html": [
       "<div>\n",
       "<style scoped>\n",
       "    .dataframe tbody tr th:only-of-type {\n",
       "        vertical-align: middle;\n",
       "    }\n",
       "\n",
       "    .dataframe tbody tr th {\n",
       "        vertical-align: top;\n",
       "    }\n",
       "\n",
       "    .dataframe thead th {\n",
       "        text-align: right;\n",
       "    }\n",
       "</style>\n",
       "<table border=\"1\" class=\"dataframe\">\n",
       "  <thead>\n",
       "    <tr style=\"text-align: right;\">\n",
       "      <th></th>\n",
       "      <th>age_bucket</th>\n",
       "      <th>country_destination</th>\n",
       "      <th>gender</th>\n",
       "      <th>population_in_thousands</th>\n",
       "      <th>year</th>\n",
       "    </tr>\n",
       "  </thead>\n",
       "  <tbody>\n",
       "    <tr>\n",
       "      <th>0</th>\n",
       "      <td>100+</td>\n",
       "      <td>AU</td>\n",
       "      <td>male</td>\n",
       "      <td>1.0</td>\n",
       "      <td>2015.0</td>\n",
       "    </tr>\n",
       "    <tr>\n",
       "      <th>1</th>\n",
       "      <td>95-99</td>\n",
       "      <td>AU</td>\n",
       "      <td>male</td>\n",
       "      <td>9.0</td>\n",
       "      <td>2015.0</td>\n",
       "    </tr>\n",
       "    <tr>\n",
       "      <th>2</th>\n",
       "      <td>90-94</td>\n",
       "      <td>AU</td>\n",
       "      <td>male</td>\n",
       "      <td>47.0</td>\n",
       "      <td>2015.0</td>\n",
       "    </tr>\n",
       "    <tr>\n",
       "      <th>3</th>\n",
       "      <td>85-89</td>\n",
       "      <td>AU</td>\n",
       "      <td>male</td>\n",
       "      <td>118.0</td>\n",
       "      <td>2015.0</td>\n",
       "    </tr>\n",
       "    <tr>\n",
       "      <th>4</th>\n",
       "      <td>80-84</td>\n",
       "      <td>AU</td>\n",
       "      <td>male</td>\n",
       "      <td>199.0</td>\n",
       "      <td>2015.0</td>\n",
       "    </tr>\n",
       "  </tbody>\n",
       "</table>\n",
       "</div>"
      ],
      "text/plain": [
       "  age_bucket country_destination gender  population_in_thousands    year\n",
       "0       100+                  AU   male                      1.0  2015.0\n",
       "1      95-99                  AU   male                      9.0  2015.0\n",
       "2      90-94                  AU   male                     47.0  2015.0\n",
       "3      85-89                  AU   male                    118.0  2015.0\n",
       "4      80-84                  AU   male                    199.0  2015.0"
      ]
     },
     "execution_count": 4,
     "metadata": {},
     "output_type": "execute_result"
    }
   ],
   "source": [
    "age_gender_df = age_gender_bkts.copy()\n",
    "age_gender_df.head()"
   ]
  },
  {
   "cell_type": "code",
   "execution_count": 5,
   "id": "b3f3c571",
   "metadata": {
    "colab": {
     "base_uri": "https://localhost:8080/"
    },
    "executionInfo": {
     "elapsed": 34,
     "status": "ok",
     "timestamp": 1687538655909,
     "user": {
      "displayName": "Yasser Sakr",
      "userId": "15584901531651561141"
     },
     "user_tz": -180
    },
    "id": "b3f3c571",
    "outputId": "f08245ca-1310-4231-84ff-50ca11aa3d0c"
   },
   "outputs": [
    {
     "data": {
      "text/plain": [
       "array(['AU', 'CA', 'DE', 'ES', 'FR', 'GB', 'IT', 'NL', 'PT', 'US'],\n",
       "      dtype=object)"
      ]
     },
     "execution_count": 5,
     "metadata": {},
     "output_type": "execute_result"
    }
   ],
   "source": [
    "age_gender_df['country_destination'].unique()"
   ]
  },
  {
   "cell_type": "code",
   "execution_count": 6,
   "id": "a636e8a9",
   "metadata": {
    "colab": {
     "base_uri": "https://localhost:8080/",
     "height": 206
    },
    "executionInfo": {
     "elapsed": 27,
     "status": "ok",
     "timestamp": 1687538655910,
     "user": {
      "displayName": "Yasser Sakr",
      "userId": "15584901531651561141"
     },
     "user_tz": -180
    },
    "id": "a636e8a9",
    "outputId": "41383292-18e1-4312-d177-50d767b172f6"
   },
   "outputs": [
    {
     "data": {
      "text/html": [
       "<div>\n",
       "<style scoped>\n",
       "    .dataframe tbody tr th:only-of-type {\n",
       "        vertical-align: middle;\n",
       "    }\n",
       "\n",
       "    .dataframe tbody tr th {\n",
       "        vertical-align: top;\n",
       "    }\n",
       "\n",
       "    .dataframe thead th {\n",
       "        text-align: right;\n",
       "    }\n",
       "</style>\n",
       "<table border=\"1\" class=\"dataframe\">\n",
       "  <thead>\n",
       "    <tr style=\"text-align: right;\">\n",
       "      <th></th>\n",
       "      <th>age_bucket</th>\n",
       "      <th>country_destination</th>\n",
       "      <th>gender</th>\n",
       "      <th>population_in_thousands</th>\n",
       "      <th>year</th>\n",
       "    </tr>\n",
       "  </thead>\n",
       "  <tbody>\n",
       "    <tr>\n",
       "      <th>378</th>\n",
       "      <td>90-94</td>\n",
       "      <td>US</td>\n",
       "      <td>female</td>\n",
       "      <td>1193.0</td>\n",
       "      <td>2015.0</td>\n",
       "    </tr>\n",
       "    <tr>\n",
       "      <th>379</th>\n",
       "      <td>75-79</td>\n",
       "      <td>US</td>\n",
       "      <td>male</td>\n",
       "      <td>3641.0</td>\n",
       "      <td>2015.0</td>\n",
       "    </tr>\n",
       "    <tr>\n",
       "      <th>380</th>\n",
       "      <td>70-74</td>\n",
       "      <td>US</td>\n",
       "      <td>male</td>\n",
       "      <td>5278.0</td>\n",
       "      <td>2015.0</td>\n",
       "    </tr>\n",
       "    <tr>\n",
       "      <th>381</th>\n",
       "      <td>65-69</td>\n",
       "      <td>US</td>\n",
       "      <td>male</td>\n",
       "      <td>7561.0</td>\n",
       "      <td>2015.0</td>\n",
       "    </tr>\n",
       "    <tr>\n",
       "      <th>382</th>\n",
       "      <td>60-64</td>\n",
       "      <td>US</td>\n",
       "      <td>male</td>\n",
       "      <td>9217.0</td>\n",
       "      <td>2015.0</td>\n",
       "    </tr>\n",
       "  </tbody>\n",
       "</table>\n",
       "</div>"
      ],
      "text/plain": [
       "    age_bucket country_destination  gender  population_in_thousands    year\n",
       "378      90-94                  US  female                   1193.0  2015.0\n",
       "379      75-79                  US    male                   3641.0  2015.0\n",
       "380      70-74                  US    male                   5278.0  2015.0\n",
       "381      65-69                  US    male                   7561.0  2015.0\n",
       "382      60-64                  US    male                   9217.0  2015.0"
      ]
     },
     "execution_count": 6,
     "metadata": {},
     "output_type": "execute_result"
    }
   ],
   "source": [
    "us_age_gender_df = age_gender_df[age_gender_df['country_destination'] == 'US']#.reset_index().drop('index', axis=1)\n",
    "us_age_gender_df.head()"
   ]
  },
  {
   "attachments": {},
   "cell_type": "markdown",
   "id": "002e5bcb",
   "metadata": {
    "id": "002e5bcb"
   },
   "source": [
    "#### 2. Countries Dataset"
   ]
  },
  {
   "cell_type": "code",
   "execution_count": 7,
   "id": "b7203f4b",
   "metadata": {
    "colab": {
     "base_uri": "https://localhost:8080/",
     "height": 206
    },
    "executionInfo": {
     "elapsed": 25,
     "status": "ok",
     "timestamp": 1687538655911,
     "user": {
      "displayName": "Yasser Sakr",
      "userId": "15584901531651561141"
     },
     "user_tz": -180
    },
    "id": "b7203f4b",
    "outputId": "be1b032c-4edd-4a78-84e0-baac070b4108"
   },
   "outputs": [
    {
     "data": {
      "text/html": [
       "<div>\n",
       "<style scoped>\n",
       "    .dataframe tbody tr th:only-of-type {\n",
       "        vertical-align: middle;\n",
       "    }\n",
       "\n",
       "    .dataframe tbody tr th {\n",
       "        vertical-align: top;\n",
       "    }\n",
       "\n",
       "    .dataframe thead th {\n",
       "        text-align: right;\n",
       "    }\n",
       "</style>\n",
       "<table border=\"1\" class=\"dataframe\">\n",
       "  <thead>\n",
       "    <tr style=\"text-align: right;\">\n",
       "      <th></th>\n",
       "      <th>country_destination</th>\n",
       "      <th>lat_destination</th>\n",
       "      <th>lng_destination</th>\n",
       "      <th>distance_km</th>\n",
       "      <th>destination_km2</th>\n",
       "      <th>destination_language</th>\n",
       "      <th>language_levenshtein_distance</th>\n",
       "    </tr>\n",
       "  </thead>\n",
       "  <tbody>\n",
       "    <tr>\n",
       "      <th>0</th>\n",
       "      <td>AU</td>\n",
       "      <td>-26.85</td>\n",
       "      <td>133.28</td>\n",
       "      <td>15297.74</td>\n",
       "      <td>7.74e+06</td>\n",
       "      <td>eng</td>\n",
       "      <td>0.00</td>\n",
       "    </tr>\n",
       "    <tr>\n",
       "      <th>1</th>\n",
       "      <td>CA</td>\n",
       "      <td>62.39</td>\n",
       "      <td>-96.82</td>\n",
       "      <td>2828.13</td>\n",
       "      <td>9.98e+06</td>\n",
       "      <td>eng</td>\n",
       "      <td>0.00</td>\n",
       "    </tr>\n",
       "    <tr>\n",
       "      <th>2</th>\n",
       "      <td>DE</td>\n",
       "      <td>51.17</td>\n",
       "      <td>10.45</td>\n",
       "      <td>7879.57</td>\n",
       "      <td>3.57e+05</td>\n",
       "      <td>deu</td>\n",
       "      <td>72.61</td>\n",
       "    </tr>\n",
       "    <tr>\n",
       "      <th>3</th>\n",
       "      <td>ES</td>\n",
       "      <td>39.90</td>\n",
       "      <td>-2.49</td>\n",
       "      <td>7730.72</td>\n",
       "      <td>5.05e+05</td>\n",
       "      <td>spa</td>\n",
       "      <td>92.25</td>\n",
       "    </tr>\n",
       "    <tr>\n",
       "      <th>4</th>\n",
       "      <td>FR</td>\n",
       "      <td>46.23</td>\n",
       "      <td>2.21</td>\n",
       "      <td>7682.94</td>\n",
       "      <td>6.44e+05</td>\n",
       "      <td>fra</td>\n",
       "      <td>92.06</td>\n",
       "    </tr>\n",
       "  </tbody>\n",
       "</table>\n",
       "</div>"
      ],
      "text/plain": [
       "  country_destination  lat_destination  lng_destination  distance_km  \\\n",
       "0                  AU           -26.85           133.28     15297.74   \n",
       "1                  CA            62.39           -96.82      2828.13   \n",
       "2                  DE            51.17            10.45      7879.57   \n",
       "3                  ES            39.90            -2.49      7730.72   \n",
       "4                  FR            46.23             2.21      7682.94   \n",
       "\n",
       "   destination_km2 destination_language   language_levenshtein_distance  \n",
       "0         7.74e+06                   eng                           0.00  \n",
       "1         9.98e+06                   eng                           0.00  \n",
       "2         3.57e+05                   deu                          72.61  \n",
       "3         5.05e+05                   spa                          92.25  \n",
       "4         6.44e+05                   fra                          92.06  "
      ]
     },
     "execution_count": 7,
     "metadata": {},
     "output_type": "execute_result"
    }
   ],
   "source": [
    "countries.head()"
   ]
  },
  {
   "attachments": {},
   "cell_type": "markdown",
   "id": "0368088f",
   "metadata": {
    "id": "0368088f"
   },
   "source": [
    "#### 3. Sessions Dataset"
   ]
  },
  {
   "cell_type": "code",
   "execution_count": 8,
   "id": "790e9bc0",
   "metadata": {
    "executionInfo": {
     "elapsed": 33,
     "status": "ok",
     "timestamp": 1687538656501,
     "user": {
      "displayName": "Yasser Sakr",
      "userId": "15584901531651561141"
     },
     "user_tz": -180
    },
    "id": "790e9bc0"
   },
   "outputs": [],
   "source": [
    "#sessions.head()"
   ]
  },
  {
   "attachments": {},
   "cell_type": "markdown",
   "id": "ddb46be9",
   "metadata": {
    "id": "ddb46be9"
   },
   "source": [
    "#### 4. Train Users Dataset"
   ]
  },
  {
   "cell_type": "code",
   "execution_count": 9,
   "id": "bb36e5d4",
   "metadata": {
    "executionInfo": {
     "elapsed": 33,
     "status": "ok",
     "timestamp": 1687538656502,
     "user": {
      "displayName": "Yasser Sakr",
      "userId": "15584901531651561141"
     },
     "user_tz": -180
    },
    "id": "bb36e5d4"
   },
   "outputs": [],
   "source": [
    "train_users_df = train_users.copy()"
   ]
  },
  {
   "cell_type": "code",
   "execution_count": 10,
   "id": "54e3e672",
   "metadata": {
    "colab": {
     "base_uri": "https://localhost:8080/",
     "height": 305
    },
    "executionInfo": {
     "elapsed": 33,
     "status": "ok",
     "timestamp": 1687538656503,
     "user": {
      "displayName": "Yasser Sakr",
      "userId": "15584901531651561141"
     },
     "user_tz": -180
    },
    "id": "54e3e672",
    "outputId": "26549377-a91a-4a23-f0b9-63e6afef323d"
   },
   "outputs": [
    {
     "data": {
      "text/html": [
       "<div>\n",
       "<style scoped>\n",
       "    .dataframe tbody tr th:only-of-type {\n",
       "        vertical-align: middle;\n",
       "    }\n",
       "\n",
       "    .dataframe tbody tr th {\n",
       "        vertical-align: top;\n",
       "    }\n",
       "\n",
       "    .dataframe thead th {\n",
       "        text-align: right;\n",
       "    }\n",
       "</style>\n",
       "<table border=\"1\" class=\"dataframe\">\n",
       "  <thead>\n",
       "    <tr style=\"text-align: right;\">\n",
       "      <th></th>\n",
       "      <th>id</th>\n",
       "      <th>date_account_created</th>\n",
       "      <th>timestamp_first_active</th>\n",
       "      <th>date_first_booking</th>\n",
       "      <th>gender</th>\n",
       "      <th>age</th>\n",
       "      <th>signup_method</th>\n",
       "      <th>signup_flow</th>\n",
       "      <th>language</th>\n",
       "      <th>affiliate_channel</th>\n",
       "      <th>affiliate_provider</th>\n",
       "      <th>first_affiliate_tracked</th>\n",
       "      <th>signup_app</th>\n",
       "      <th>first_device_type</th>\n",
       "      <th>first_browser</th>\n",
       "      <th>country_destination</th>\n",
       "    </tr>\n",
       "  </thead>\n",
       "  <tbody>\n",
       "    <tr>\n",
       "      <th>0</th>\n",
       "      <td>gxn3p5htnn</td>\n",
       "      <td>2010-06-28</td>\n",
       "      <td>20090319043255</td>\n",
       "      <td>NaN</td>\n",
       "      <td>-unknown-</td>\n",
       "      <td>NaN</td>\n",
       "      <td>facebook</td>\n",
       "      <td>0</td>\n",
       "      <td>en</td>\n",
       "      <td>direct</td>\n",
       "      <td>direct</td>\n",
       "      <td>untracked</td>\n",
       "      <td>Web</td>\n",
       "      <td>Mac Desktop</td>\n",
       "      <td>Chrome</td>\n",
       "      <td>NDF</td>\n",
       "    </tr>\n",
       "    <tr>\n",
       "      <th>1</th>\n",
       "      <td>820tgsjxq7</td>\n",
       "      <td>2011-05-25</td>\n",
       "      <td>20090523174809</td>\n",
       "      <td>NaN</td>\n",
       "      <td>MALE</td>\n",
       "      <td>38.0</td>\n",
       "      <td>facebook</td>\n",
       "      <td>0</td>\n",
       "      <td>en</td>\n",
       "      <td>seo</td>\n",
       "      <td>google</td>\n",
       "      <td>untracked</td>\n",
       "      <td>Web</td>\n",
       "      <td>Mac Desktop</td>\n",
       "      <td>Chrome</td>\n",
       "      <td>NDF</td>\n",
       "    </tr>\n",
       "    <tr>\n",
       "      <th>2</th>\n",
       "      <td>4ft3gnwmtx</td>\n",
       "      <td>2010-09-28</td>\n",
       "      <td>20090609231247</td>\n",
       "      <td>2010-08-02</td>\n",
       "      <td>FEMALE</td>\n",
       "      <td>56.0</td>\n",
       "      <td>basic</td>\n",
       "      <td>3</td>\n",
       "      <td>en</td>\n",
       "      <td>direct</td>\n",
       "      <td>direct</td>\n",
       "      <td>untracked</td>\n",
       "      <td>Web</td>\n",
       "      <td>Windows Desktop</td>\n",
       "      <td>IE</td>\n",
       "      <td>US</td>\n",
       "    </tr>\n",
       "    <tr>\n",
       "      <th>3</th>\n",
       "      <td>bjjt8pjhuk</td>\n",
       "      <td>2011-12-05</td>\n",
       "      <td>20091031060129</td>\n",
       "      <td>2012-09-08</td>\n",
       "      <td>FEMALE</td>\n",
       "      <td>42.0</td>\n",
       "      <td>facebook</td>\n",
       "      <td>0</td>\n",
       "      <td>en</td>\n",
       "      <td>direct</td>\n",
       "      <td>direct</td>\n",
       "      <td>untracked</td>\n",
       "      <td>Web</td>\n",
       "      <td>Mac Desktop</td>\n",
       "      <td>Firefox</td>\n",
       "      <td>other</td>\n",
       "    </tr>\n",
       "    <tr>\n",
       "      <th>4</th>\n",
       "      <td>87mebub9p4</td>\n",
       "      <td>2010-09-14</td>\n",
       "      <td>20091208061105</td>\n",
       "      <td>2010-02-18</td>\n",
       "      <td>-unknown-</td>\n",
       "      <td>41.0</td>\n",
       "      <td>basic</td>\n",
       "      <td>0</td>\n",
       "      <td>en</td>\n",
       "      <td>direct</td>\n",
       "      <td>direct</td>\n",
       "      <td>untracked</td>\n",
       "      <td>Web</td>\n",
       "      <td>Mac Desktop</td>\n",
       "      <td>Chrome</td>\n",
       "      <td>US</td>\n",
       "    </tr>\n",
       "  </tbody>\n",
       "</table>\n",
       "</div>"
      ],
      "text/plain": [
       "           id date_account_created  timestamp_first_active date_first_booking  \\\n",
       "0  gxn3p5htnn           2010-06-28          20090319043255                NaN   \n",
       "1  820tgsjxq7           2011-05-25          20090523174809                NaN   \n",
       "2  4ft3gnwmtx           2010-09-28          20090609231247         2010-08-02   \n",
       "3  bjjt8pjhuk           2011-12-05          20091031060129         2012-09-08   \n",
       "4  87mebub9p4           2010-09-14          20091208061105         2010-02-18   \n",
       "\n",
       "      gender   age signup_method  signup_flow language affiliate_channel  \\\n",
       "0  -unknown-   NaN      facebook            0       en            direct   \n",
       "1       MALE  38.0      facebook            0       en               seo   \n",
       "2     FEMALE  56.0         basic            3       en            direct   \n",
       "3     FEMALE  42.0      facebook            0       en            direct   \n",
       "4  -unknown-  41.0         basic            0       en            direct   \n",
       "\n",
       "  affiliate_provider first_affiliate_tracked signup_app first_device_type  \\\n",
       "0             direct               untracked        Web       Mac Desktop   \n",
       "1             google               untracked        Web       Mac Desktop   \n",
       "2             direct               untracked        Web   Windows Desktop   \n",
       "3             direct               untracked        Web       Mac Desktop   \n",
       "4             direct               untracked        Web       Mac Desktop   \n",
       "\n",
       "  first_browser country_destination  \n",
       "0        Chrome                 NDF  \n",
       "1        Chrome                 NDF  \n",
       "2            IE                  US  \n",
       "3       Firefox               other  \n",
       "4        Chrome                  US  "
      ]
     },
     "execution_count": 10,
     "metadata": {},
     "output_type": "execute_result"
    }
   ],
   "source": [
    "train_users_df.head()"
   ]
  },
  {
   "cell_type": "code",
   "execution_count": 11,
   "id": "4f04a9de",
   "metadata": {
    "colab": {
     "base_uri": "https://localhost:8080/"
    },
    "executionInfo": {
     "elapsed": 31,
     "status": "ok",
     "timestamp": 1687538656504,
     "user": {
      "displayName": "Yasser Sakr",
      "userId": "15584901531651561141"
     },
     "user_tz": -180
    },
    "id": "4f04a9de",
    "outputId": "433e06ff-5fae-4b37-a229-30374f4dd394"
   },
   "outputs": [
    {
     "data": {
      "text/plain": [
       "(213451, 16)"
      ]
     },
     "execution_count": 11,
     "metadata": {},
     "output_type": "execute_result"
    }
   ],
   "source": [
    "train_users_df.shape"
   ]
  },
  {
   "attachments": {},
   "cell_type": "markdown",
   "id": "5e667099",
   "metadata": {
    "id": "5e667099"
   },
   "source": [
    "### Exploring the dataset"
   ]
  },
  {
   "cell_type": "code",
   "execution_count": 12,
   "id": "77181303",
   "metadata": {
    "colab": {
     "base_uri": "https://localhost:8080/",
     "height": 305
    },
    "executionInfo": {
     "elapsed": 24,
     "status": "ok",
     "timestamp": 1687538656505,
     "user": {
      "displayName": "Yasser Sakr",
      "userId": "15584901531651561141"
     },
     "user_tz": -180
    },
    "id": "77181303",
    "outputId": "fa20ca52-0521-403a-aa27-644763a786ec"
   },
   "outputs": [
    {
     "data": {
      "text/html": [
       "<div>\n",
       "<style scoped>\n",
       "    .dataframe tbody tr th:only-of-type {\n",
       "        vertical-align: middle;\n",
       "    }\n",
       "\n",
       "    .dataframe tbody tr th {\n",
       "        vertical-align: top;\n",
       "    }\n",
       "\n",
       "    .dataframe thead th {\n",
       "        text-align: right;\n",
       "    }\n",
       "</style>\n",
       "<table border=\"1\" class=\"dataframe\">\n",
       "  <thead>\n",
       "    <tr style=\"text-align: right;\">\n",
       "      <th></th>\n",
       "      <th>id</th>\n",
       "      <th>date_account_created</th>\n",
       "      <th>timestamp_first_active</th>\n",
       "      <th>date_first_booking</th>\n",
       "      <th>gender</th>\n",
       "      <th>age</th>\n",
       "      <th>signup_method</th>\n",
       "      <th>signup_flow</th>\n",
       "      <th>language</th>\n",
       "      <th>affiliate_channel</th>\n",
       "      <th>affiliate_provider</th>\n",
       "      <th>first_affiliate_tracked</th>\n",
       "      <th>signup_app</th>\n",
       "      <th>first_device_type</th>\n",
       "      <th>first_browser</th>\n",
       "      <th>country_destination</th>\n",
       "    </tr>\n",
       "  </thead>\n",
       "  <tbody>\n",
       "    <tr>\n",
       "      <th>0</th>\n",
       "      <td>gxn3p5htnn</td>\n",
       "      <td>2010-06-28</td>\n",
       "      <td>20090319043255</td>\n",
       "      <td>NaN</td>\n",
       "      <td>-unknown-</td>\n",
       "      <td>NaN</td>\n",
       "      <td>facebook</td>\n",
       "      <td>0</td>\n",
       "      <td>en</td>\n",
       "      <td>direct</td>\n",
       "      <td>direct</td>\n",
       "      <td>untracked</td>\n",
       "      <td>Web</td>\n",
       "      <td>Mac Desktop</td>\n",
       "      <td>Chrome</td>\n",
       "      <td>NDF</td>\n",
       "    </tr>\n",
       "    <tr>\n",
       "      <th>1</th>\n",
       "      <td>820tgsjxq7</td>\n",
       "      <td>2011-05-25</td>\n",
       "      <td>20090523174809</td>\n",
       "      <td>NaN</td>\n",
       "      <td>MALE</td>\n",
       "      <td>38.0</td>\n",
       "      <td>facebook</td>\n",
       "      <td>0</td>\n",
       "      <td>en</td>\n",
       "      <td>seo</td>\n",
       "      <td>google</td>\n",
       "      <td>untracked</td>\n",
       "      <td>Web</td>\n",
       "      <td>Mac Desktop</td>\n",
       "      <td>Chrome</td>\n",
       "      <td>NDF</td>\n",
       "    </tr>\n",
       "    <tr>\n",
       "      <th>2</th>\n",
       "      <td>4ft3gnwmtx</td>\n",
       "      <td>2010-09-28</td>\n",
       "      <td>20090609231247</td>\n",
       "      <td>2010-08-02</td>\n",
       "      <td>FEMALE</td>\n",
       "      <td>56.0</td>\n",
       "      <td>basic</td>\n",
       "      <td>3</td>\n",
       "      <td>en</td>\n",
       "      <td>direct</td>\n",
       "      <td>direct</td>\n",
       "      <td>untracked</td>\n",
       "      <td>Web</td>\n",
       "      <td>Windows Desktop</td>\n",
       "      <td>IE</td>\n",
       "      <td>US</td>\n",
       "    </tr>\n",
       "    <tr>\n",
       "      <th>3</th>\n",
       "      <td>bjjt8pjhuk</td>\n",
       "      <td>2011-12-05</td>\n",
       "      <td>20091031060129</td>\n",
       "      <td>2012-09-08</td>\n",
       "      <td>FEMALE</td>\n",
       "      <td>42.0</td>\n",
       "      <td>facebook</td>\n",
       "      <td>0</td>\n",
       "      <td>en</td>\n",
       "      <td>direct</td>\n",
       "      <td>direct</td>\n",
       "      <td>untracked</td>\n",
       "      <td>Web</td>\n",
       "      <td>Mac Desktop</td>\n",
       "      <td>Firefox</td>\n",
       "      <td>other</td>\n",
       "    </tr>\n",
       "    <tr>\n",
       "      <th>4</th>\n",
       "      <td>87mebub9p4</td>\n",
       "      <td>2010-09-14</td>\n",
       "      <td>20091208061105</td>\n",
       "      <td>2010-02-18</td>\n",
       "      <td>-unknown-</td>\n",
       "      <td>41.0</td>\n",
       "      <td>basic</td>\n",
       "      <td>0</td>\n",
       "      <td>en</td>\n",
       "      <td>direct</td>\n",
       "      <td>direct</td>\n",
       "      <td>untracked</td>\n",
       "      <td>Web</td>\n",
       "      <td>Mac Desktop</td>\n",
       "      <td>Chrome</td>\n",
       "      <td>US</td>\n",
       "    </tr>\n",
       "  </tbody>\n",
       "</table>\n",
       "</div>"
      ],
      "text/plain": [
       "           id date_account_created  timestamp_first_active date_first_booking  \\\n",
       "0  gxn3p5htnn           2010-06-28          20090319043255                NaN   \n",
       "1  820tgsjxq7           2011-05-25          20090523174809                NaN   \n",
       "2  4ft3gnwmtx           2010-09-28          20090609231247         2010-08-02   \n",
       "3  bjjt8pjhuk           2011-12-05          20091031060129         2012-09-08   \n",
       "4  87mebub9p4           2010-09-14          20091208061105         2010-02-18   \n",
       "\n",
       "      gender   age signup_method  signup_flow language affiliate_channel  \\\n",
       "0  -unknown-   NaN      facebook            0       en            direct   \n",
       "1       MALE  38.0      facebook            0       en               seo   \n",
       "2     FEMALE  56.0         basic            3       en            direct   \n",
       "3     FEMALE  42.0      facebook            0       en            direct   \n",
       "4  -unknown-  41.0         basic            0       en            direct   \n",
       "\n",
       "  affiliate_provider first_affiliate_tracked signup_app first_device_type  \\\n",
       "0             direct               untracked        Web       Mac Desktop   \n",
       "1             google               untracked        Web       Mac Desktop   \n",
       "2             direct               untracked        Web   Windows Desktop   \n",
       "3             direct               untracked        Web       Mac Desktop   \n",
       "4             direct               untracked        Web       Mac Desktop   \n",
       "\n",
       "  first_browser country_destination  \n",
       "0        Chrome                 NDF  \n",
       "1        Chrome                 NDF  \n",
       "2            IE                  US  \n",
       "3       Firefox               other  \n",
       "4        Chrome                  US  "
      ]
     },
     "execution_count": 12,
     "metadata": {},
     "output_type": "execute_result"
    }
   ],
   "source": [
    "train_users_df.head()"
   ]
  },
  {
   "cell_type": "code",
   "execution_count": 13,
   "id": "aceb2cfc",
   "metadata": {
    "colab": {
     "base_uri": "https://localhost:8080/"
    },
    "executionInfo": {
     "elapsed": 1873,
     "status": "ok",
     "timestamp": 1687538658357,
     "user": {
      "displayName": "Yasser Sakr",
      "userId": "15584901531651561141"
     },
     "user_tz": -180
    },
    "id": "aceb2cfc",
    "outputId": "219297a4-1c36-4333-df6b-830554d5b473"
   },
   "outputs": [
    {
     "name": "stdout",
     "output_type": "stream",
     "text": [
      "<class 'pandas.core.frame.DataFrame'>\n",
      "RangeIndex: 213451 entries, 0 to 213450\n",
      "Data columns (total 16 columns):\n",
      " #   Column                   Non-Null Count   Dtype  \n",
      "---  ------                   --------------   -----  \n",
      " 0   id                       213451 non-null  object \n",
      " 1   date_account_created     213451 non-null  object \n",
      " 2   timestamp_first_active   213451 non-null  int64  \n",
      " 3   date_first_booking       88908 non-null   object \n",
      " 4   gender                   213451 non-null  object \n",
      " 5   age                      125461 non-null  float64\n",
      " 6   signup_method            213451 non-null  object \n",
      " 7   signup_flow              213451 non-null  int64  \n",
      " 8   language                 213451 non-null  object \n",
      " 9   affiliate_channel        213451 non-null  object \n",
      " 10  affiliate_provider       213451 non-null  object \n",
      " 11  first_affiliate_tracked  207386 non-null  object \n",
      " 12  signup_app               213451 non-null  object \n",
      " 13  first_device_type        213451 non-null  object \n",
      " 14  first_browser            213451 non-null  object \n",
      " 15  country_destination      213451 non-null  object \n",
      "dtypes: float64(1), int64(2), object(13)\n",
      "memory usage: 26.1+ MB\n"
     ]
    }
   ],
   "source": [
    "train_users_df.info()"
   ]
  },
  {
   "attachments": {},
   "cell_type": "markdown",
   "id": "cea34c11",
   "metadata": {
    "id": "cea34c11"
   },
   "source": [
    "### Check for duplicates"
   ]
  },
  {
   "cell_type": "code",
   "execution_count": 14,
   "id": "e5ef4581",
   "metadata": {
    "colab": {
     "base_uri": "https://localhost:8080/"
    },
    "executionInfo": {
     "elapsed": 3934,
     "status": "ok",
     "timestamp": 1687538662283,
     "user": {
      "displayName": "Yasser Sakr",
      "userId": "15584901531651561141"
     },
     "user_tz": -180
    },
    "id": "e5ef4581",
    "outputId": "c0189064-c69b-427f-8e1f-279c476f975d"
   },
   "outputs": [
    {
     "data": {
      "text/plain": [
       "0"
      ]
     },
     "execution_count": 14,
     "metadata": {},
     "output_type": "execute_result"
    }
   ],
   "source": [
    "train_users_df.duplicated().sum()"
   ]
  },
  {
   "attachments": {},
   "cell_type": "markdown",
   "id": "940cefbd",
   "metadata": {
    "id": "940cefbd"
   },
   "source": [
    "dataset has no duplicates"
   ]
  },
  {
   "attachments": {},
   "cell_type": "markdown",
   "id": "a03c9f2c",
   "metadata": {
    "id": "a03c9f2c"
   },
   "source": [
    "### Exploring the descriptive statistics of the variables"
   ]
  },
  {
   "cell_type": "code",
   "execution_count": 15,
   "id": "59343f5d",
   "metadata": {
    "colab": {
     "base_uri": "https://localhost:8080/",
     "height": 476
    },
    "executionInfo": {
     "elapsed": 3447,
     "status": "ok",
     "timestamp": 1687538666020,
     "user": {
      "displayName": "Yasser Sakr",
      "userId": "15584901531651561141"
     },
     "user_tz": -180
    },
    "id": "59343f5d",
    "outputId": "1a51ed81-c534-4a65-ed23-713e57254857"
   },
   "outputs": [
    {
     "data": {
      "text/html": [
       "<div>\n",
       "<style scoped>\n",
       "    .dataframe tbody tr th:only-of-type {\n",
       "        vertical-align: middle;\n",
       "    }\n",
       "\n",
       "    .dataframe tbody tr th {\n",
       "        vertical-align: top;\n",
       "    }\n",
       "\n",
       "    .dataframe thead th {\n",
       "        text-align: right;\n",
       "    }\n",
       "</style>\n",
       "<table border=\"1\" class=\"dataframe\">\n",
       "  <thead>\n",
       "    <tr style=\"text-align: right;\">\n",
       "      <th></th>\n",
       "      <th>id</th>\n",
       "      <th>date_account_created</th>\n",
       "      <th>timestamp_first_active</th>\n",
       "      <th>date_first_booking</th>\n",
       "      <th>gender</th>\n",
       "      <th>age</th>\n",
       "      <th>signup_method</th>\n",
       "      <th>signup_flow</th>\n",
       "      <th>language</th>\n",
       "      <th>affiliate_channel</th>\n",
       "      <th>affiliate_provider</th>\n",
       "      <th>first_affiliate_tracked</th>\n",
       "      <th>signup_app</th>\n",
       "      <th>first_device_type</th>\n",
       "      <th>first_browser</th>\n",
       "      <th>country_destination</th>\n",
       "    </tr>\n",
       "  </thead>\n",
       "  <tbody>\n",
       "    <tr>\n",
       "      <th>count</th>\n",
       "      <td>213451</td>\n",
       "      <td>213451</td>\n",
       "      <td>2.13e+05</td>\n",
       "      <td>88908</td>\n",
       "      <td>213451</td>\n",
       "      <td>125461.00</td>\n",
       "      <td>213451</td>\n",
       "      <td>213451.00</td>\n",
       "      <td>213451</td>\n",
       "      <td>213451</td>\n",
       "      <td>213451</td>\n",
       "      <td>207386</td>\n",
       "      <td>213451</td>\n",
       "      <td>213451</td>\n",
       "      <td>213451</td>\n",
       "      <td>213451</td>\n",
       "    </tr>\n",
       "    <tr>\n",
       "      <th>unique</th>\n",
       "      <td>213451</td>\n",
       "      <td>1634</td>\n",
       "      <td>NaN</td>\n",
       "      <td>1976</td>\n",
       "      <td>4</td>\n",
       "      <td>NaN</td>\n",
       "      <td>3</td>\n",
       "      <td>NaN</td>\n",
       "      <td>25</td>\n",
       "      <td>8</td>\n",
       "      <td>18</td>\n",
       "      <td>7</td>\n",
       "      <td>4</td>\n",
       "      <td>9</td>\n",
       "      <td>52</td>\n",
       "      <td>12</td>\n",
       "    </tr>\n",
       "    <tr>\n",
       "      <th>top</th>\n",
       "      <td>gxn3p5htnn</td>\n",
       "      <td>2014-05-13</td>\n",
       "      <td>NaN</td>\n",
       "      <td>2014-05-22</td>\n",
       "      <td>-unknown-</td>\n",
       "      <td>NaN</td>\n",
       "      <td>basic</td>\n",
       "      <td>NaN</td>\n",
       "      <td>en</td>\n",
       "      <td>direct</td>\n",
       "      <td>direct</td>\n",
       "      <td>untracked</td>\n",
       "      <td>Web</td>\n",
       "      <td>Mac Desktop</td>\n",
       "      <td>Chrome</td>\n",
       "      <td>NDF</td>\n",
       "    </tr>\n",
       "    <tr>\n",
       "      <th>freq</th>\n",
       "      <td>1</td>\n",
       "      <td>674</td>\n",
       "      <td>NaN</td>\n",
       "      <td>248</td>\n",
       "      <td>95688</td>\n",
       "      <td>NaN</td>\n",
       "      <td>152897</td>\n",
       "      <td>NaN</td>\n",
       "      <td>206314</td>\n",
       "      <td>137727</td>\n",
       "      <td>137426</td>\n",
       "      <td>109232</td>\n",
       "      <td>182717</td>\n",
       "      <td>89600</td>\n",
       "      <td>63845</td>\n",
       "      <td>124543</td>\n",
       "    </tr>\n",
       "    <tr>\n",
       "      <th>mean</th>\n",
       "      <td>NaN</td>\n",
       "      <td>NaN</td>\n",
       "      <td>2.01e+13</td>\n",
       "      <td>NaN</td>\n",
       "      <td>NaN</td>\n",
       "      <td>49.67</td>\n",
       "      <td>NaN</td>\n",
       "      <td>3.27</td>\n",
       "      <td>NaN</td>\n",
       "      <td>NaN</td>\n",
       "      <td>NaN</td>\n",
       "      <td>NaN</td>\n",
       "      <td>NaN</td>\n",
       "      <td>NaN</td>\n",
       "      <td>NaN</td>\n",
       "      <td>NaN</td>\n",
       "    </tr>\n",
       "    <tr>\n",
       "      <th>std</th>\n",
       "      <td>NaN</td>\n",
       "      <td>NaN</td>\n",
       "      <td>9.25e+09</td>\n",
       "      <td>NaN</td>\n",
       "      <td>NaN</td>\n",
       "      <td>155.67</td>\n",
       "      <td>NaN</td>\n",
       "      <td>7.64</td>\n",
       "      <td>NaN</td>\n",
       "      <td>NaN</td>\n",
       "      <td>NaN</td>\n",
       "      <td>NaN</td>\n",
       "      <td>NaN</td>\n",
       "      <td>NaN</td>\n",
       "      <td>NaN</td>\n",
       "      <td>NaN</td>\n",
       "    </tr>\n",
       "    <tr>\n",
       "      <th>min</th>\n",
       "      <td>NaN</td>\n",
       "      <td>NaN</td>\n",
       "      <td>2.01e+13</td>\n",
       "      <td>NaN</td>\n",
       "      <td>NaN</td>\n",
       "      <td>1.00</td>\n",
       "      <td>NaN</td>\n",
       "      <td>0.00</td>\n",
       "      <td>NaN</td>\n",
       "      <td>NaN</td>\n",
       "      <td>NaN</td>\n",
       "      <td>NaN</td>\n",
       "      <td>NaN</td>\n",
       "      <td>NaN</td>\n",
       "      <td>NaN</td>\n",
       "      <td>NaN</td>\n",
       "    </tr>\n",
       "    <tr>\n",
       "      <th>25%</th>\n",
       "      <td>NaN</td>\n",
       "      <td>NaN</td>\n",
       "      <td>2.01e+13</td>\n",
       "      <td>NaN</td>\n",
       "      <td>NaN</td>\n",
       "      <td>28.00</td>\n",
       "      <td>NaN</td>\n",
       "      <td>0.00</td>\n",
       "      <td>NaN</td>\n",
       "      <td>NaN</td>\n",
       "      <td>NaN</td>\n",
       "      <td>NaN</td>\n",
       "      <td>NaN</td>\n",
       "      <td>NaN</td>\n",
       "      <td>NaN</td>\n",
       "      <td>NaN</td>\n",
       "    </tr>\n",
       "    <tr>\n",
       "      <th>50%</th>\n",
       "      <td>NaN</td>\n",
       "      <td>NaN</td>\n",
       "      <td>2.01e+13</td>\n",
       "      <td>NaN</td>\n",
       "      <td>NaN</td>\n",
       "      <td>34.00</td>\n",
       "      <td>NaN</td>\n",
       "      <td>0.00</td>\n",
       "      <td>NaN</td>\n",
       "      <td>NaN</td>\n",
       "      <td>NaN</td>\n",
       "      <td>NaN</td>\n",
       "      <td>NaN</td>\n",
       "      <td>NaN</td>\n",
       "      <td>NaN</td>\n",
       "      <td>NaN</td>\n",
       "    </tr>\n",
       "    <tr>\n",
       "      <th>75%</th>\n",
       "      <td>NaN</td>\n",
       "      <td>NaN</td>\n",
       "      <td>2.01e+13</td>\n",
       "      <td>NaN</td>\n",
       "      <td>NaN</td>\n",
       "      <td>43.00</td>\n",
       "      <td>NaN</td>\n",
       "      <td>0.00</td>\n",
       "      <td>NaN</td>\n",
       "      <td>NaN</td>\n",
       "      <td>NaN</td>\n",
       "      <td>NaN</td>\n",
       "      <td>NaN</td>\n",
       "      <td>NaN</td>\n",
       "      <td>NaN</td>\n",
       "      <td>NaN</td>\n",
       "    </tr>\n",
       "    <tr>\n",
       "      <th>max</th>\n",
       "      <td>NaN</td>\n",
       "      <td>NaN</td>\n",
       "      <td>2.01e+13</td>\n",
       "      <td>NaN</td>\n",
       "      <td>NaN</td>\n",
       "      <td>2014.00</td>\n",
       "      <td>NaN</td>\n",
       "      <td>25.00</td>\n",
       "      <td>NaN</td>\n",
       "      <td>NaN</td>\n",
       "      <td>NaN</td>\n",
       "      <td>NaN</td>\n",
       "      <td>NaN</td>\n",
       "      <td>NaN</td>\n",
       "      <td>NaN</td>\n",
       "      <td>NaN</td>\n",
       "    </tr>\n",
       "  </tbody>\n",
       "</table>\n",
       "</div>"
      ],
      "text/plain": [
       "                id date_account_created  timestamp_first_active  \\\n",
       "count       213451               213451                2.13e+05   \n",
       "unique      213451                 1634                     NaN   \n",
       "top     gxn3p5htnn           2014-05-13                     NaN   \n",
       "freq             1                  674                     NaN   \n",
       "mean           NaN                  NaN                2.01e+13   \n",
       "std            NaN                  NaN                9.25e+09   \n",
       "min            NaN                  NaN                2.01e+13   \n",
       "25%            NaN                  NaN                2.01e+13   \n",
       "50%            NaN                  NaN                2.01e+13   \n",
       "75%            NaN                  NaN                2.01e+13   \n",
       "max            NaN                  NaN                2.01e+13   \n",
       "\n",
       "       date_first_booking     gender        age signup_method  signup_flow  \\\n",
       "count               88908     213451  125461.00        213451    213451.00   \n",
       "unique               1976          4        NaN             3          NaN   \n",
       "top            2014-05-22  -unknown-        NaN         basic          NaN   \n",
       "freq                  248      95688        NaN        152897          NaN   \n",
       "mean                  NaN        NaN      49.67           NaN         3.27   \n",
       "std                   NaN        NaN     155.67           NaN         7.64   \n",
       "min                   NaN        NaN       1.00           NaN         0.00   \n",
       "25%                   NaN        NaN      28.00           NaN         0.00   \n",
       "50%                   NaN        NaN      34.00           NaN         0.00   \n",
       "75%                   NaN        NaN      43.00           NaN         0.00   \n",
       "max                   NaN        NaN    2014.00           NaN        25.00   \n",
       "\n",
       "       language affiliate_channel affiliate_provider first_affiliate_tracked  \\\n",
       "count    213451            213451             213451                  207386   \n",
       "unique       25                 8                 18                       7   \n",
       "top          en            direct             direct               untracked   \n",
       "freq     206314            137727             137426                  109232   \n",
       "mean        NaN               NaN                NaN                     NaN   \n",
       "std         NaN               NaN                NaN                     NaN   \n",
       "min         NaN               NaN                NaN                     NaN   \n",
       "25%         NaN               NaN                NaN                     NaN   \n",
       "50%         NaN               NaN                NaN                     NaN   \n",
       "75%         NaN               NaN                NaN                     NaN   \n",
       "max         NaN               NaN                NaN                     NaN   \n",
       "\n",
       "       signup_app first_device_type first_browser country_destination  \n",
       "count      213451            213451        213451              213451  \n",
       "unique          4                 9            52                  12  \n",
       "top           Web       Mac Desktop        Chrome                 NDF  \n",
       "freq       182717             89600         63845              124543  \n",
       "mean          NaN               NaN           NaN                 NaN  \n",
       "std           NaN               NaN           NaN                 NaN  \n",
       "min           NaN               NaN           NaN                 NaN  \n",
       "25%           NaN               NaN           NaN                 NaN  \n",
       "50%           NaN               NaN           NaN                 NaN  \n",
       "75%           NaN               NaN           NaN                 NaN  \n",
       "max           NaN               NaN           NaN                 NaN  "
      ]
     },
     "execution_count": 15,
     "metadata": {},
     "output_type": "execute_result"
    }
   ],
   "source": [
    "train_users_df.describe(include='all')"
   ]
  },
  {
   "attachments": {},
   "cell_type": "markdown",
   "id": "186c96be",
   "metadata": {
    "id": "186c96be"
   },
   "source": [
    "### Checking for missing values"
   ]
  },
  {
   "cell_type": "code",
   "execution_count": 16,
   "id": "72c33e08",
   "metadata": {
    "colab": {
     "base_uri": "https://localhost:8080/"
    },
    "executionInfo": {
     "elapsed": 1654,
     "status": "ok",
     "timestamp": 1687538667956,
     "user": {
      "displayName": "Yasser Sakr",
      "userId": "15584901531651561141"
     },
     "user_tz": -180
    },
    "id": "72c33e08",
    "outputId": "b67c673d-4482-49ee-e6dd-f55cd09e58e1"
   },
   "outputs": [
    {
     "data": {
      "text/plain": [
       "id                              0\n",
       "date_account_created            0\n",
       "timestamp_first_active          0\n",
       "date_first_booking         124543\n",
       "gender                          0\n",
       "age                         87990\n",
       "signup_method                   0\n",
       "signup_flow                     0\n",
       "language                        0\n",
       "affiliate_channel               0\n",
       "affiliate_provider              0\n",
       "first_affiliate_tracked      6065\n",
       "signup_app                      0\n",
       "first_device_type               0\n",
       "first_browser                   0\n",
       "country_destination             0\n",
       "dtype: int64"
      ]
     },
     "execution_count": 16,
     "metadata": {},
     "output_type": "execute_result"
    }
   ],
   "source": [
    "train_users_df.isnull().sum()"
   ]
  },
  {
   "attachments": {},
   "cell_type": "markdown",
   "id": "9db68592",
   "metadata": {
    "id": "9db68592"
   },
   "source": [
    "## Exploring variables"
   ]
  },
  {
   "cell_type": "code",
   "execution_count": 17,
   "id": "c001fb54",
   "metadata": {
    "colab": {
     "base_uri": "https://localhost:8080/"
    },
    "executionInfo": {
     "elapsed": 371,
     "status": "ok",
     "timestamp": 1687538681765,
     "user": {
      "displayName": "Yasser Sakr",
      "userId": "15584901531651561141"
     },
     "user_tz": -180
    },
    "id": "c001fb54",
    "outputId": "43ab3c9f-7fde-4dd7-9a46-47efa3c03cd8"
   },
   "outputs": [
    {
     "data": {
      "text/plain": [
       "Index(['id', 'date_account_created', 'timestamp_first_active',\n",
       "       'date_first_booking', 'gender', 'age', 'signup_method', 'signup_flow',\n",
       "       'language', 'affiliate_channel', 'affiliate_provider',\n",
       "       'first_affiliate_tracked', 'signup_app', 'first_device_type',\n",
       "       'first_browser', 'country_destination'],\n",
       "      dtype='object')"
      ]
     },
     "execution_count": 17,
     "metadata": {},
     "output_type": "execute_result"
    }
   ],
   "source": [
    "train_users_df.columns"
   ]
  },
  {
   "attachments": {},
   "cell_type": "markdown",
   "id": "5195c20f",
   "metadata": {
    "id": "5195c20f"
   },
   "source": [
    "### 1. Numerical variables"
   ]
  },
  {
   "cell_type": "code",
   "execution_count": 18,
   "id": "af522f7d",
   "metadata": {
    "colab": {
     "base_uri": "https://localhost:8080/"
    },
    "executionInfo": {
     "elapsed": 8,
     "status": "ok",
     "timestamp": 1687538682073,
     "user": {
      "displayName": "Yasser Sakr",
      "userId": "15584901531651561141"
     },
     "user_tz": -180
    },
    "id": "af522f7d",
    "outputId": "bdcc69b2-4a83-4423-885d-629fa32bd640"
   },
   "outputs": [
    {
     "data": {
      "text/plain": [
       "Index(['timestamp_first_active', 'age', 'signup_flow'], dtype='object')"
      ]
     },
     "execution_count": 18,
     "metadata": {},
     "output_type": "execute_result"
    }
   ],
   "source": [
    "train_users_df.select_dtypes(exclude='object').columns"
   ]
  },
  {
   "attachments": {},
   "cell_type": "markdown",
   "id": "dc9eb919",
   "metadata": {
    "id": "dc9eb919"
   },
   "source": [
    "#### date_account_created, date_first_booking and timestamp_first_active"
   ]
  },
  {
   "attachments": {},
   "cell_type": "markdown",
   "id": "b9149366",
   "metadata": {
    "id": "b9149366"
   },
   "source": [
    "Convert `date_account_created`, `date_first_booking` and `timestamp_first_active` from `object` to `datetime` format"
   ]
  },
  {
   "cell_type": "code",
   "execution_count": 19,
   "id": "2935778a",
   "metadata": {
    "executionInfo": {
     "elapsed": 2904,
     "status": "ok",
     "timestamp": 1687538685895,
     "user": {
      "displayName": "Yasser Sakr",
      "userId": "15584901531651561141"
     },
     "user_tz": -180
    },
    "id": "2935778a"
   },
   "outputs": [],
   "source": [
    "train_users_df['date_account_created'] = pd.to_datetime(train_users_df['date_account_created'], format='%Y-%m-%d')\n",
    "train_users_df['date_first_booking'] = pd.to_datetime(train_users_df['date_first_booking'], format='%Y-%m-%d')\n",
    "train_users_df['timestamp_first_active'] = pd.to_datetime(train_users_df['timestamp_first_active'], format='%Y%m%d%H%M%S')"
   ]
  },
  {
   "cell_type": "code",
   "execution_count": 20,
   "id": "3137e73c",
   "metadata": {
    "colab": {
     "base_uri": "https://localhost:8080/"
    },
    "executionInfo": {
     "elapsed": 36,
     "status": "ok",
     "timestamp": 1687538685897,
     "user": {
      "displayName": "Yasser Sakr",
      "userId": "15584901531651561141"
     },
     "user_tz": -180
    },
    "id": "3137e73c",
    "outputId": "d7b970f0-9c02-4c1a-ac18-056034ecca31"
   },
   "outputs": [
    {
     "data": {
      "text/plain": [
       "Index(['date_account_created', 'timestamp_first_active', 'date_first_booking',\n",
       "       'age', 'signup_flow'],\n",
       "      dtype='object')"
      ]
     },
     "execution_count": 20,
     "metadata": {},
     "output_type": "execute_result"
    }
   ],
   "source": [
    "train_users_df.select_dtypes(exclude='object').columns"
   ]
  },
  {
   "attachments": {},
   "cell_type": "markdown",
   "id": "fe54b91b",
   "metadata": {
    "id": "fe54b91b"
   },
   "source": [
    "Extract `day`, `month` from `date_first_booking`"
   ]
  },
  {
   "cell_type": "code",
   "execution_count": 21,
   "id": "3c957363",
   "metadata": {
    "colab": {
     "base_uri": "https://localhost:8080/"
    },
    "executionInfo": {
     "elapsed": 33,
     "status": "ok",
     "timestamp": 1687538685898,
     "user": {
      "displayName": "Yasser Sakr",
      "userId": "15584901531651561141"
     },
     "user_tz": -180
    },
    "id": "3c957363",
    "outputId": "ac50d031-233a-450d-a8a0-81224e670f8d"
   },
   "outputs": [
    {
     "data": {
      "text/plain": [
       "array([nan, 'Monday', 'Saturday', 'Thursday', 'Tuesday', 'Wednesday',\n",
       "       'Friday', 'Sunday'], dtype=object)"
      ]
     },
     "execution_count": 21,
     "metadata": {},
     "output_type": "execute_result"
    }
   ],
   "source": [
    "train_users_df['day_first_booking'] = train_users_df['date_first_booking'].dt.day_name()\n",
    "train_users_df['day_first_booking'].unique()"
   ]
  },
  {
   "cell_type": "code",
   "execution_count": 22,
   "id": "1ea46c8e",
   "metadata": {
    "colab": {
     "base_uri": "https://localhost:8080/",
     "height": 467
    },
    "executionInfo": {
     "elapsed": 27,
     "status": "ok",
     "timestamp": 1687538685900,
     "user": {
      "displayName": "Yasser Sakr",
      "userId": "15584901531651561141"
     },
     "user_tz": -180
    },
    "id": "1ea46c8e",
    "outputId": "34419d79-7b9b-48d1-e246-23a5d2705f87"
   },
   "outputs": [
    {
     "data": {
      "text/plain": [
       "<Axes: xlabel='day_first_booking', ylabel='count'>"
      ]
     },
     "execution_count": 22,
     "metadata": {},
     "output_type": "execute_result"
    },
    {
     "data": {
      "image/png": "[encoded data removed]",
      "text/plain": [
       "<Figure size 640x480 with 1 Axes>"
      ]
     },
     "metadata": {},
     "output_type": "display_data"
    }
   ],
   "source": [
    "day_order = ['Monday', 'Tuesday', 'Wednesday', 'Thursday', 'Friday', 'Saturday', 'Sunday']\n",
    "sns.countplot(x = train_users_df['day_first_booking'], order = day_order)"
   ]
  },
  {
   "cell_type": "code",
   "execution_count": 23,
   "id": "a4632e5c",
   "metadata": {
    "colab": {
     "base_uri": "https://localhost:8080/"
    },
    "executionInfo": {
     "elapsed": 20,
     "status": "ok",
     "timestamp": 1687538685901,
     "user": {
      "displayName": "Yasser Sakr",
      "userId": "15584901531651561141"
     },
     "user_tz": -180
    },
    "id": "a4632e5c",
    "outputId": "3271db58-a349-48d6-f9fa-7dc24e5f8f74"
   },
   "outputs": [
    {
     "data": {
      "text/plain": [
       "array([nan, 'August', 'September', 'February', 'January', 'July',\n",
       "       'December', 'March', 'June', 'April', 'May', 'October', 'November'],\n",
       "      dtype=object)"
      ]
     },
     "execution_count": 23,
     "metadata": {},
     "output_type": "execute_result"
    }
   ],
   "source": [
    "train_users_df['month_first_booking'] = train_users_df['date_first_booking'].dt.month_name()\n",
    "train_users_df['month_first_booking'].unique()"
   ]
  },
  {
   "cell_type": "code",
   "execution_count": 24,
   "id": "6e2f3a1b",
   "metadata": {
    "colab": {
     "base_uri": "https://localhost:8080/",
     "height": 405
    },
    "executionInfo": {
     "elapsed": 594,
     "status": "ok",
     "timestamp": 1687538686479,
     "user": {
      "displayName": "Yasser Sakr",
      "userId": "15584901531651561141"
     },
     "user_tz": -180
    },
    "id": "6e2f3a1b",
    "outputId": "4b41f184-4324-41cd-f9d7-8b21a731b397"
   },
   "outputs": [
    {
     "data": {
      "text/plain": [
       "<Axes: xlabel='month_first_booking', ylabel='count'>"
      ]
     },
     "execution_count": 24,
     "metadata": {},
     "output_type": "execute_result"
    },
    {
     "data": {
      "image/png": "[encoded data removed]",
      "text/plain": [
       "<Figure size 1200x400 with 1 Axes>"
      ]
     },
     "metadata": {},
     "output_type": "display_data"
    }
   ],
   "source": [
    "month_order = ['January', 'February',  'March', 'April', 'May', 'June', 'July', 'August', 'September', 'October', 'November', 'December']\n",
    "plt.figure(figsize=(12,4))\n",
    "sns.countplot(x = train_users_df['month_first_booking'], order = month_order)"
   ]
  },
  {
   "attachments": {},
   "cell_type": "markdown",
   "id": "b1053829",
   "metadata": {
    "id": "b1053829"
   },
   "source": [
    "Extract `hour` from `timestamp_first_active` to check when airbnb member are active around day time"
   ]
  },
  {
   "cell_type": "code",
   "execution_count": 25,
   "id": "3ad93b20",
   "metadata": {
    "colab": {
     "base_uri": "https://localhost:8080/"
    },
    "executionInfo": {
     "elapsed": 26,
     "status": "ok",
     "timestamp": 1687538689394,
     "user": {
      "displayName": "Yasser Sakr",
      "userId": "15584901531651561141"
     },
     "user_tz": -180
    },
    "id": "3ad93b20",
    "outputId": "630e39b1-1bdb-4db7-b9bc-2639ac925893"
   },
   "outputs": [
    {
     "data": {
      "text/plain": [
       "array([ 4, 17, 23,  6, 21,  1, 19,  0,  2,  5,  8, 20, 22, 15,  3, 13,  7,\n",
       "       18,  9, 10, 16, 12, 11, 14])"
      ]
     },
     "execution_count": 25,
     "metadata": {},
     "output_type": "execute_result"
    }
   ],
   "source": [
    "train_users_df['hour_first_active'] = train_users_df['timestamp_first_active'].dt.hour\n",
    "train_users_df['hour_first_active'].unique()"
   ]
  },
  {
   "cell_type": "code",
   "execution_count": 26,
   "id": "3d108c3e",
   "metadata": {
    "colab": {
     "base_uri": "https://localhost:8080/",
     "height": 405
    },
    "executionInfo": {
     "elapsed": 6170,
     "status": "ok",
     "timestamp": 1687538695545,
     "user": {
      "displayName": "Yasser Sakr",
      "userId": "15584901531651561141"
     },
     "user_tz": -180
    },
    "id": "3d108c3e",
    "outputId": "c4017661-a2ba-48d2-8471-2521bcdfb40c"
   },
   "outputs": [
    {
     "data": {
      "text/plain": [
       "<Axes: xlabel='hour_first_active', ylabel='count'>"
      ]
     },
     "execution_count": 26,
     "metadata": {},
     "output_type": "execute_result"
    },
    {
     "data": {
      "image/png": "[encoded data removed]",
      "text/plain": [
       "<Figure size 1200x400 with 1 Axes>"
      ]
     },
     "metadata": {},
     "output_type": "display_data"
    }
   ],
   "source": [
    "plt.figure(figsize=(12,4))\n",
    "sns.countplot(x = train_users_df['hour_first_active'])"
   ]
  },
  {
   "attachments": {},
   "cell_type": "markdown",
   "id": "9352985d",
   "metadata": {
    "id": "9352985d"
   },
   "source": [
    "#### Age"
   ]
  },
  {
   "cell_type": "code",
   "execution_count": 27,
   "id": "8a6bd9a6",
   "metadata": {
    "colab": {
     "base_uri": "https://localhost:8080/"
    },
    "executionInfo": {
     "elapsed": 32,
     "status": "ok",
     "timestamp": 1687538695546,
     "user": {
      "displayName": "Yasser Sakr",
      "userId": "15584901531651561141"
     },
     "user_tz": -180
    },
    "id": "8a6bd9a6",
    "outputId": "db267f59-01e8-4c1f-8897-d7b1c975ace6"
   },
   "outputs": [
    {
     "data": {
      "text/plain": [
       "count    125461.00\n",
       "mean         49.67\n",
       "std         155.67\n",
       "min           1.00\n",
       "25%          28.00\n",
       "50%          34.00\n",
       "75%          43.00\n",
       "max        2014.00\n",
       "Name: age, dtype: float64"
      ]
     },
     "execution_count": 27,
     "metadata": {},
     "output_type": "execute_result"
    }
   ],
   "source": [
    "train_users_df['age'].describe()"
   ]
  },
  {
   "attachments": {},
   "cell_type": "markdown",
   "id": "016ab808",
   "metadata": {
    "id": "016ab808"
   },
   "source": [
    "As we see from descriptive statistics of the **`age`**, the max value is **`2014`** which I think is wrong input (birth date instaed of age) so I will try to corret these values to avoid outliers."
   ]
  },
  {
   "cell_type": "code",
   "execution_count": 28,
   "id": "90753cc7",
   "metadata": {
    "executionInfo": {
     "elapsed": 1362,
     "status": "ok",
     "timestamp": 1687538696884,
     "user": {
      "displayName": "Yasser Sakr",
      "userId": "15584901531651561141"
     },
     "user_tz": -180
    },
    "id": "90753cc7"
   },
   "outputs": [],
   "source": [
    "for i in range(train_users_df.shape[0]):\n",
    "    if train_users_df.loc[i, 'age'] > 150:\n",
    "        train_users_df.loc[i, 'age'] = train_users_df.loc[i, 'date_account_created'].year - train_users_df.loc[i, 'age']"
   ]
  },
  {
   "cell_type": "code",
   "execution_count": 29,
   "id": "e81696b2",
   "metadata": {
    "colab": {
     "base_uri": "https://localhost:8080/"
    },
    "executionInfo": {
     "elapsed": 102,
     "status": "ok",
     "timestamp": 1687538696885,
     "user": {
      "displayName": "Yasser Sakr",
      "userId": "15584901531651561141"
     },
     "user_tz": -180
    },
    "id": "e81696b2",
    "outputId": "5c8a2ed2-18d5-4493-db25-f3bc0d8ad940"
   },
   "outputs": [
    {
     "data": {
      "text/plain": [
       "array([], dtype=float64)"
      ]
     },
     "execution_count": 29,
     "metadata": {},
     "output_type": "execute_result"
    }
   ],
   "source": [
    "train_users_df['age'][train_users_df['age'] > 150].unique()"
   ]
  },
  {
   "cell_type": "code",
   "execution_count": 30,
   "id": "a55b689e",
   "metadata": {
    "colab": {
     "base_uri": "https://localhost:8080/",
     "height": 523
    },
    "executionInfo": {
     "elapsed": 96,
     "status": "ok",
     "timestamp": 1687538696886,
     "user": {
      "displayName": "Yasser Sakr",
      "userId": "15584901531651561141"
     },
     "user_tz": -180
    },
    "id": "a55b689e",
    "outputId": "b02c78d8-8d14-45f7-d031-a9abc25bd2be"
   },
   "outputs": [
    {
     "name": "stderr",
     "output_type": "stream",
     "text": [
      "C:\\Users\\Yasser-Sakr\\AppData\\Local\\Programs\\Python\\Python311\\Lib\\site-packages\\seaborn\\axisgrid.py:118: UserWarning: The figure layout has changed to tight\n",
      "  self._figure.tight_layout(*args, **kwargs)\n"
     ]
    },
    {
     "data": {
      "text/plain": [
       "<seaborn.axisgrid.FacetGrid at 0x2a0c31ff310>"
      ]
     },
     "execution_count": 30,
     "metadata": {},
     "output_type": "execute_result"
    },
    {
     "data": {
      "image/png": "[encoded data removed]",
      "text/plain": [
       "<Figure size 500x500 with 1 Axes>"
      ]
     },
     "metadata": {},
     "output_type": "display_data"
    }
   ],
   "source": [
    "sns.displot(train_users_df['age'], kde=True)"
   ]
  },
  {
   "cell_type": "code",
   "execution_count": 31,
   "id": "ce6ec402",
   "metadata": {
    "colab": {
     "base_uri": "https://localhost:8080/"
    },
    "executionInfo": {
     "elapsed": 89,
     "status": "ok",
     "timestamp": 1687538696888,
     "user": {
      "displayName": "Yasser Sakr",
      "userId": "15584901531651561141"
     },
     "user_tz": -180
    },
    "id": "ce6ec402",
    "outputId": "085377fc-22f1-4cb7-ebf3-026b63bdce73"
   },
   "outputs": [
    {
     "data": {
      "text/plain": [
       "count    125461.00\n",
       "mean         37.19\n",
       "std          14.25\n",
       "min          -4.00\n",
       "25%          28.00\n",
       "50%          34.00\n",
       "75%          43.00\n",
       "max         150.00\n",
       "Name: age, dtype: float64"
      ]
     },
     "execution_count": 31,
     "metadata": {},
     "output_type": "execute_result"
    }
   ],
   "source": [
    "train_users_df['age'].describe()"
   ]
  },
  {
   "cell_type": "code",
   "execution_count": 32,
   "id": "83e95fbf",
   "metadata": {
    "colab": {
     "base_uri": "https://localhost:8080/",
     "height": 523
    },
    "executionInfo": {
     "elapsed": 88,
     "status": "ok",
     "timestamp": 1687538696890,
     "user": {
      "displayName": "Yasser Sakr",
      "userId": "15584901531651561141"
     },
     "user_tz": -180
    },
    "id": "83e95fbf",
    "outputId": "124b8c72-411e-46d0-f2fc-f24af754c05f"
   },
   "outputs": [
    {
     "name": "stderr",
     "output_type": "stream",
     "text": [
      "C:\\Users\\Yasser-Sakr\\AppData\\Local\\Programs\\Python\\Python311\\Lib\\site-packages\\seaborn\\axisgrid.py:118: UserWarning: The figure layout has changed to tight\n",
      "  self._figure.tight_layout(*args, **kwargs)\n"
     ]
    },
    {
     "data": {
      "text/plain": [
       "<seaborn.axisgrid.FacetGrid at 0x2a0c3edb6d0>"
      ]
     },
     "execution_count": 32,
     "metadata": {},
     "output_type": "execute_result"
    },
    {
     "data": {
      "image/png": "[encoded data removed]",
      "text/plain": [
       "<Figure size 500x500 with 1 Axes>"
      ]
     },
     "metadata": {},
     "output_type": "display_data"
    }
   ],
   "source": [
    "train_users_df.loc[train_users_df['age'] > 100, 'age'] = np.nan\n",
    "train_users_df.loc[train_users_df['age'] < 18, 'age'] = np.nan\n",
    "sns.displot(train_users_df['age'], kde=True)"
   ]
  },
  {
   "cell_type": "code",
   "execution_count": 33,
   "id": "2fa6a619",
   "metadata": {
    "colab": {
     "base_uri": "https://localhost:8080/"
    },
    "executionInfo": {
     "elapsed": 83,
     "status": "ok",
     "timestamp": 1687538696891,
     "user": {
      "displayName": "Yasser Sakr",
      "userId": "15584901531651561141"
     },
     "user_tz": -180
    },
    "id": "2fa6a619",
    "outputId": "6c52adc2-347c-4498-97b9-01a2218422b8"
   },
   "outputs": [
    {
     "data": {
      "text/plain": [
       "count    122987.00\n",
       "mean         36.58\n",
       "std          11.70\n",
       "min          18.00\n",
       "25%          28.00\n",
       "50%          34.00\n",
       "75%          42.00\n",
       "max         100.00\n",
       "Name: age, dtype: float64"
      ]
     },
     "execution_count": 33,
     "metadata": {},
     "output_type": "execute_result"
    }
   ],
   "source": [
    "train_users_df['age'].describe()"
   ]
  },
  {
   "cell_type": "code",
   "execution_count": 34,
   "id": "6de50cd1",
   "metadata": {
    "colab": {
     "base_uri": "https://localhost:8080/"
    },
    "executionInfo": {
     "elapsed": 81,
     "status": "ok",
     "timestamp": 1687538696892,
     "user": {
      "displayName": "Yasser Sakr",
      "userId": "15584901531651561141"
     },
     "user_tz": -180
    },
    "id": "6de50cd1",
    "outputId": "9fe63574-cd17-48c7-efd5-37726c60a1d0"
   },
   "outputs": [
    {
     "data": {
      "text/plain": [
       "90464"
      ]
     },
     "execution_count": 34,
     "metadata": {},
     "output_type": "execute_result"
    }
   ],
   "source": [
    "train_users_df['age'].isnull().sum()"
   ]
  },
  {
   "attachments": {},
   "cell_type": "markdown",
   "id": "445d85db",
   "metadata": {
    "id": "445d85db"
   },
   "source": [
    "As we see, **`age`** column has **90804** missing values, about **42.5%** of the dataset but **`age`** is an important feature in prediction process so i will use **`miceforest`** to fill age column later."
   ]
  },
  {
   "attachments": {},
   "cell_type": "markdown",
   "id": "c9c51ddf",
   "metadata": {
    "id": "c9c51ddf"
   },
   "source": [
    "#### signup_flow"
   ]
  },
  {
   "cell_type": "code",
   "execution_count": 35,
   "id": "104c40bd",
   "metadata": {
    "colab": {
     "base_uri": "https://localhost:8080/"
    },
    "executionInfo": {
     "elapsed": 78,
     "status": "ok",
     "timestamp": 1687538696893,
     "user": {
      "displayName": "Yasser Sakr",
      "userId": "15584901531651561141"
     },
     "user_tz": -180
    },
    "id": "104c40bd",
    "outputId": "07f52dde-54ec-4e41-f542-a45cb0852c47"
   },
   "outputs": [
    {
     "data": {
      "text/plain": [
       "array([ 0,  3,  2,  1, 24,  8,  6,  5, 10, 25, 12,  4, 16, 15, 20, 21, 23],\n",
       "      dtype=int64)"
      ]
     },
     "execution_count": 35,
     "metadata": {},
     "output_type": "execute_result"
    }
   ],
   "source": [
    "train_users_df['signup_flow'].unique()"
   ]
  },
  {
   "cell_type": "code",
   "execution_count": 36,
   "id": "632f9a2c",
   "metadata": {
    "executionInfo": {
     "elapsed": 77,
     "status": "ok",
     "timestamp": 1687538696896,
     "user": {
      "displayName": "Yasser Sakr",
      "userId": "15584901531651561141"
     },
     "user_tz": -180
    },
    "id": "632f9a2c"
   },
   "outputs": [],
   "source": [
    "#train_users_df['signup_flow'] = train_users_df['signup_flow'].astype('str')"
   ]
  },
  {
   "cell_type": "code",
   "execution_count": 37,
   "id": "64960a23",
   "metadata": {
    "colab": {
     "base_uri": "https://localhost:8080/",
     "height": 467
    },
    "executionInfo": {
     "elapsed": 77,
     "status": "ok",
     "timestamp": 1687538696897,
     "user": {
      "displayName": "Yasser Sakr",
      "userId": "15584901531651561141"
     },
     "user_tz": -180
    },
    "id": "64960a23",
    "outputId": "e531d268-60f1-4540-f4f1-4067e16bc79b"
   },
   "outputs": [
    {
     "data": {
      "text/plain": [
       "<Axes: xlabel='signup_flow', ylabel='count'>"
      ]
     },
     "execution_count": 37,
     "metadata": {},
     "output_type": "execute_result"
    },
    {
     "data": {
      "image/png": "[encoded data removed]",
      "text/plain": [
       "<Figure size 640x480 with 1 Axes>"
      ]
     },
     "metadata": {},
     "output_type": "display_data"
    }
   ],
   "source": [
    "sns.countplot(x=train_users_df['signup_flow'])"
   ]
  },
  {
   "attachments": {},
   "cell_type": "markdown",
   "id": "752d4c79",
   "metadata": {
    "id": "752d4c79"
   },
   "source": [
    "### 3. Categorical variables"
   ]
  },
  {
   "cell_type": "code",
   "execution_count": 38,
   "id": "08494356",
   "metadata": {
    "colab": {
     "base_uri": "https://localhost:8080/"
    },
    "executionInfo": {
     "elapsed": 73,
     "status": "ok",
     "timestamp": 1687538696898,
     "user": {
      "displayName": "Yasser Sakr",
      "userId": "15584901531651561141"
     },
     "user_tz": -180
    },
    "id": "08494356",
    "outputId": "bb8f31b3-6d2a-4a9f-fd50-4921e7ff5e46"
   },
   "outputs": [
    {
     "data": {
      "text/plain": [
       "array(['id', 'gender', 'signup_method', 'language', 'affiliate_channel',\n",
       "       'affiliate_provider', 'first_affiliate_tracked', 'signup_app',\n",
       "       'first_device_type', 'first_browser', 'country_destination',\n",
       "       'day_first_booking', 'month_first_booking'], dtype=object)"
      ]
     },
     "execution_count": 38,
     "metadata": {},
     "output_type": "execute_result"
    }
   ],
   "source": [
    "cat_variables = train_users_df.select_dtypes(include='object').columns.values\n",
    "cat_variables"
   ]
  },
  {
   "attachments": {},
   "cell_type": "markdown",
   "id": "46949afc",
   "metadata": {
    "id": "46949afc"
   },
   "source": [
    "#### Gender"
   ]
  },
  {
   "cell_type": "code",
   "execution_count": 39,
   "id": "b85dfdc2",
   "metadata": {
    "colab": {
     "base_uri": "https://localhost:8080/",
     "height": 470
    },
    "executionInfo": {
     "elapsed": 71,
     "status": "ok",
     "timestamp": 1687538696899,
     "user": {
      "displayName": "Yasser Sakr",
      "userId": "15584901531651561141"
     },
     "user_tz": -180
    },
    "id": "b85dfdc2",
    "outputId": "d1ad35d1-ea5c-44d1-ba6e-85f1a904dad8"
   },
   "outputs": [
    {
     "data": {
      "text/plain": [
       "<Axes: xlabel='gender', ylabel='count'>"
      ]
     },
     "execution_count": 39,
     "metadata": {},
     "output_type": "execute_result"
    },
    {
     "data": {
      "image/png": "[encoded data removed]",
      "text/plain": [
       "<Figure size 640x480 with 1 Axes>"
      ]
     },
     "metadata": {},
     "output_type": "display_data"
    }
   ],
   "source": [
    "sns.countplot(x=train_users_df['gender'])"
   ]
  },
  {
   "cell_type": "code",
   "execution_count": 40,
   "id": "74f02d98",
   "metadata": {
    "colab": {
     "base_uri": "https://localhost:8080/"
    },
    "executionInfo": {
     "elapsed": 66,
     "status": "ok",
     "timestamp": 1687538696899,
     "user": {
      "displayName": "Yasser Sakr",
      "userId": "15584901531651561141"
     },
     "user_tz": -180
    },
    "id": "74f02d98",
    "outputId": "ef396e8c-6586-49a0-a468-47370a36ae79"
   },
   "outputs": [
    {
     "data": {
      "text/plain": [
       "gender\n",
       "-unknown-    95688\n",
       "FEMALE       63041\n",
       "MALE         54440\n",
       "OTHER          282\n",
       "Name: count, dtype: int64"
      ]
     },
     "execution_count": 40,
     "metadata": {},
     "output_type": "execute_result"
    }
   ],
   "source": [
    "train_users_df['gender'].value_counts()"
   ]
  },
  {
   "cell_type": "code",
   "execution_count": 41,
   "id": "390c612b",
   "metadata": {
    "executionInfo": {
     "elapsed": 66,
     "status": "ok",
     "timestamp": 1687538696902,
     "user": {
      "displayName": "Yasser Sakr",
      "userId": "15584901531651561141"
     },
     "user_tz": -180
    },
    "id": "390c612b"
   },
   "outputs": [],
   "source": [
    "train_users_df['gender'].replace({'-unknown-':np.nan, 'FEMALE':'female', 'MALE':'male', 'OTHER':np.nan}, inplace=True)"
   ]
  },
  {
   "cell_type": "code",
   "execution_count": 42,
   "id": "eb232ff9",
   "metadata": {
    "colab": {
     "base_uri": "https://localhost:8080/"
    },
    "executionInfo": {
     "elapsed": 67,
     "status": "ok",
     "timestamp": 1687538696903,
     "user": {
      "displayName": "Yasser Sakr",
      "userId": "15584901531651561141"
     },
     "user_tz": -180
    },
    "id": "eb232ff9",
    "outputId": "2bac8466-d115-4579-b6a5-f75a25b5aee0"
   },
   "outputs": [
    {
     "data": {
      "text/plain": [
       "95970"
      ]
     },
     "execution_count": 42,
     "metadata": {},
     "output_type": "execute_result"
    }
   ],
   "source": [
    "train_users_df['gender'].isnull().sum()"
   ]
  },
  {
   "attachments": {},
   "cell_type": "markdown",
   "id": "894d21fe",
   "metadata": {
    "id": "894d21fe"
   },
   "source": [
    "As we see, **`gender`** column has 95970 missing values, about **44.9%** of the dataset but **`gender`** is an important feature in prediction process so i will use **`miceforest`** to fill age column later."
   ]
  },
  {
   "cell_type": "code",
   "execution_count": 43,
   "id": "d85d2485",
   "metadata": {
    "colab": {
     "base_uri": "https://localhost:8080/",
     "height": 466
    },
    "executionInfo": {
     "elapsed": 65,
     "status": "ok",
     "timestamp": 1687538696904,
     "user": {
      "displayName": "Yasser Sakr",
      "userId": "15584901531651561141"
     },
     "user_tz": -180
    },
    "id": "d85d2485",
    "outputId": "9cb37913-c4cb-4152-d336-bb5efcea1798"
   },
   "outputs": [
    {
     "data": {
      "text/plain": [
       "<Axes: xlabel='gender', ylabel='count'>"
      ]
     },
     "execution_count": 43,
     "metadata": {},
     "output_type": "execute_result"
    },
    {
     "data": {
      "image/png": "[encoded data removed]",
      "text/plain": [
       "<Figure size 640x480 with 1 Axes>"
      ]
     },
     "metadata": {},
     "output_type": "display_data"
    }
   ],
   "source": [
    "sns.countplot(x=train_users_df['gender'])"
   ]
  },
  {
   "attachments": {},
   "cell_type": "markdown",
   "id": "55d109b8",
   "metadata": {
    "id": "55d109b8"
   },
   "source": [
    "#### Signup method"
   ]
  },
  {
   "cell_type": "code",
   "execution_count": 44,
   "id": "f6290041",
   "metadata": {
    "colab": {
     "base_uri": "https://localhost:8080/",
     "height": 471
    },
    "executionInfo": {
     "elapsed": 590,
     "status": "ok",
     "timestamp": 1687538697434,
     "user": {
      "displayName": "Yasser Sakr",
      "userId": "15584901531651561141"
     },
     "user_tz": -180
    },
    "id": "f6290041",
    "outputId": "be1903e5-c20f-492a-c797-4a7734a24e88"
   },
   "outputs": [
    {
     "data": {
      "text/plain": [
       "<Axes: xlabel='signup_method', ylabel='count'>"
      ]
     },
     "execution_count": 44,
     "metadata": {},
     "output_type": "execute_result"
    },
    {
     "data": {
      "image/png": "[encoded data removed]",
      "text/plain": [
       "<Figure size 640x480 with 1 Axes>"
      ]
     },
     "metadata": {},
     "output_type": "display_data"
    }
   ],
   "source": [
    "sns.countplot(x=train_users_df['signup_method'])"
   ]
  },
  {
   "cell_type": "code",
   "execution_count": 45,
   "id": "33df99f4",
   "metadata": {
    "colab": {
     "base_uri": "https://localhost:8080/"
    },
    "executionInfo": {
     "elapsed": 9,
     "status": "ok",
     "timestamp": 1687538697435,
     "user": {
      "displayName": "Yasser Sakr",
      "userId": "15584901531651561141"
     },
     "user_tz": -180
    },
    "id": "33df99f4",
    "outputId": "c5da4156-86cc-4ffb-a4c0-e0a6d25a3354"
   },
   "outputs": [
    {
     "data": {
      "text/plain": [
       "signup_method\n",
       "basic       152897\n",
       "facebook     60008\n",
       "google         546\n",
       "Name: count, dtype: int64"
      ]
     },
     "execution_count": 45,
     "metadata": {},
     "output_type": "execute_result"
    }
   ],
   "source": [
    "train_users_df['signup_method'].value_counts()"
   ]
  },
  {
   "attachments": {},
   "cell_type": "markdown",
   "id": "42dd0cc4",
   "metadata": {
    "id": "42dd0cc4"
   },
   "source": [
    "#### Language"
   ]
  },
  {
   "cell_type": "code",
   "execution_count": 46,
   "id": "b9968ccf",
   "metadata": {
    "colab": {
     "base_uri": "https://localhost:8080/",
     "height": 466
    },
    "executionInfo": {
     "elapsed": 753,
     "status": "ok",
     "timestamp": 1687538698181,
     "user": {
      "displayName": "Yasser Sakr",
      "userId": "15584901531651561141"
     },
     "user_tz": -180
    },
    "id": "b9968ccf",
    "outputId": "842af146-ec15-413a-cd41-2e30ffb8d1ab"
   },
   "outputs": [
    {
     "data": {
      "text/plain": [
       "<Axes: xlabel='language', ylabel='count'>"
      ]
     },
     "execution_count": 46,
     "metadata": {},
     "output_type": "execute_result"
    },
    {
     "data": {
      "image/png": "[encoded data removed]",
      "text/plain": [
       "<Figure size 640x480 with 1 Axes>"
      ]
     },
     "metadata": {},
     "output_type": "display_data"
    }
   ],
   "source": [
    "sns.countplot(x=train_users_df['language'])"
   ]
  },
  {
   "cell_type": "code",
   "execution_count": 47,
   "id": "1e7f59ba",
   "metadata": {
    "colab": {
     "base_uri": "https://localhost:8080/"
    },
    "executionInfo": {
     "elapsed": 28,
     "status": "ok",
     "timestamp": 1687538698182,
     "user": {
      "displayName": "Yasser Sakr",
      "userId": "15584901531651561141"
     },
     "user_tz": -180
    },
    "id": "1e7f59ba",
    "outputId": "87f19b0a-4794-4c0d-aa58-c2a34b8f64f7"
   },
   "outputs": [
    {
     "data": {
      "text/plain": [
       "language\n",
       "en    206314\n",
       "zh      1632\n",
       "fr      1172\n",
       "es       915\n",
       "ko       747\n",
       "Name: count, dtype: int64"
      ]
     },
     "execution_count": 47,
     "metadata": {},
     "output_type": "execute_result"
    }
   ],
   "source": [
    "train_users_df['language'].value_counts()[:5]"
   ]
  },
  {
   "attachments": {},
   "cell_type": "markdown",
   "id": "af79707b",
   "metadata": {
    "id": "af79707b"
   },
   "source": [
    "#### Affiliate channel"
   ]
  },
  {
   "cell_type": "code",
   "execution_count": 48,
   "id": "fe1d3b81",
   "metadata": {
    "colab": {
     "base_uri": "https://localhost:8080/",
     "height": 466
    },
    "executionInfo": {
     "elapsed": 472,
     "status": "ok",
     "timestamp": 1687538698629,
     "user": {
      "displayName": "Yasser Sakr",
      "userId": "15584901531651561141"
     },
     "user_tz": -180
    },
    "id": "fe1d3b81",
    "outputId": "56e828df-8e2f-4a0f-e7a3-279c95c121e7"
   },
   "outputs": [
    {
     "data": {
      "text/plain": [
       "<Axes: xlabel='count', ylabel='affiliate_channel'>"
      ]
     },
     "execution_count": 48,
     "metadata": {},
     "output_type": "execute_result"
    },
    {
     "data": {
      "image/png": "[encoded data removed]",
      "text/plain": [
       "<Figure size 640x480 with 1 Axes>"
      ]
     },
     "metadata": {},
     "output_type": "display_data"
    }
   ],
   "source": [
    "sns.countplot(y=train_users_df['affiliate_channel'])"
   ]
  },
  {
   "cell_type": "code",
   "execution_count": 49,
   "id": "a9a31ce0",
   "metadata": {
    "colab": {
     "base_uri": "https://localhost:8080/"
    },
    "executionInfo": {
     "elapsed": 29,
     "status": "ok",
     "timestamp": 1687538698632,
     "user": {
      "displayName": "Yasser Sakr",
      "userId": "15584901531651561141"
     },
     "user_tz": -180
    },
    "id": "a9a31ce0",
    "outputId": "05bed8a2-7ba0-49b0-cf8d-6a7f7e9894e9"
   },
   "outputs": [
    {
     "data": {
      "text/plain": [
       "affiliate_channel\n",
       "direct           137727\n",
       "sem-brand         26045\n",
       "sem-non-brand     18844\n",
       "other              8961\n",
       "seo                8663\n",
       "api                8167\n",
       "content            3948\n",
       "remarketing        1096\n",
       "Name: count, dtype: int64"
      ]
     },
     "execution_count": 49,
     "metadata": {},
     "output_type": "execute_result"
    }
   ],
   "source": [
    "train_users_df['affiliate_channel'].value_counts()"
   ]
  },
  {
   "attachments": {},
   "cell_type": "markdown",
   "id": "454f3dd3",
   "metadata": {
    "id": "454f3dd3"
   },
   "source": [
    "#### Affiliate provider"
   ]
  },
  {
   "cell_type": "code",
   "execution_count": 50,
   "id": "ffc8f404",
   "metadata": {
    "colab": {
     "base_uri": "https://localhost:8080/",
     "height": 466
    },
    "executionInfo": {
     "elapsed": 25,
     "status": "ok",
     "timestamp": 1687538698633,
     "user": {
      "displayName": "Yasser Sakr",
      "userId": "15584901531651561141"
     },
     "user_tz": -180
    },
    "id": "ffc8f404",
    "outputId": "540e3b4e-2762-44fd-8011-de2b86dcd8ff"
   },
   "outputs": [
    {
     "data": {
      "text/plain": [
       "<Axes: xlabel='count', ylabel='affiliate_provider'>"
      ]
     },
     "execution_count": 50,
     "metadata": {},
     "output_type": "execute_result"
    },
    {
     "data": {
      "image/png": "[encoded data removed]",
      "text/plain": [
       "<Figure size 640x480 with 1 Axes>"
      ]
     },
     "metadata": {},
     "output_type": "display_data"
    }
   ],
   "source": [
    "sns.countplot(y=train_users_df['affiliate_provider'])"
   ]
  },
  {
   "cell_type": "code",
   "execution_count": 51,
   "id": "ab4177e6",
   "metadata": {
    "colab": {
     "base_uri": "https://localhost:8080/"
    },
    "executionInfo": {
     "elapsed": 18,
     "status": "ok",
     "timestamp": 1687538698635,
     "user": {
      "displayName": "Yasser Sakr",
      "userId": "15584901531651561141"
     },
     "user_tz": -180
    },
    "id": "ab4177e6",
    "outputId": "8f1dac50-21c9-4aab-c7da-e3edea251cba"
   },
   "outputs": [
    {
     "data": {
      "text/plain": [
       "affiliate_provider\n",
       "direct        137426\n",
       "google         51693\n",
       "other          12549\n",
       "craigslist      3471\n",
       "bing            2328\n",
       "Name: count, dtype: int64"
      ]
     },
     "execution_count": 51,
     "metadata": {},
     "output_type": "execute_result"
    }
   ],
   "source": [
    "train_users_df['affiliate_provider'].value_counts()[:5]"
   ]
  },
  {
   "attachments": {},
   "cell_type": "markdown",
   "id": "e184f71f",
   "metadata": {
    "id": "e184f71f"
   },
   "source": [
    "#### First affiliate tracked"
   ]
  },
  {
   "cell_type": "code",
   "execution_count": 52,
   "id": "22e0c58e",
   "metadata": {
    "colab": {
     "base_uri": "https://localhost:8080/",
     "height": 466
    },
    "executionInfo": {
     "elapsed": 410,
     "status": "ok",
     "timestamp": 1687538699524,
     "user": {
      "displayName": "Yasser Sakr",
      "userId": "15584901531651561141"
     },
     "user_tz": -180
    },
    "id": "22e0c58e",
    "outputId": "646b5a6c-a557-4b0f-819e-12725de3dea5"
   },
   "outputs": [
    {
     "data": {
      "text/plain": [
       "<Axes: xlabel='count', ylabel='first_affiliate_tracked'>"
      ]
     },
     "execution_count": 52,
     "metadata": {},
     "output_type": "execute_result"
    },
    {
     "data": {
      "image/png": "[encoded data removed]",
      "text/plain": [
       "<Figure size 640x480 with 1 Axes>"
      ]
     },
     "metadata": {},
     "output_type": "display_data"
    }
   ],
   "source": [
    "sns.countplot(y=train_users_df['first_affiliate_tracked'])"
   ]
  },
  {
   "cell_type": "code",
   "execution_count": 53,
   "id": "efa6edf6",
   "metadata": {
    "colab": {
     "base_uri": "https://localhost:8080/"
    },
    "executionInfo": {
     "elapsed": 14,
     "status": "ok",
     "timestamp": 1687538699525,
     "user": {
      "displayName": "Yasser Sakr",
      "userId": "15584901531651561141"
     },
     "user_tz": -180
    },
    "id": "efa6edf6",
    "outputId": "0b0dfc2a-2181-4e8b-88ed-f62b93b5fd5f"
   },
   "outputs": [
    {
     "data": {
      "text/plain": [
       "first_affiliate_tracked\n",
       "untracked        109232\n",
       "linked            46287\n",
       "omg               43982\n",
       "tracked-other      6156\n",
       "product            1556\n",
       "marketing           139\n",
       "local ops            34\n",
       "Name: count, dtype: int64"
      ]
     },
     "execution_count": 53,
     "metadata": {},
     "output_type": "execute_result"
    }
   ],
   "source": [
    "train_users_df['first_affiliate_tracked'].value_counts()"
   ]
  },
  {
   "attachments": {},
   "cell_type": "markdown",
   "id": "e8f07ad4",
   "metadata": {
    "id": "e8f07ad4"
   },
   "source": [
    "#### Signup app"
   ]
  },
  {
   "cell_type": "code",
   "execution_count": 54,
   "id": "6c538456",
   "metadata": {
    "colab": {
     "base_uri": "https://localhost:8080/",
     "height": 467
    },
    "executionInfo": {
     "elapsed": 362,
     "status": "ok",
     "timestamp": 1687538699877,
     "user": {
      "displayName": "Yasser Sakr",
      "userId": "15584901531651561141"
     },
     "user_tz": -180
    },
    "id": "6c538456",
    "outputId": "d1987e47-b2e6-4073-fd98-c145389753e8"
   },
   "outputs": [
    {
     "data": {
      "text/plain": [
       "<Axes: xlabel='signup_app', ylabel='count'>"
      ]
     },
     "execution_count": 54,
     "metadata": {},
     "output_type": "execute_result"
    },
    {
     "data": {
      "image/png": "[encoded data removed]",
      "text/plain": [
       "<Figure size 640x480 with 1 Axes>"
      ]
     },
     "metadata": {},
     "output_type": "display_data"
    }
   ],
   "source": [
    "sns.countplot(x=train_users_df['signup_app'])"
   ]
  },
  {
   "cell_type": "code",
   "execution_count": 55,
   "id": "a2f98e66",
   "metadata": {
    "colab": {
     "base_uri": "https://localhost:8080/"
    },
    "executionInfo": {
     "elapsed": 17,
     "status": "ok",
     "timestamp": 1687538699880,
     "user": {
      "displayName": "Yasser Sakr",
      "userId": "15584901531651561141"
     },
     "user_tz": -180
    },
    "id": "a2f98e66",
    "outputId": "f39be663-220b-486e-b861-5933fc3a328c"
   },
   "outputs": [
    {
     "data": {
      "text/plain": [
       "signup_app\n",
       "Web        182717\n",
       "iOS         19019\n",
       "Moweb        6261\n",
       "Android      5454\n",
       "Name: count, dtype: int64"
      ]
     },
     "execution_count": 55,
     "metadata": {},
     "output_type": "execute_result"
    }
   ],
   "source": [
    "train_users_df['signup_app'].value_counts()"
   ]
  },
  {
   "attachments": {},
   "cell_type": "markdown",
   "id": "9925393a",
   "metadata": {
    "id": "9925393a"
   },
   "source": [
    "#### First device type"
   ]
  },
  {
   "cell_type": "code",
   "execution_count": 56,
   "id": "004489e6",
   "metadata": {
    "colab": {
     "base_uri": "https://localhost:8080/",
     "height": 466
    },
    "executionInfo": {
     "elapsed": 438,
     "status": "ok",
     "timestamp": 1687538700304,
     "user": {
      "displayName": "Yasser Sakr",
      "userId": "15584901531651561141"
     },
     "user_tz": -180
    },
    "id": "004489e6",
    "outputId": "2c645fc2-e799-4112-d330-d6a123125fdb"
   },
   "outputs": [
    {
     "data": {
      "text/plain": [
       "<Axes: xlabel='count', ylabel='first_device_type'>"
      ]
     },
     "execution_count": 56,
     "metadata": {},
     "output_type": "execute_result"
    },
    {
     "data": {
      "image/png": "[encoded data removed]",
      "text/plain": [
       "<Figure size 640x480 with 1 Axes>"
      ]
     },
     "metadata": {},
     "output_type": "display_data"
    }
   ],
   "source": [
    "sns.countplot(y=train_users_df['first_device_type'])"
   ]
  },
  {
   "cell_type": "code",
   "execution_count": 57,
   "id": "83af3d5f",
   "metadata": {
    "colab": {
     "base_uri": "https://localhost:8080/"
    },
    "executionInfo": {
     "elapsed": 19,
     "status": "ok",
     "timestamp": 1687538700305,
     "user": {
      "displayName": "Yasser Sakr",
      "userId": "15584901531651561141"
     },
     "user_tz": -180
    },
    "id": "83af3d5f",
    "outputId": "7ce4a287-8c35-40a1-9dbf-da9c52f090b2"
   },
   "outputs": [
    {
     "data": {
      "text/plain": [
       "first_device_type\n",
       "Mac Desktop           89600\n",
       "Windows Desktop       72716\n",
       "iPhone                20759\n",
       "iPad                  14339\n",
       "Other/Unknown         10667\n",
       "Android Phone          2803\n",
       "Android Tablet         1292\n",
       "Desktop (Other)        1199\n",
       "SmartPhone (Other)       76\n",
       "Name: count, dtype: int64"
      ]
     },
     "execution_count": 57,
     "metadata": {},
     "output_type": "execute_result"
    }
   ],
   "source": [
    "train_users_df['first_device_type'].value_counts()"
   ]
  },
  {
   "attachments": {},
   "cell_type": "markdown",
   "id": "42e82559",
   "metadata": {
    "id": "42e82559"
   },
   "source": [
    "#### First browser"
   ]
  },
  {
   "cell_type": "code",
   "execution_count": 58,
   "id": "f5adfe65",
   "metadata": {
    "colab": {
     "base_uri": "https://localhost:8080/",
     "height": 713
    },
    "executionInfo": {
     "elapsed": 989,
     "status": "ok",
     "timestamp": 1687538701283,
     "user": {
      "displayName": "Yasser Sakr",
      "userId": "15584901531651561141"
     },
     "user_tz": -180
    },
    "id": "f5adfe65",
    "outputId": "6cca377a-6243-4332-99dc-e175efc2ccf6"
   },
   "outputs": [
    {
     "data": {
      "text/plain": [
       "<Axes: xlabel='count', ylabel='first_browser'>"
      ]
     },
     "execution_count": 58,
     "metadata": {},
     "output_type": "execute_result"
    },
    {
     "data": {
      "image/png": "[encoded data removed]",
      "text/plain": [
       "<Figure size 1000x800 with 1 Axes>"
      ]
     },
     "metadata": {},
     "output_type": "display_data"
    }
   ],
   "source": [
    "plt.figure(figsize=(10,8))\n",
    "sns.countplot(y=train_users_df['first_browser'])"
   ]
  },
  {
   "cell_type": "code",
   "execution_count": 59,
   "id": "165fab3b",
   "metadata": {
    "colab": {
     "base_uri": "https://localhost:8080/"
    },
    "executionInfo": {
     "elapsed": 15,
     "status": "ok",
     "timestamp": 1687538701285,
     "user": {
      "displayName": "Yasser Sakr",
      "userId": "15584901531651561141"
     },
     "user_tz": -180
    },
    "id": "165fab3b",
    "outputId": "0614ee1d-37b2-47cb-d995-c40c4082c449"
   },
   "outputs": [
    {
     "data": {
      "text/plain": [
       "first_browser\n",
       "Chrome             63845\n",
       "Safari             45169\n",
       "Firefox            33655\n",
       "-unknown-          27266\n",
       "IE                 21068\n",
       "Mobile Safari      19274\n",
       "Chrome Mobile       1270\n",
       "Android Browser      851\n",
       "AOL Explorer         245\n",
       "Opera                188\n",
       "Name: count, dtype: int64"
      ]
     },
     "execution_count": 59,
     "metadata": {},
     "output_type": "execute_result"
    }
   ],
   "source": [
    "train_users_df['first_browser'].value_counts()[:10]"
   ]
  },
  {
   "attachments": {},
   "cell_type": "markdown",
   "id": "d3274e38",
   "metadata": {
    "id": "d3274e38"
   },
   "source": [
    "#### Country destination"
   ]
  },
  {
   "cell_type": "code",
   "execution_count": 60,
   "id": "b270254e",
   "metadata": {
    "colab": {
     "base_uri": "https://localhost:8080/",
     "height": 467
    },
    "executionInfo": {
     "elapsed": 573,
     "status": "ok",
     "timestamp": 1687538701849,
     "user": {
      "displayName": "Yasser Sakr",
      "userId": "15584901531651561141"
     },
     "user_tz": -180
    },
    "id": "b270254e",
    "outputId": "c662cc36-067d-4af6-ff0d-08e0727be00e"
   },
   "outputs": [
    {
     "data": {
      "text/plain": [
       "<Axes: xlabel='country_destination', ylabel='count'>"
      ]
     },
     "execution_count": 60,
     "metadata": {},
     "output_type": "execute_result"
    },
    {
     "data": {
      "image/png": "[encoded data removed]",
      "text/plain": [
       "<Figure size 640x480 with 1 Axes>"
      ]
     },
     "metadata": {},
     "output_type": "display_data"
    }
   ],
   "source": [
    "sns.countplot(x=train_users_df['country_destination'])"
   ]
  },
  {
   "cell_type": "code",
   "execution_count": 61,
   "id": "d1f5705b",
   "metadata": {
    "colab": {
     "base_uri": "https://localhost:8080/"
    },
    "executionInfo": {
     "elapsed": 11,
     "status": "ok",
     "timestamp": 1687538701851,
     "user": {
      "displayName": "Yasser Sakr",
      "userId": "15584901531651561141"
     },
     "user_tz": -180
    },
    "id": "d1f5705b",
    "outputId": "3417a62b-1580-4851-fcd8-1ed2e926532f"
   },
   "outputs": [
    {
     "data": {
      "text/plain": [
       "country_destination\n",
       "NDF      124543\n",
       "US        62376\n",
       "other     10094\n",
       "FR         5023\n",
       "IT         2835\n",
       "GB         2324\n",
       "ES         2249\n",
       "CA         1428\n",
       "DE         1061\n",
       "NL          762\n",
       "AU          539\n",
       "PT          217\n",
       "Name: count, dtype: int64"
      ]
     },
     "execution_count": 61,
     "metadata": {},
     "output_type": "execute_result"
    }
   ],
   "source": [
    "train_users_df['country_destination'].value_counts()"
   ]
  },
  {
   "attachments": {},
   "cell_type": "markdown",
   "id": "cef81576",
   "metadata": {
    "id": "cef81576"
   },
   "source": [
    "#### Data Imputation using `miceforest` algorithm"
   ]
  },
  {
   "attachments": {},
   "cell_type": "markdown",
   "id": "ec45c347",
   "metadata": {
    "id": "ec45c347"
   },
   "source": [
    "convert `object` columns to `category` type"
   ]
  },
  {
   "cell_type": "code",
   "execution_count": 62,
   "id": "6f1c478a",
   "metadata": {
    "executionInfo": {
     "elapsed": 1437,
     "status": "ok",
     "timestamp": 1687538703280,
     "user": {
      "displayName": "Yasser Sakr",
      "userId": "15584901531651561141"
     },
     "user_tz": -180
    },
    "id": "6f1c478a"
   },
   "outputs": [],
   "source": [
    "train_users_df[train_users_df.select_dtypes(['object']).columns] = train_users_df.select_dtypes(['object']).apply(lambda x: x.astype('category'))"
   ]
  },
  {
   "cell_type": "code",
   "execution_count": 63,
   "id": "d6136f2a",
   "metadata": {
    "colab": {
     "base_uri": "https://localhost:8080/"
    },
    "executionInfo": {
     "elapsed": 20,
     "status": "ok",
     "timestamp": 1687538703282,
     "user": {
      "displayName": "Yasser Sakr",
      "userId": "15584901531651561141"
     },
     "user_tz": -180
    },
    "id": "d6136f2a",
    "outputId": "75b09cb4-aa24-430d-b7a9-571e8d999420"
   },
   "outputs": [
    {
     "data": {
      "text/plain": [
       "Index(['id', 'date_account_created', 'timestamp_first_active',\n",
       "       'date_first_booking', 'gender', 'age', 'signup_method', 'signup_flow',\n",
       "       'language', 'affiliate_channel', 'affiliate_provider',\n",
       "       'first_affiliate_tracked', 'signup_app', 'first_device_type',\n",
       "       'first_browser', 'country_destination', 'day_first_booking',\n",
       "       'month_first_booking', 'hour_first_active'],\n",
       "      dtype='object')"
      ]
     },
     "execution_count": 63,
     "metadata": {},
     "output_type": "execute_result"
    }
   ],
   "source": [
    "train_users_df.columns"
   ]
  },
  {
   "cell_type": "code",
   "execution_count": 64,
   "id": "aa7f0e30",
   "metadata": {
    "executionInfo": {
     "elapsed": 359,
     "status": "ok",
     "timestamp": 1687538990898,
     "user": {
      "displayName": "Yasser Sakr",
      "userId": "15584901531651561141"
     },
     "user_tz": -180
    },
    "id": "aa7f0e30"
   },
   "outputs": [],
   "source": [
    "target_col = ['id', 'gender', 'age', 'signup_method', 'signup_flow',\n",
    "       'language', 'affiliate_channel', 'affiliate_provider',\n",
    "       'first_affiliate_tracked', 'signup_app', 'first_device_type',\n",
    "       'first_browser', 'country_destination']\n",
    "\n",
    "remain_col = ['id', 'date_account_created', 'timestamp_first_active',\n",
    "'date_first_booking']"
   ]
  },
  {
   "cell_type": "code",
   "execution_count": 65,
   "id": "5c69dbb8-a816-4ddc-b57a-e06d3ed833c1",
   "metadata": {},
   "outputs": [],
   "source": [
    "rare_cat = ['id' ,'signup_flow', 'language', 'affiliate_provider', 'first_affiliate_tracked', 'first_device_type', 'first_browser', 'country_destination']"
   ]
  },
  {
   "cell_type": "code",
   "execution_count": 66,
   "id": "bfcfc0a2-0eaa-46e6-92cb-fa601636dbcb",
   "metadata": {},
   "outputs": [
    {
     "name": "stdout",
     "output_type": "stream",
     "text": [
      "<class 'pandas.core.frame.DataFrame'>\n",
      "RangeIndex: 213451 entries, 0 to 213450\n",
      "Data columns (total 19 columns):\n",
      " #   Column                   Non-Null Count   Dtype         \n",
      "---  ------                   --------------   -----         \n",
      " 0   id                       213451 non-null  category      \n",
      " 1   date_account_created     213451 non-null  datetime64[ns]\n",
      " 2   timestamp_first_active   213451 non-null  datetime64[ns]\n",
      " 3   date_first_booking       88908 non-null   datetime64[ns]\n",
      " 4   gender                   117481 non-null  category      \n",
      " 5   age                      122987 non-null  float64       \n",
      " 6   signup_method            213451 non-null  category      \n",
      " 7   signup_flow              213451 non-null  int64         \n",
      " 8   language                 213451 non-null  category      \n",
      " 9   affiliate_channel        213451 non-null  category      \n",
      " 10  affiliate_provider       213451 non-null  category      \n",
      " 11  first_affiliate_tracked  207386 non-null  category      \n",
      " 12  signup_app               213451 non-null  category      \n",
      " 13  first_device_type        213451 non-null  category      \n",
      " 14  first_browser            213451 non-null  category      \n",
      " 15  country_destination      213451 non-null  category      \n",
      " 16  day_first_booking        88908 non-null   category      \n",
      " 17  month_first_booking      88908 non-null   category      \n",
      " 18  hour_first_active        213451 non-null  int32         \n",
      "dtypes: category(13), datetime64[ns](3), float64(1), int32(1), int64(1)\n",
      "memory usage: 21.9 MB\n"
     ]
    }
   ],
   "source": [
    "train_users_df.info()"
   ]
  },
  {
   "cell_type": "code",
   "execution_count": 67,
   "id": "9b847692-88c2-4815-915c-4096e5ee6141",
   "metadata": {},
   "outputs": [],
   "source": [
    "data = train_users_df[target_col]"
   ]
  },
  {
   "cell_type": "code",
   "execution_count": 68,
   "id": "92feefa2-4a04-43eb-8fd4-b33539e4637a",
   "metadata": {},
   "outputs": [
    {
     "name": "stderr",
     "output_type": "stream",
     "text": [
      "C:\\Users\\Yasser-Sakr\\AppData\\Local\\Programs\\Python\\Python311\\Lib\\site-packages\\miceforest\\ImputationKernel.py:371: UserWarning: [id,language,affiliate_provider,first_affiliate_tracked,first_device_type,first_browser,country_destination] have very rare categories, it is a good idea to group these, or set the min_data_in_leaf parameter to prevent lightgbm from outputting 0.0 probabilities.\n",
      "  warn(\n"
     ]
    },
    {
     "name": "stdout",
     "output_type": "stream",
     "text": [
      "\n",
      "              Class: ImputationKernel\n",
      "           Datasets: 4\n",
      "         Iterations: 2\n",
      "       Data Samples: 213451\n",
      "       Data Columns: 13\n",
      "  Imputed Variables: 3\n",
      "save_all_iterations: True\n"
     ]
    }
   ],
   "source": [
    "# Create kernel. \n",
    "kernel = mf.ImputationKernel(\n",
    "  data,\n",
    "  datasets=4,\n",
    "  save_all_iterations=True,\n",
    "  random_state=1\n",
    ")\n",
    "\n",
    "# Run mice with our newly tuned parameters.\n",
    "kernel.mice(2)\n",
    "\n",
    "# Printing the kernel will show you some high level information.\n",
    "print(kernel)\n",
    "\n",
    "# Create completed dataset\n",
    "completed_dataset = kernel.complete_data(dataset=2)\n",
    "\n",
    "# Add imputed data to the original datasets\n",
    "train_users_df[target_col] = completed_dataset"
   ]
  },
  {
   "cell_type": "code",
   "execution_count": 69,
   "id": "4707f7b9",
   "metadata": {
    "colab": {
     "base_uri": "https://localhost:8080/"
    },
    "executionInfo": {
     "elapsed": 44,
     "status": "ok",
     "timestamp": 1687539045867,
     "user": {
      "displayName": "Yasser Sakr",
      "userId": "15584901531651561141"
     },
     "user_tz": -180
    },
    "id": "4707f7b9",
    "outputId": "acd78cb4-5f79-4f46-9cfd-b785ce15b2d7"
   },
   "outputs": [
    {
     "data": {
      "text/plain": [
       "id                              0\n",
       "date_account_created            0\n",
       "timestamp_first_active          0\n",
       "date_first_booking         124543\n",
       "gender                          0\n",
       "age                             0\n",
       "signup_method                   0\n",
       "signup_flow                     0\n",
       "language                        0\n",
       "affiliate_channel               0\n",
       "affiliate_provider              0\n",
       "first_affiliate_tracked         0\n",
       "signup_app                      0\n",
       "first_device_type               0\n",
       "first_browser                   0\n",
       "country_destination             0\n",
       "day_first_booking          124543\n",
       "month_first_booking        124543\n",
       "hour_first_active               0\n",
       "dtype: int64"
      ]
     },
     "execution_count": 69,
     "metadata": {},
     "output_type": "execute_result"
    }
   ],
   "source": [
    "train_users_df.isnull().sum()"
   ]
  },
  {
   "cell_type": "code",
   "execution_count": 70,
   "id": "c838e131",
   "metadata": {
    "colab": {
     "base_uri": "https://localhost:8080/",
     "height": 523
    },
    "executionInfo": {
     "elapsed": 1790,
     "status": "ok",
     "timestamp": 1687539048485,
     "user": {
      "displayName": "Yasser Sakr",
      "userId": "15584901531651561141"
     },
     "user_tz": -180
    },
    "id": "c838e131",
    "outputId": "04937d11-dec6-4160-b659-3881c018f176"
   },
   "outputs": [
    {
     "name": "stderr",
     "output_type": "stream",
     "text": [
      "C:\\Users\\Yasser-Sakr\\AppData\\Local\\Programs\\Python\\Python311\\Lib\\site-packages\\seaborn\\axisgrid.py:118: UserWarning: The figure layout has changed to tight\n",
      "  self._figure.tight_layout(*args, **kwargs)\n"
     ]
    },
    {
     "data": {
      "text/plain": [
       "<seaborn.axisgrid.FacetGrid at 0x2a0c36b29d0>"
      ]
     },
     "execution_count": 70,
     "metadata": {},
     "output_type": "execute_result"
    },
    {
     "data": {
      "image/png": "[encoded data removed]",
      "text/plain": [
       "<Figure size 500x500 with 1 Axes>"
      ]
     },
     "metadata": {},
     "output_type": "display_data"
    }
   ],
   "source": [
    "sns.displot(train_users_df['age'], kde=True)"
   ]
  },
  {
   "attachments": {},
   "cell_type": "markdown",
   "id": "2e975834",
   "metadata": {
    "id": "2e975834"
   },
   "source": [
    "I will use z-score method to nullify `age` outliers."
   ]
  },
  {
   "cell_type": "code",
   "execution_count": 71,
   "id": "7598172e",
   "metadata": {
    "colab": {
     "base_uri": "https://localhost:8080/",
     "height": 523
    },
    "executionInfo": {
     "elapsed": 1339,
     "status": "ok",
     "timestamp": 1687539049815,
     "user": {
      "displayName": "Yasser Sakr",
      "userId": "15584901531651561141"
     },
     "user_tz": -180
    },
    "id": "7598172e",
    "outputId": "8405552a-40b4-445c-e8c3-5cbbf0e36039"
   },
   "outputs": [
    {
     "name": "stderr",
     "output_type": "stream",
     "text": [
      "C:\\Users\\Yasser-Sakr\\AppData\\Local\\Programs\\Python\\Python311\\Lib\\site-packages\\seaborn\\axisgrid.py:118: UserWarning: The figure layout has changed to tight\n",
      "  self._figure.tight_layout(*args, **kwargs)\n"
     ]
    },
    {
     "data": {
      "text/plain": [
       "<seaborn.axisgrid.FacetGrid at 0x2a0d0d91fd0>"
      ]
     },
     "execution_count": 71,
     "metadata": {},
     "output_type": "execute_result"
    },
    {
     "data": {
      "image/png": "[encoded data removed]",
      "text/plain": [
       "<Figure size 500x500 with 1 Axes>"
      ]
     },
     "metadata": {},
     "output_type": "display_data"
    }
   ],
   "source": [
    "from scipy import stats\n",
    "train_users_df['z_scores'] = stats.zscore(train_users_df['age'])\n",
    "train_users_df['abs_z_scores'] = train_users_df['z_scores'].abs()\n",
    "threshold = 3\n",
    "train_users_df.loc[train_users_df['abs_z_scores'] > threshold, 'age'] = np.nan\n",
    "sns.displot(train_users_df['age'], kde=True)"
   ]
  },
  {
   "cell_type": "code",
   "execution_count": 72,
   "id": "5c7363a5",
   "metadata": {
    "executionInfo": {
     "elapsed": 442,
     "status": "ok",
     "timestamp": 1687539050247,
     "user": {
      "displayName": "Yasser Sakr",
      "userId": "15584901531651561141"
     },
     "user_tz": -180
    },
    "id": "5c7363a5"
   },
   "outputs": [],
   "source": [
    "train_users_df.dropna(subset='age', axis=0, inplace=True)"
   ]
  },
  {
   "cell_type": "code",
   "execution_count": 73,
   "id": "1ed3d03a",
   "metadata": {
    "colab": {
     "base_uri": "https://localhost:8080/"
    },
    "executionInfo": {
     "elapsed": 13,
     "status": "ok",
     "timestamp": 1687539050250,
     "user": {
      "displayName": "Yasser Sakr",
      "userId": "15584901531651561141"
     },
     "user_tz": -180
    },
    "id": "1ed3d03a",
    "outputId": "3ce153ba-261d-4acb-cf85-31c5f4f9ee86"
   },
   "outputs": [
    {
     "data": {
      "text/plain": [
       "id                              0\n",
       "date_account_created            0\n",
       "timestamp_first_active          0\n",
       "date_first_booking         123531\n",
       "gender                          0\n",
       "age                             0\n",
       "signup_method                   0\n",
       "signup_flow                     0\n",
       "language                        0\n",
       "affiliate_channel               0\n",
       "affiliate_provider              0\n",
       "first_affiliate_tracked         0\n",
       "signup_app                      0\n",
       "first_device_type               0\n",
       "first_browser                   0\n",
       "country_destination             0\n",
       "day_first_booking          123531\n",
       "month_first_booking        123531\n",
       "hour_first_active               0\n",
       "z_scores                        0\n",
       "abs_z_scores                    0\n",
       "dtype: int64"
      ]
     },
     "execution_count": 73,
     "metadata": {},
     "output_type": "execute_result"
    }
   ],
   "source": [
    "train_users_df.isnull().sum()"
   ]
  },
  {
   "cell_type": "code",
   "execution_count": 74,
   "id": "0c401a31",
   "metadata": {
    "colab": {
     "base_uri": "https://localhost:8080/"
    },
    "executionInfo": {
     "elapsed": 385,
     "status": "ok",
     "timestamp": 1687539050626,
     "user": {
      "displayName": "Yasser Sakr",
      "userId": "15584901531651561141"
     },
     "user_tz": -180
    },
    "id": "0c401a31",
    "outputId": "6f8a8508-c01b-4f9e-e503-6d94a1dece72"
   },
   "outputs": [
    {
     "data": {
      "text/plain": [
       "count    211905.00\n",
       "mean         36.91\n",
       "std          11.49\n",
       "min          18.00\n",
       "25%          28.00\n",
       "50%          34.00\n",
       "75%          44.00\n",
       "max          73.00\n",
       "Name: age, dtype: float64"
      ]
     },
     "execution_count": 74,
     "metadata": {},
     "output_type": "execute_result"
    }
   ],
   "source": [
    "train_users_df['age'].describe()"
   ]
  },
  {
   "attachments": {},
   "cell_type": "markdown",
   "id": "19434c13",
   "metadata": {
    "id": "19434c13"
   },
   "source": [
    "### Create cleaned train_users dataframe"
   ]
  },
  {
   "cell_type": "code",
   "execution_count": 75,
   "id": "feef2ebb-e675-40c6-888e-2a222dab6ac1",
   "metadata": {},
   "outputs": [],
   "source": [
    "train_users_df[train_users_df.select_dtypes(['category']).columns] = train_users_df.select_dtypes(['category']).apply(lambda x: x.astype('object'))"
   ]
  },
  {
   "cell_type": "code",
   "execution_count": 76,
   "id": "7cc95807-20e5-4efb-9330-9d2987c9702c",
   "metadata": {},
   "outputs": [
    {
     "name": "stdout",
     "output_type": "stream",
     "text": [
      "<class 'pandas.core.frame.DataFrame'>\n",
      "Index: 211905 entries, 0 to 213450\n",
      "Data columns (total 21 columns):\n",
      " #   Column                   Non-Null Count   Dtype         \n",
      "---  ------                   --------------   -----         \n",
      " 0   id                       211905 non-null  object        \n",
      " 1   date_account_created     211905 non-null  datetime64[ns]\n",
      " 2   timestamp_first_active   211905 non-null  datetime64[ns]\n",
      " 3   date_first_booking       88374 non-null   datetime64[ns]\n",
      " 4   gender                   211905 non-null  object        \n",
      " 5   age                      211905 non-null  float64       \n",
      " 6   signup_method            211905 non-null  object        \n",
      " 7   signup_flow              211905 non-null  int64         \n",
      " 8   language                 211905 non-null  object        \n",
      " 9   affiliate_channel        211905 non-null  object        \n",
      " 10  affiliate_provider       211905 non-null  object        \n",
      " 11  first_affiliate_tracked  211905 non-null  object        \n",
      " 12  signup_app               211905 non-null  object        \n",
      " 13  first_device_type        211905 non-null  object        \n",
      " 14  first_browser            211905 non-null  object        \n",
      " 15  country_destination      211905 non-null  object        \n",
      " 16  day_first_booking        88374 non-null   object        \n",
      " 17  month_first_booking      88374 non-null   object        \n",
      " 18  hour_first_active        211905 non-null  int32         \n",
      " 19  z_scores                 211905 non-null  float64       \n",
      " 20  abs_z_scores             211905 non-null  float64       \n",
      "dtypes: datetime64[ns](3), float64(3), int32(1), int64(1), object(13)\n",
      "memory usage: 34.8+ MB\n"
     ]
    }
   ],
   "source": [
    "train_users_df.info()"
   ]
  },
  {
   "cell_type": "code",
   "execution_count": 77,
   "id": "714509a4",
   "metadata": {
    "colab": {
     "base_uri": "https://localhost:8080/"
    },
    "executionInfo": {
     "elapsed": 22,
     "status": "ok",
     "timestamp": 1687539050627,
     "user": {
      "displayName": "Yasser Sakr",
      "userId": "15584901531651561141"
     },
     "user_tz": -180
    },
    "id": "714509a4",
    "outputId": "57aa7a03-cef8-4977-9bf1-7f12b0265f9b"
   },
   "outputs": [
    {
     "data": {
      "text/plain": [
       "Index(['id', 'date_account_created', 'timestamp_first_active',\n",
       "       'date_first_booking', 'gender', 'age', 'signup_method', 'signup_flow',\n",
       "       'language', 'affiliate_channel', 'affiliate_provider',\n",
       "       'first_affiliate_tracked', 'signup_app', 'first_device_type',\n",
       "       'first_browser', 'country_destination', 'day_first_booking',\n",
       "       'month_first_booking', 'hour_first_active', 'z_scores', 'abs_z_scores'],\n",
       "      dtype='object')"
      ]
     },
     "execution_count": 77,
     "metadata": {},
     "output_type": "execute_result"
    }
   ],
   "source": [
    "train_users_df.columns"
   ]
  },
  {
   "cell_type": "code",
   "execution_count": 78,
   "id": "78dcd53f",
   "metadata": {
    "colab": {
     "base_uri": "https://localhost:8080/",
     "height": 270
    },
    "executionInfo": {
     "elapsed": 21,
     "status": "ok",
     "timestamp": 1687539050630,
     "user": {
      "displayName": "Yasser Sakr",
      "userId": "15584901531651561141"
     },
     "user_tz": -180
    },
    "id": "78dcd53f",
    "outputId": "308b6a4b-4dff-4f3b-d95b-5d519c24c330"
   },
   "outputs": [
    {
     "data": {
      "text/html": [
       "<div>\n",
       "<style scoped>\n",
       "    .dataframe tbody tr th:only-of-type {\n",
       "        vertical-align: middle;\n",
       "    }\n",
       "\n",
       "    .dataframe tbody tr th {\n",
       "        vertical-align: top;\n",
       "    }\n",
       "\n",
       "    .dataframe thead th {\n",
       "        text-align: right;\n",
       "    }\n",
       "</style>\n",
       "<table border=\"1\" class=\"dataframe\">\n",
       "  <thead>\n",
       "    <tr style=\"text-align: right;\">\n",
       "      <th></th>\n",
       "      <th>id</th>\n",
       "      <th>date_account_created</th>\n",
       "      <th>timestamp_first_active</th>\n",
       "      <th>date_first_booking</th>\n",
       "      <th>gender</th>\n",
       "      <th>age</th>\n",
       "      <th>signup_method</th>\n",
       "      <th>signup_flow</th>\n",
       "      <th>language</th>\n",
       "      <th>affiliate_channel</th>\n",
       "      <th>affiliate_provider</th>\n",
       "      <th>first_affiliate_tracked</th>\n",
       "      <th>signup_app</th>\n",
       "      <th>first_device_type</th>\n",
       "      <th>first_browser</th>\n",
       "      <th>country_destination</th>\n",
       "    </tr>\n",
       "  </thead>\n",
       "  <tbody>\n",
       "    <tr>\n",
       "      <th>0</th>\n",
       "      <td>gxn3p5htnn</td>\n",
       "      <td>2010-06-28</td>\n",
       "      <td>2009-03-19 04:32:55</td>\n",
       "      <td>NaT</td>\n",
       "      <td>male</td>\n",
       "      <td>29.0</td>\n",
       "      <td>facebook</td>\n",
       "      <td>0</td>\n",
       "      <td>en</td>\n",
       "      <td>direct</td>\n",
       "      <td>direct</td>\n",
       "      <td>untracked</td>\n",
       "      <td>Web</td>\n",
       "      <td>Mac Desktop</td>\n",
       "      <td>Chrome</td>\n",
       "      <td>NDF</td>\n",
       "    </tr>\n",
       "    <tr>\n",
       "      <th>1</th>\n",
       "      <td>820tgsjxq7</td>\n",
       "      <td>2011-05-25</td>\n",
       "      <td>2009-05-23 17:48:09</td>\n",
       "      <td>NaT</td>\n",
       "      <td>male</td>\n",
       "      <td>38.0</td>\n",
       "      <td>facebook</td>\n",
       "      <td>0</td>\n",
       "      <td>en</td>\n",
       "      <td>seo</td>\n",
       "      <td>google</td>\n",
       "      <td>untracked</td>\n",
       "      <td>Web</td>\n",
       "      <td>Mac Desktop</td>\n",
       "      <td>Chrome</td>\n",
       "      <td>NDF</td>\n",
       "    </tr>\n",
       "    <tr>\n",
       "      <th>2</th>\n",
       "      <td>4ft3gnwmtx</td>\n",
       "      <td>2010-09-28</td>\n",
       "      <td>2009-06-09 23:12:47</td>\n",
       "      <td>2010-08-02</td>\n",
       "      <td>female</td>\n",
       "      <td>56.0</td>\n",
       "      <td>basic</td>\n",
       "      <td>3</td>\n",
       "      <td>en</td>\n",
       "      <td>direct</td>\n",
       "      <td>direct</td>\n",
       "      <td>untracked</td>\n",
       "      <td>Web</td>\n",
       "      <td>Windows Desktop</td>\n",
       "      <td>IE</td>\n",
       "      <td>US</td>\n",
       "    </tr>\n",
       "    <tr>\n",
       "      <th>3</th>\n",
       "      <td>bjjt8pjhuk</td>\n",
       "      <td>2011-12-05</td>\n",
       "      <td>2009-10-31 06:01:29</td>\n",
       "      <td>2012-09-08</td>\n",
       "      <td>female</td>\n",
       "      <td>42.0</td>\n",
       "      <td>facebook</td>\n",
       "      <td>0</td>\n",
       "      <td>en</td>\n",
       "      <td>direct</td>\n",
       "      <td>direct</td>\n",
       "      <td>untracked</td>\n",
       "      <td>Web</td>\n",
       "      <td>Mac Desktop</td>\n",
       "      <td>Firefox</td>\n",
       "      <td>other</td>\n",
       "    </tr>\n",
       "    <tr>\n",
       "      <th>4</th>\n",
       "      <td>87mebub9p4</td>\n",
       "      <td>2010-09-14</td>\n",
       "      <td>2009-12-08 06:11:05</td>\n",
       "      <td>2010-02-18</td>\n",
       "      <td>male</td>\n",
       "      <td>41.0</td>\n",
       "      <td>basic</td>\n",
       "      <td>0</td>\n",
       "      <td>en</td>\n",
       "      <td>direct</td>\n",
       "      <td>direct</td>\n",
       "      <td>untracked</td>\n",
       "      <td>Web</td>\n",
       "      <td>Mac Desktop</td>\n",
       "      <td>Chrome</td>\n",
       "      <td>US</td>\n",
       "    </tr>\n",
       "  </tbody>\n",
       "</table>\n",
       "</div>"
      ],
      "text/plain": [
       "           id date_account_created timestamp_first_active date_first_booking  \\\n",
       "0  gxn3p5htnn           2010-06-28    2009-03-19 04:32:55                NaT   \n",
       "1  820tgsjxq7           2011-05-25    2009-05-23 17:48:09                NaT   \n",
       "2  4ft3gnwmtx           2010-09-28    2009-06-09 23:12:47         2010-08-02   \n",
       "3  bjjt8pjhuk           2011-12-05    2009-10-31 06:01:29         2012-09-08   \n",
       "4  87mebub9p4           2010-09-14    2009-12-08 06:11:05         2010-02-18   \n",
       "\n",
       "   gender   age signup_method  signup_flow language affiliate_channel  \\\n",
       "0    male  29.0      facebook            0       en            direct   \n",
       "1    male  38.0      facebook            0       en               seo   \n",
       "2  female  56.0         basic            3       en            direct   \n",
       "3  female  42.0      facebook            0       en            direct   \n",
       "4    male  41.0         basic            0       en            direct   \n",
       "\n",
       "  affiliate_provider first_affiliate_tracked signup_app first_device_type  \\\n",
       "0             direct               untracked        Web       Mac Desktop   \n",
       "1             google               untracked        Web       Mac Desktop   \n",
       "2             direct               untracked        Web   Windows Desktop   \n",
       "3             direct               untracked        Web       Mac Desktop   \n",
       "4             direct               untracked        Web       Mac Desktop   \n",
       "\n",
       "  first_browser country_destination  \n",
       "0        Chrome                 NDF  \n",
       "1        Chrome                 NDF  \n",
       "2            IE                  US  \n",
       "3       Firefox               other  \n",
       "4        Chrome                  US  "
      ]
     },
     "execution_count": 78,
     "metadata": {},
     "output_type": "execute_result"
    }
   ],
   "source": [
    "train_users_cleaned = train_users_df.drop(axis=1, \n",
    "                                          columns=['day_first_booking', 'month_first_booking', 'hour_first_active','z_scores', 'abs_z_scores']).copy()\n",
    "train_users_cleaned.head()"
   ]
  },
  {
   "cell_type": "code",
   "execution_count": 79,
   "id": "4985b31c",
   "metadata": {
    "colab": {
     "base_uri": "https://localhost:8080/"
    },
    "executionInfo": {
     "elapsed": 21,
     "status": "ok",
     "timestamp": 1687539050631,
     "user": {
      "displayName": "Yasser Sakr",
      "userId": "15584901531651561141"
     },
     "user_tz": -180
    },
    "id": "4985b31c",
    "outputId": "a0cda4f4-2e70-4940-efba-fe6fbc16bbdb"
   },
   "outputs": [
    {
     "data": {
      "text/plain": [
       "(211905, 16)"
      ]
     },
     "execution_count": 79,
     "metadata": {},
     "output_type": "execute_result"
    }
   ],
   "source": [
    "train_users_cleaned.shape"
   ]
  },
  {
   "cell_type": "code",
   "execution_count": 80,
   "id": "d7f6b633",
   "metadata": {
    "colab": {
     "base_uri": "https://localhost:8080/"
    },
    "executionInfo": {
     "elapsed": 438,
     "status": "ok",
     "timestamp": 1687539051052,
     "user": {
      "displayName": "Yasser Sakr",
      "userId": "15584901531651561141"
     },
     "user_tz": -180
    },
    "id": "d7f6b633",
    "outputId": "46a28b1c-a2b6-4d75-cca1-e62e365449cf"
   },
   "outputs": [
    {
     "name": "stdout",
     "output_type": "stream",
     "text": [
      "<class 'pandas.core.frame.DataFrame'>\n",
      "Index: 211905 entries, 0 to 213450\n",
      "Data columns (total 16 columns):\n",
      " #   Column                   Non-Null Count   Dtype         \n",
      "---  ------                   --------------   -----         \n",
      " 0   id                       211905 non-null  object        \n",
      " 1   date_account_created     211905 non-null  datetime64[ns]\n",
      " 2   timestamp_first_active   211905 non-null  datetime64[ns]\n",
      " 3   date_first_booking       88374 non-null   datetime64[ns]\n",
      " 4   gender                   211905 non-null  object        \n",
      " 5   age                      211905 non-null  float64       \n",
      " 6   signup_method            211905 non-null  object        \n",
      " 7   signup_flow              211905 non-null  int64         \n",
      " 8   language                 211905 non-null  object        \n",
      " 9   affiliate_channel        211905 non-null  object        \n",
      " 10  affiliate_provider       211905 non-null  object        \n",
      " 11  first_affiliate_tracked  211905 non-null  object        \n",
      " 12  signup_app               211905 non-null  object        \n",
      " 13  first_device_type        211905 non-null  object        \n",
      " 14  first_browser            211905 non-null  object        \n",
      " 15  country_destination      211905 non-null  object        \n",
      "dtypes: datetime64[ns](3), float64(1), int64(1), object(11)\n",
      "memory usage: 27.5+ MB\n"
     ]
    }
   ],
   "source": [
    "train_users_cleaned.info()"
   ]
  },
  {
   "cell_type": "code",
   "execution_count": 81,
   "id": "a757b315",
   "metadata": {
    "executionInfo": {
     "elapsed": 4264,
     "status": "ok",
     "timestamp": 1687539055306,
     "user": {
      "displayName": "Yasser Sakr",
      "userId": "15584901531651561141"
     },
     "user_tz": -180
    },
    "id": "a757b315"
   },
   "outputs": [],
   "source": [
    "train_users_cleaned.to_csv('train_users_cleaned.csv')"
   ]
  },
  {
   "attachments": {},
   "cell_type": "markdown",
   "id": "97bf5ce5",
   "metadata": {
    "id": "97bf5ce5"
   },
   "source": [
    "#### 5. Test Users Dataset"
   ]
  },
  {
   "cell_type": "code",
   "execution_count": 82,
   "id": "6ab4d87e",
   "metadata": {
    "executionInfo": {
     "elapsed": 39,
     "status": "ok",
     "timestamp": 1687539055307,
     "user": {
      "displayName": "Yasser Sakr",
      "userId": "15584901531651561141"
     },
     "user_tz": -180
    },
    "id": "6ab4d87e"
   },
   "outputs": [],
   "source": [
    "test_users_df = test_users.copy()"
   ]
  },
  {
   "cell_type": "code",
   "execution_count": 83,
   "id": "c84443e4",
   "metadata": {
    "colab": {
     "base_uri": "https://localhost:8080/",
     "height": 340
    },
    "executionInfo": {
     "elapsed": 40,
     "status": "ok",
     "timestamp": 1687539055309,
     "user": {
      "displayName": "Yasser Sakr",
      "userId": "15584901531651561141"
     },
     "user_tz": -180
    },
    "id": "c84443e4",
    "outputId": "6cc6acc2-8129-4c70-a691-222ddbdb1d6e"
   },
   "outputs": [
    {
     "data": {
      "text/html": [
       "<div>\n",
       "<style scoped>\n",
       "    .dataframe tbody tr th:only-of-type {\n",
       "        vertical-align: middle;\n",
       "    }\n",
       "\n",
       "    .dataframe tbody tr th {\n",
       "        vertical-align: top;\n",
       "    }\n",
       "\n",
       "    .dataframe thead th {\n",
       "        text-align: right;\n",
       "    }\n",
       "</style>\n",
       "<table border=\"1\" class=\"dataframe\">\n",
       "  <thead>\n",
       "    <tr style=\"text-align: right;\">\n",
       "      <th></th>\n",
       "      <th>id</th>\n",
       "      <th>date_account_created</th>\n",
       "      <th>timestamp_first_active</th>\n",
       "      <th>date_first_booking</th>\n",
       "      <th>gender</th>\n",
       "      <th>age</th>\n",
       "      <th>signup_method</th>\n",
       "      <th>signup_flow</th>\n",
       "      <th>language</th>\n",
       "      <th>affiliate_channel</th>\n",
       "      <th>affiliate_provider</th>\n",
       "      <th>first_affiliate_tracked</th>\n",
       "      <th>signup_app</th>\n",
       "      <th>first_device_type</th>\n",
       "      <th>first_browser</th>\n",
       "    </tr>\n",
       "  </thead>\n",
       "  <tbody>\n",
       "    <tr>\n",
       "      <th>0</th>\n",
       "      <td>5uwns89zht</td>\n",
       "      <td>2014-07-01</td>\n",
       "      <td>20140701000006</td>\n",
       "      <td>NaN</td>\n",
       "      <td>FEMALE</td>\n",
       "      <td>35.0</td>\n",
       "      <td>facebook</td>\n",
       "      <td>0</td>\n",
       "      <td>en</td>\n",
       "      <td>direct</td>\n",
       "      <td>direct</td>\n",
       "      <td>untracked</td>\n",
       "      <td>Moweb</td>\n",
       "      <td>iPhone</td>\n",
       "      <td>Mobile Safari</td>\n",
       "    </tr>\n",
       "    <tr>\n",
       "      <th>1</th>\n",
       "      <td>jtl0dijy2j</td>\n",
       "      <td>2014-07-01</td>\n",
       "      <td>20140701000051</td>\n",
       "      <td>NaN</td>\n",
       "      <td>-unknown-</td>\n",
       "      <td>NaN</td>\n",
       "      <td>basic</td>\n",
       "      <td>0</td>\n",
       "      <td>en</td>\n",
       "      <td>direct</td>\n",
       "      <td>direct</td>\n",
       "      <td>untracked</td>\n",
       "      <td>Moweb</td>\n",
       "      <td>iPhone</td>\n",
       "      <td>Mobile Safari</td>\n",
       "    </tr>\n",
       "    <tr>\n",
       "      <th>2</th>\n",
       "      <td>xx0ulgorjt</td>\n",
       "      <td>2014-07-01</td>\n",
       "      <td>20140701000148</td>\n",
       "      <td>NaN</td>\n",
       "      <td>-unknown-</td>\n",
       "      <td>NaN</td>\n",
       "      <td>basic</td>\n",
       "      <td>0</td>\n",
       "      <td>en</td>\n",
       "      <td>direct</td>\n",
       "      <td>direct</td>\n",
       "      <td>linked</td>\n",
       "      <td>Web</td>\n",
       "      <td>Windows Desktop</td>\n",
       "      <td>Chrome</td>\n",
       "    </tr>\n",
       "    <tr>\n",
       "      <th>3</th>\n",
       "      <td>6c6puo6ix0</td>\n",
       "      <td>2014-07-01</td>\n",
       "      <td>20140701000215</td>\n",
       "      <td>NaN</td>\n",
       "      <td>-unknown-</td>\n",
       "      <td>NaN</td>\n",
       "      <td>basic</td>\n",
       "      <td>0</td>\n",
       "      <td>en</td>\n",
       "      <td>direct</td>\n",
       "      <td>direct</td>\n",
       "      <td>linked</td>\n",
       "      <td>Web</td>\n",
       "      <td>Windows Desktop</td>\n",
       "      <td>IE</td>\n",
       "    </tr>\n",
       "    <tr>\n",
       "      <th>4</th>\n",
       "      <td>czqhjk3yfe</td>\n",
       "      <td>2014-07-01</td>\n",
       "      <td>20140701000305</td>\n",
       "      <td>NaN</td>\n",
       "      <td>-unknown-</td>\n",
       "      <td>NaN</td>\n",
       "      <td>basic</td>\n",
       "      <td>0</td>\n",
       "      <td>en</td>\n",
       "      <td>direct</td>\n",
       "      <td>direct</td>\n",
       "      <td>untracked</td>\n",
       "      <td>Web</td>\n",
       "      <td>Mac Desktop</td>\n",
       "      <td>Safari</td>\n",
       "    </tr>\n",
       "  </tbody>\n",
       "</table>\n",
       "</div>"
      ],
      "text/plain": [
       "           id date_account_created  timestamp_first_active  \\\n",
       "0  5uwns89zht           2014-07-01          20140701000006   \n",
       "1  jtl0dijy2j           2014-07-01          20140701000051   \n",
       "2  xx0ulgorjt           2014-07-01          20140701000148   \n",
       "3  6c6puo6ix0           2014-07-01          20140701000215   \n",
       "4  czqhjk3yfe           2014-07-01          20140701000305   \n",
       "\n",
       "   date_first_booking     gender   age signup_method  signup_flow language  \\\n",
       "0                 NaN     FEMALE  35.0      facebook            0       en   \n",
       "1                 NaN  -unknown-   NaN         basic            0       en   \n",
       "2                 NaN  -unknown-   NaN         basic            0       en   \n",
       "3                 NaN  -unknown-   NaN         basic            0       en   \n",
       "4                 NaN  -unknown-   NaN         basic            0       en   \n",
       "\n",
       "  affiliate_channel affiliate_provider first_affiliate_tracked signup_app  \\\n",
       "0            direct             direct               untracked      Moweb   \n",
       "1            direct             direct               untracked      Moweb   \n",
       "2            direct             direct                  linked        Web   \n",
       "3            direct             direct                  linked        Web   \n",
       "4            direct             direct               untracked        Web   \n",
       "\n",
       "  first_device_type  first_browser  \n",
       "0            iPhone  Mobile Safari  \n",
       "1            iPhone  Mobile Safari  \n",
       "2   Windows Desktop         Chrome  \n",
       "3   Windows Desktop             IE  \n",
       "4       Mac Desktop         Safari  "
      ]
     },
     "execution_count": 83,
     "metadata": {},
     "output_type": "execute_result"
    }
   ],
   "source": [
    "test_users_df.head()"
   ]
  },
  {
   "cell_type": "code",
   "execution_count": 84,
   "id": "5a3676c9-03e8-48de-a4cd-311926847d00",
   "metadata": {},
   "outputs": [
    {
     "name": "stdout",
     "output_type": "stream",
     "text": [
      "<class 'pandas.core.frame.DataFrame'>\n",
      "RangeIndex: 62096 entries, 0 to 62095\n",
      "Data columns (total 15 columns):\n",
      " #   Column                   Non-Null Count  Dtype  \n",
      "---  ------                   --------------  -----  \n",
      " 0   id                       62096 non-null  object \n",
      " 1   date_account_created     62096 non-null  object \n",
      " 2   timestamp_first_active   62096 non-null  int64  \n",
      " 3   date_first_booking       0 non-null      float64\n",
      " 4   gender                   62096 non-null  object \n",
      " 5   age                      33220 non-null  float64\n",
      " 6   signup_method            62096 non-null  object \n",
      " 7   signup_flow              62096 non-null  int64  \n",
      " 8   language                 62096 non-null  object \n",
      " 9   affiliate_channel        62096 non-null  object \n",
      " 10  affiliate_provider       62096 non-null  object \n",
      " 11  first_affiliate_tracked  62076 non-null  object \n",
      " 12  signup_app               62096 non-null  object \n",
      " 13  first_device_type        62096 non-null  object \n",
      " 14  first_browser            62096 non-null  object \n",
      "dtypes: float64(2), int64(2), object(11)\n",
      "memory usage: 7.1+ MB\n"
     ]
    }
   ],
   "source": [
    "test_users_df.info()"
   ]
  },
  {
   "cell_type": "code",
   "execution_count": 85,
   "id": "3a57f351",
   "metadata": {
    "colab": {
     "base_uri": "https://localhost:8080/"
    },
    "executionInfo": {
     "elapsed": 359,
     "status": "ok",
     "timestamp": 1687539076333,
     "user": {
      "displayName": "Yasser Sakr",
      "userId": "15584901531651561141"
     },
     "user_tz": -180
    },
    "id": "3a57f351",
    "outputId": "74c994d7-f80e-471a-a47a-dc76cbae8f83"
   },
   "outputs": [
    {
     "data": {
      "text/plain": [
       "(62096, 15)"
      ]
     },
     "execution_count": 85,
     "metadata": {},
     "output_type": "execute_result"
    }
   ],
   "source": [
    "test_users_df.shape"
   ]
  },
  {
   "cell_type": "markdown",
   "id": "4039f9ad-8f22-4827-abc0-8dc2ae519aa1",
   "metadata": {},
   "source": [
    "### Check for duplicates"
   ]
  },
  {
   "cell_type": "code",
   "execution_count": 86,
   "id": "d1383b9b-fc85-4981-9880-5cc5fa775784",
   "metadata": {},
   "outputs": [
    {
     "data": {
      "text/plain": [
       "0"
      ]
     },
     "execution_count": 86,
     "metadata": {},
     "output_type": "execute_result"
    }
   ],
   "source": [
    "test_users_df.duplicated().sum()"
   ]
  },
  {
   "cell_type": "markdown",
   "id": "9dfd923e-5982-480a-b098-f1fe475215d2",
   "metadata": {},
   "source": [
    "### Exploring the descriptive statistics of the variables"
   ]
  },
  {
   "cell_type": "code",
   "execution_count": 87,
   "id": "0e19c04d-7715-4282-9c26-0d61706faab3",
   "metadata": {},
   "outputs": [
    {
     "data": {
      "text/html": [
       "<div>\n",
       "<style scoped>\n",
       "    .dataframe tbody tr th:only-of-type {\n",
       "        vertical-align: middle;\n",
       "    }\n",
       "\n",
       "    .dataframe tbody tr th {\n",
       "        vertical-align: top;\n",
       "    }\n",
       "\n",
       "    .dataframe thead th {\n",
       "        text-align: right;\n",
       "    }\n",
       "</style>\n",
       "<table border=\"1\" class=\"dataframe\">\n",
       "  <thead>\n",
       "    <tr style=\"text-align: right;\">\n",
       "      <th></th>\n",
       "      <th>id</th>\n",
       "      <th>date_account_created</th>\n",
       "      <th>timestamp_first_active</th>\n",
       "      <th>date_first_booking</th>\n",
       "      <th>gender</th>\n",
       "      <th>age</th>\n",
       "      <th>signup_method</th>\n",
       "      <th>signup_flow</th>\n",
       "      <th>language</th>\n",
       "      <th>affiliate_channel</th>\n",
       "      <th>affiliate_provider</th>\n",
       "      <th>first_affiliate_tracked</th>\n",
       "      <th>signup_app</th>\n",
       "      <th>first_device_type</th>\n",
       "      <th>first_browser</th>\n",
       "    </tr>\n",
       "  </thead>\n",
       "  <tbody>\n",
       "    <tr>\n",
       "      <th>count</th>\n",
       "      <td>62096</td>\n",
       "      <td>62096</td>\n",
       "      <td>6.21e+04</td>\n",
       "      <td>0.0</td>\n",
       "      <td>62096</td>\n",
       "      <td>33220.00</td>\n",
       "      <td>62096</td>\n",
       "      <td>62096.00</td>\n",
       "      <td>62096</td>\n",
       "      <td>62096</td>\n",
       "      <td>62096</td>\n",
       "      <td>62076</td>\n",
       "      <td>62096</td>\n",
       "      <td>62096</td>\n",
       "      <td>62096</td>\n",
       "    </tr>\n",
       "    <tr>\n",
       "      <th>unique</th>\n",
       "      <td>62096</td>\n",
       "      <td>92</td>\n",
       "      <td>NaN</td>\n",
       "      <td>NaN</td>\n",
       "      <td>4</td>\n",
       "      <td>NaN</td>\n",
       "      <td>4</td>\n",
       "      <td>NaN</td>\n",
       "      <td>24</td>\n",
       "      <td>7</td>\n",
       "      <td>17</td>\n",
       "      <td>7</td>\n",
       "      <td>4</td>\n",
       "      <td>9</td>\n",
       "      <td>31</td>\n",
       "    </tr>\n",
       "    <tr>\n",
       "      <th>top</th>\n",
       "      <td>5uwns89zht</td>\n",
       "      <td>2014-07-23</td>\n",
       "      <td>NaN</td>\n",
       "      <td>NaN</td>\n",
       "      <td>-unknown-</td>\n",
       "      <td>NaN</td>\n",
       "      <td>basic</td>\n",
       "      <td>NaN</td>\n",
       "      <td>en</td>\n",
       "      <td>direct</td>\n",
       "      <td>direct</td>\n",
       "      <td>untracked</td>\n",
       "      <td>Web</td>\n",
       "      <td>iPhone</td>\n",
       "      <td>-unknown-</td>\n",
       "    </tr>\n",
       "    <tr>\n",
       "      <th>freq</th>\n",
       "      <td>1</td>\n",
       "      <td>1105</td>\n",
       "      <td>NaN</td>\n",
       "      <td>NaN</td>\n",
       "      <td>33792</td>\n",
       "      <td>NaN</td>\n",
       "      <td>45325</td>\n",
       "      <td>NaN</td>\n",
       "      <td>59224</td>\n",
       "      <td>43844</td>\n",
       "      <td>43844</td>\n",
       "      <td>33949</td>\n",
       "      <td>37201</td>\n",
       "      <td>19055</td>\n",
       "      <td>17128</td>\n",
       "    </tr>\n",
       "    <tr>\n",
       "      <th>mean</th>\n",
       "      <td>NaN</td>\n",
       "      <td>NaN</td>\n",
       "      <td>2.01e+13</td>\n",
       "      <td>NaN</td>\n",
       "      <td>NaN</td>\n",
       "      <td>37.62</td>\n",
       "      <td>NaN</td>\n",
       "      <td>7.81</td>\n",
       "      <td>NaN</td>\n",
       "      <td>NaN</td>\n",
       "      <td>NaN</td>\n",
       "      <td>NaN</td>\n",
       "      <td>NaN</td>\n",
       "      <td>NaN</td>\n",
       "      <td>NaN</td>\n",
       "    </tr>\n",
       "    <tr>\n",
       "      <th>std</th>\n",
       "      <td>NaN</td>\n",
       "      <td>NaN</td>\n",
       "      <td>8.02e+07</td>\n",
       "      <td>NaN</td>\n",
       "      <td>NaN</td>\n",
       "      <td>74.44</td>\n",
       "      <td>NaN</td>\n",
       "      <td>11.25</td>\n",
       "      <td>NaN</td>\n",
       "      <td>NaN</td>\n",
       "      <td>NaN</td>\n",
       "      <td>NaN</td>\n",
       "      <td>NaN</td>\n",
       "      <td>NaN</td>\n",
       "      <td>NaN</td>\n",
       "    </tr>\n",
       "    <tr>\n",
       "      <th>min</th>\n",
       "      <td>NaN</td>\n",
       "      <td>NaN</td>\n",
       "      <td>2.01e+13</td>\n",
       "      <td>NaN</td>\n",
       "      <td>NaN</td>\n",
       "      <td>1.00</td>\n",
       "      <td>NaN</td>\n",
       "      <td>0.00</td>\n",
       "      <td>NaN</td>\n",
       "      <td>NaN</td>\n",
       "      <td>NaN</td>\n",
       "      <td>NaN</td>\n",
       "      <td>NaN</td>\n",
       "      <td>NaN</td>\n",
       "      <td>NaN</td>\n",
       "    </tr>\n",
       "    <tr>\n",
       "      <th>25%</th>\n",
       "      <td>NaN</td>\n",
       "      <td>NaN</td>\n",
       "      <td>2.01e+13</td>\n",
       "      <td>NaN</td>\n",
       "      <td>NaN</td>\n",
       "      <td>26.00</td>\n",
       "      <td>NaN</td>\n",
       "      <td>0.00</td>\n",
       "      <td>NaN</td>\n",
       "      <td>NaN</td>\n",
       "      <td>NaN</td>\n",
       "      <td>NaN</td>\n",
       "      <td>NaN</td>\n",
       "      <td>NaN</td>\n",
       "      <td>NaN</td>\n",
       "    </tr>\n",
       "    <tr>\n",
       "      <th>50%</th>\n",
       "      <td>NaN</td>\n",
       "      <td>NaN</td>\n",
       "      <td>2.01e+13</td>\n",
       "      <td>NaN</td>\n",
       "      <td>NaN</td>\n",
       "      <td>31.00</td>\n",
       "      <td>NaN</td>\n",
       "      <td>0.00</td>\n",
       "      <td>NaN</td>\n",
       "      <td>NaN</td>\n",
       "      <td>NaN</td>\n",
       "      <td>NaN</td>\n",
       "      <td>NaN</td>\n",
       "      <td>NaN</td>\n",
       "      <td>NaN</td>\n",
       "    </tr>\n",
       "    <tr>\n",
       "      <th>75%</th>\n",
       "      <td>NaN</td>\n",
       "      <td>NaN</td>\n",
       "      <td>2.01e+13</td>\n",
       "      <td>NaN</td>\n",
       "      <td>NaN</td>\n",
       "      <td>40.00</td>\n",
       "      <td>NaN</td>\n",
       "      <td>23.00</td>\n",
       "      <td>NaN</td>\n",
       "      <td>NaN</td>\n",
       "      <td>NaN</td>\n",
       "      <td>NaN</td>\n",
       "      <td>NaN</td>\n",
       "      <td>NaN</td>\n",
       "      <td>NaN</td>\n",
       "    </tr>\n",
       "    <tr>\n",
       "      <th>max</th>\n",
       "      <td>NaN</td>\n",
       "      <td>NaN</td>\n",
       "      <td>2.01e+13</td>\n",
       "      <td>NaN</td>\n",
       "      <td>NaN</td>\n",
       "      <td>2002.00</td>\n",
       "      <td>NaN</td>\n",
       "      <td>25.00</td>\n",
       "      <td>NaN</td>\n",
       "      <td>NaN</td>\n",
       "      <td>NaN</td>\n",
       "      <td>NaN</td>\n",
       "      <td>NaN</td>\n",
       "      <td>NaN</td>\n",
       "      <td>NaN</td>\n",
       "    </tr>\n",
       "  </tbody>\n",
       "</table>\n",
       "</div>"
      ],
      "text/plain": [
       "                id date_account_created  timestamp_first_active  \\\n",
       "count        62096                62096                6.21e+04   \n",
       "unique       62096                   92                     NaN   \n",
       "top     5uwns89zht           2014-07-23                     NaN   \n",
       "freq             1                 1105                     NaN   \n",
       "mean           NaN                  NaN                2.01e+13   \n",
       "std            NaN                  NaN                8.02e+07   \n",
       "min            NaN                  NaN                2.01e+13   \n",
       "25%            NaN                  NaN                2.01e+13   \n",
       "50%            NaN                  NaN                2.01e+13   \n",
       "75%            NaN                  NaN                2.01e+13   \n",
       "max            NaN                  NaN                2.01e+13   \n",
       "\n",
       "        date_first_booking     gender       age signup_method  signup_flow  \\\n",
       "count                  0.0      62096  33220.00         62096     62096.00   \n",
       "unique                 NaN          4       NaN             4          NaN   \n",
       "top                    NaN  -unknown-       NaN         basic          NaN   \n",
       "freq                   NaN      33792       NaN         45325          NaN   \n",
       "mean                   NaN        NaN     37.62           NaN         7.81   \n",
       "std                    NaN        NaN     74.44           NaN        11.25   \n",
       "min                    NaN        NaN      1.00           NaN         0.00   \n",
       "25%                    NaN        NaN     26.00           NaN         0.00   \n",
       "50%                    NaN        NaN     31.00           NaN         0.00   \n",
       "75%                    NaN        NaN     40.00           NaN        23.00   \n",
       "max                    NaN        NaN   2002.00           NaN        25.00   \n",
       "\n",
       "       language affiliate_channel affiliate_provider first_affiliate_tracked  \\\n",
       "count     62096             62096              62096                   62076   \n",
       "unique       24                 7                 17                       7   \n",
       "top          en            direct             direct               untracked   \n",
       "freq      59224             43844              43844                   33949   \n",
       "mean        NaN               NaN                NaN                     NaN   \n",
       "std         NaN               NaN                NaN                     NaN   \n",
       "min         NaN               NaN                NaN                     NaN   \n",
       "25%         NaN               NaN                NaN                     NaN   \n",
       "50%         NaN               NaN                NaN                     NaN   \n",
       "75%         NaN               NaN                NaN                     NaN   \n",
       "max         NaN               NaN                NaN                     NaN   \n",
       "\n",
       "       signup_app first_device_type first_browser  \n",
       "count       62096             62096         62096  \n",
       "unique          4                 9            31  \n",
       "top           Web            iPhone     -unknown-  \n",
       "freq        37201             19055         17128  \n",
       "mean          NaN               NaN           NaN  \n",
       "std           NaN               NaN           NaN  \n",
       "min           NaN               NaN           NaN  \n",
       "25%           NaN               NaN           NaN  \n",
       "50%           NaN               NaN           NaN  \n",
       "75%           NaN               NaN           NaN  \n",
       "max           NaN               NaN           NaN  "
      ]
     },
     "execution_count": 87,
     "metadata": {},
     "output_type": "execute_result"
    }
   ],
   "source": [
    "test_users_df.describe(include='all')"
   ]
  },
  {
   "cell_type": "markdown",
   "id": "d63f9092-c25e-44c3-b01e-d9729740ddbc",
   "metadata": {},
   "source": [
    "### Checking for missing values"
   ]
  },
  {
   "cell_type": "code",
   "execution_count": 88,
   "id": "eb04a0bd-80ee-4c13-8bb5-880ced558f24",
   "metadata": {},
   "outputs": [
    {
     "data": {
      "text/plain": [
       "id                             0\n",
       "date_account_created           0\n",
       "timestamp_first_active         0\n",
       "date_first_booking         62096\n",
       "gender                         0\n",
       "age                        28876\n",
       "signup_method                  0\n",
       "signup_flow                    0\n",
       "language                       0\n",
       "affiliate_channel              0\n",
       "affiliate_provider             0\n",
       "first_affiliate_tracked       20\n",
       "signup_app                     0\n",
       "first_device_type              0\n",
       "first_browser                  0\n",
       "dtype: int64"
      ]
     },
     "execution_count": 88,
     "metadata": {},
     "output_type": "execute_result"
    }
   ],
   "source": [
    "test_users_df.isnull().sum()"
   ]
  },
  {
   "cell_type": "markdown",
   "id": "6f2b04f5-b881-4f03-a13e-c9e87c28a210",
   "metadata": {},
   "source": [
    "## Exploring variables"
   ]
  },
  {
   "cell_type": "code",
   "execution_count": 89,
   "id": "3dacdff5-f785-4558-90ee-0256e44189df",
   "metadata": {},
   "outputs": [
    {
     "data": {
      "text/plain": [
       "Index(['id', 'date_account_created', 'timestamp_first_active',\n",
       "       'date_first_booking', 'gender', 'age', 'signup_method', 'signup_flow',\n",
       "       'language', 'affiliate_channel', 'affiliate_provider',\n",
       "       'first_affiliate_tracked', 'signup_app', 'first_device_type',\n",
       "       'first_browser'],\n",
       "      dtype='object')"
      ]
     },
     "execution_count": 89,
     "metadata": {},
     "output_type": "execute_result"
    }
   ],
   "source": [
    "test_users_df.columns"
   ]
  },
  {
   "cell_type": "markdown",
   "id": "8437f4f4-170f-4927-a2a3-2772cc8768b9",
   "metadata": {},
   "source": [
    "### 1. Numerical variables"
   ]
  },
  {
   "cell_type": "code",
   "execution_count": 90,
   "id": "1e077a83-d3e7-41a1-9e12-f826a48d833a",
   "metadata": {},
   "outputs": [
    {
     "data": {
      "text/plain": [
       "Index(['timestamp_first_active', 'date_first_booking', 'age', 'signup_flow'], dtype='object')"
      ]
     },
     "execution_count": 90,
     "metadata": {},
     "output_type": "execute_result"
    }
   ],
   "source": [
    "test_users_df.select_dtypes(exclude='object').columns"
   ]
  },
  {
   "cell_type": "markdown",
   "id": "448c7d05-4b38-4c71-bcdc-db5f1b69536d",
   "metadata": {},
   "source": [
    "#### date_account_created, date_first_booking and timestamp_first_active\n",
    "Convert `date_account_created`, `date_first_booking` and `timestamp_first_active` from `object` to `datetime` format"
   ]
  },
  {
   "cell_type": "code",
   "execution_count": 91,
   "id": "4ebc6172-dd1d-4402-b435-9f5a054eb722",
   "metadata": {},
   "outputs": [],
   "source": [
    "test_users_df['date_account_created'] = pd.to_datetime(test_users_df['date_account_created'], format='%Y-%m-%d')\n",
    "test_users_df['date_first_booking'] = pd.to_datetime(test_users_df['date_first_booking'], format='%Y-%m-%d')\n",
    "test_users_df['timestamp_first_active'] = pd.to_datetime(test_users_df['timestamp_first_active'], format='%Y%m%d%H%M%S')"
   ]
  },
  {
   "cell_type": "code",
   "execution_count": 92,
   "id": "d50cb708-efe5-43ba-8f5a-4633de12b16c",
   "metadata": {},
   "outputs": [
    {
     "data": {
      "text/plain": [
       "Index(['date_account_created', 'timestamp_first_active', 'date_first_booking',\n",
       "       'age', 'signup_flow'],\n",
       "      dtype='object')"
      ]
     },
     "execution_count": 92,
     "metadata": {},
     "output_type": "execute_result"
    }
   ],
   "source": [
    "test_users_df.select_dtypes(exclude='object').columns"
   ]
  },
  {
   "cell_type": "markdown",
   "id": "a2cac259-2d03-407f-8583-0c99ee2afa3a",
   "metadata": {},
   "source": [
    "#### Age"
   ]
  },
  {
   "cell_type": "code",
   "execution_count": 93,
   "id": "61679615-d9b1-45fe-962b-3a3a9f03e93e",
   "metadata": {},
   "outputs": [
    {
     "data": {
      "text/plain": [
       "count    33220.00\n",
       "mean        37.62\n",
       "std         74.44\n",
       "min          1.00\n",
       "25%         26.00\n",
       "50%         31.00\n",
       "75%         40.00\n",
       "max       2002.00\n",
       "Name: age, dtype: float64"
      ]
     },
     "execution_count": 93,
     "metadata": {},
     "output_type": "execute_result"
    }
   ],
   "source": [
    "test_users_df['age'].describe()"
   ]
  },
  {
   "cell_type": "code",
   "execution_count": 94,
   "id": "90aec320-4d19-499e-b1af-e9f187428854",
   "metadata": {},
   "outputs": [],
   "source": [
    "for i in range(test_users_df.shape[0]):\n",
    "    if test_users_df.loc[i, 'age'] > 150:\n",
    "        test_users_df.loc[i, 'age'] = test_users_df.loc[i, 'date_account_created'].year - test_users_df.loc[i, 'age']"
   ]
  },
  {
   "cell_type": "code",
   "execution_count": 95,
   "id": "46098e9d-ab95-478b-a27f-e305526468a3",
   "metadata": {},
   "outputs": [
    {
     "data": {
      "text/plain": [
       "array([], dtype=float64)"
      ]
     },
     "execution_count": 95,
     "metadata": {},
     "output_type": "execute_result"
    }
   ],
   "source": [
    "test_users_df['age'][test_users_df['age'] > 150].unique()"
   ]
  },
  {
   "cell_type": "code",
   "execution_count": 96,
   "id": "bb3c021c-b44a-4df8-a3b1-03691d3807b3",
   "metadata": {},
   "outputs": [
    {
     "name": "stderr",
     "output_type": "stream",
     "text": [
      "C:\\Users\\Yasser-Sakr\\AppData\\Local\\Programs\\Python\\Python311\\Lib\\site-packages\\seaborn\\axisgrid.py:118: UserWarning: The figure layout has changed to tight\n",
      "  self._figure.tight_layout(*args, **kwargs)\n"
     ]
    },
    {
     "data": {
      "text/plain": [
       "<seaborn.axisgrid.FacetGrid at 0x2a0d9f83190>"
      ]
     },
     "execution_count": 96,
     "metadata": {},
     "output_type": "execute_result"
    },
    {
     "data": {
      "image/png": "[encoded data removed]",
      "text/plain": [
       "<Figure size 500x500 with 1 Axes>"
      ]
     },
     "metadata": {},
     "output_type": "display_data"
    }
   ],
   "source": [
    "sns.displot(test_users_df['age'], kde=True)"
   ]
  },
  {
   "cell_type": "code",
   "execution_count": 97,
   "id": "20e45342-2291-46b3-9779-66c8d94db0ee",
   "metadata": {},
   "outputs": [
    {
     "data": {
      "text/plain": [
       "count    33220.00\n",
       "mean        34.85\n",
       "std         13.25\n",
       "min          1.00\n",
       "25%         26.00\n",
       "50%         31.00\n",
       "75%         40.00\n",
       "max        110.00\n",
       "Name: age, dtype: float64"
      ]
     },
     "execution_count": 97,
     "metadata": {},
     "output_type": "execute_result"
    }
   ],
   "source": [
    "test_users_df['age'].describe()"
   ]
  },
  {
   "cell_type": "code",
   "execution_count": 98,
   "id": "08b0d3ea-0440-4d13-b70e-edc1a9c9f998",
   "metadata": {},
   "outputs": [
    {
     "name": "stderr",
     "output_type": "stream",
     "text": [
      "C:\\Users\\Yasser-Sakr\\AppData\\Local\\Programs\\Python\\Python311\\Lib\\site-packages\\seaborn\\axisgrid.py:118: UserWarning: The figure layout has changed to tight\n",
      "  self._figure.tight_layout(*args, **kwargs)\n",
      "C:\\Users\\Yasser-Sakr\\AppData\\Local\\Temp\\ipykernel_11308\\4074826335.py:4: UserWarning: The figure layout has changed to tight\n",
      "  plt.tight_layout()\n"
     ]
    },
    {
     "data": {
      "image/png": "[encoded data removed]",
      "text/plain": [
       "<Figure size 500x500 with 1 Axes>"
      ]
     },
     "metadata": {},
     "output_type": "display_data"
    }
   ],
   "source": [
    "test_users_df.loc[test_users_df['age'] > 100, 'age'] = np.nan\n",
    "test_users_df.loc[test_users_df['age'] < 18, 'age'] = np.nan\n",
    "sns.displot(test_users_df['age'], kde=True)\n",
    "plt.tight_layout()"
   ]
  },
  {
   "cell_type": "code",
   "execution_count": 99,
   "id": "974210cb-fa6a-4ae1-b9e0-b246b35c779e",
   "metadata": {},
   "outputs": [
    {
     "data": {
      "text/plain": [
       "count    32887.00\n",
       "mean        34.24\n",
       "std         11.47\n",
       "min         18.00\n",
       "25%         26.00\n",
       "50%         31.00\n",
       "75%         39.00\n",
       "max        100.00\n",
       "Name: age, dtype: float64"
      ]
     },
     "execution_count": 99,
     "metadata": {},
     "output_type": "execute_result"
    }
   ],
   "source": [
    "test_users_df['age'].describe()"
   ]
  },
  {
   "cell_type": "code",
   "execution_count": 100,
   "id": "683822ff-5693-4ad3-8219-f7258477c7eb",
   "metadata": {},
   "outputs": [
    {
     "data": {
      "text/plain": [
       "29209"
      ]
     },
     "execution_count": 100,
     "metadata": {},
     "output_type": "execute_result"
    }
   ],
   "source": [
    "test_users_df['age'].isnull().sum()"
   ]
  },
  {
   "cell_type": "markdown",
   "id": "778a2f67-89d7-4dd3-bba2-89eae0fcd571",
   "metadata": {},
   "source": [
    "As we see, **`age`** column has missing values, so i will use **`miceforest`** to fill age column later."
   ]
  },
  {
   "cell_type": "markdown",
   "id": "488b3974-00f4-4cbc-b321-f2f1cb837c17",
   "metadata": {},
   "source": [
    "### 3. Categorical variables"
   ]
  },
  {
   "cell_type": "code",
   "execution_count": 101,
   "id": "d829133d-82d1-4150-b6ad-5898e803c312",
   "metadata": {},
   "outputs": [
    {
     "data": {
      "text/plain": [
       "array(['id', 'gender', 'signup_method', 'language', 'affiliate_channel',\n",
       "       'affiliate_provider', 'first_affiliate_tracked', 'signup_app',\n",
       "       'first_device_type', 'first_browser'], dtype=object)"
      ]
     },
     "execution_count": 101,
     "metadata": {},
     "output_type": "execute_result"
    }
   ],
   "source": [
    "cat_variables = test_users_df.select_dtypes(include='object').columns.values\n",
    "cat_variables"
   ]
  },
  {
   "cell_type": "markdown",
   "id": "976064ea-e0d7-43d9-b91c-10405737fdf4",
   "metadata": {},
   "source": [
    "#### Gender"
   ]
  },
  {
   "cell_type": "code",
   "execution_count": 102,
   "id": "d9f7e2a9-94f2-42cd-893e-2b9e42af8e3f",
   "metadata": {},
   "outputs": [
    {
     "data": {
      "text/plain": [
       "<Axes: xlabel='gender', ylabel='count'>"
      ]
     },
     "execution_count": 102,
     "metadata": {},
     "output_type": "execute_result"
    },
    {
     "data": {
      "image/png": "[encoded data removed]",
      "text/plain": [
       "<Figure size 640x480 with 1 Axes>"
      ]
     },
     "metadata": {},
     "output_type": "display_data"
    }
   ],
   "source": [
    "sns.countplot(x=test_users_df['gender'])"
   ]
  },
  {
   "cell_type": "code",
   "execution_count": 103,
   "id": "3ef4eba7-4cf1-4ff6-875e-f46861331c8a",
   "metadata": {},
   "outputs": [
    {
     "data": {
      "text/plain": [
       "gender\n",
       "-unknown-    33792\n",
       "FEMALE       14483\n",
       "MALE         13769\n",
       "OTHER           52\n",
       "Name: count, dtype: int64"
      ]
     },
     "execution_count": 103,
     "metadata": {},
     "output_type": "execute_result"
    }
   ],
   "source": [
    "test_users_df['gender'].value_counts()"
   ]
  },
  {
   "cell_type": "code",
   "execution_count": 104,
   "id": "fde2da5f-b58e-4481-8e74-e1a981b4d7ab",
   "metadata": {},
   "outputs": [],
   "source": [
    "test_users_df['gender'].replace({'-unknown-':np.nan, 'FEMALE':'female', 'MALE':'male', 'OTHER':np.nan}, inplace=True)"
   ]
  },
  {
   "cell_type": "code",
   "execution_count": 105,
   "id": "7cc32dcc-b77a-4488-9dc8-abdfb4a3af8c",
   "metadata": {},
   "outputs": [
    {
     "data": {
      "text/plain": [
       "33844"
      ]
     },
     "execution_count": 105,
     "metadata": {},
     "output_type": "execute_result"
    }
   ],
   "source": [
    "test_users_df['gender'].isnull().sum()"
   ]
  },
  {
   "cell_type": "markdown",
   "id": "129a65ce-e9c4-44c2-ba96-484088d9ff63",
   "metadata": {},
   "source": [
    "As we see, **`gender`** column has 95970 missing values, about **44.9%** of the dataset but **`gender`** is an important feature in prediction process so i will use **`miceforest`** to fill age column later."
   ]
  },
  {
   "cell_type": "markdown",
   "id": "3f9088bb-a7ac-493d-a9b2-f2f5bc91c0a8",
   "metadata": {},
   "source": [
    "### Data Imputation using `miceforest` algorithm\n",
    "#### convert `object` columns to `category` type"
   ]
  },
  {
   "cell_type": "code",
   "execution_count": 106,
   "id": "9e539f9b-efd0-4fe8-b020-333fdbf8fee7",
   "metadata": {},
   "outputs": [],
   "source": [
    "test_users_df[test_users_df.select_dtypes(['object']).columns] = test_users_df.select_dtypes(['object']).apply(lambda x: x.astype('category'))"
   ]
  },
  {
   "cell_type": "code",
   "execution_count": 107,
   "id": "f4613005-6b90-4314-b851-29d109e5720b",
   "metadata": {},
   "outputs": [
    {
     "data": {
      "text/plain": [
       "Index(['id', 'date_account_created', 'timestamp_first_active',\n",
       "       'date_first_booking', 'gender', 'age', 'signup_method', 'signup_flow',\n",
       "       'language', 'affiliate_channel', 'affiliate_provider',\n",
       "       'first_affiliate_tracked', 'signup_app', 'first_device_type',\n",
       "       'first_browser'],\n",
       "      dtype='object')"
      ]
     },
     "execution_count": 107,
     "metadata": {},
     "output_type": "execute_result"
    }
   ],
   "source": [
    "test_users_df.columns"
   ]
  },
  {
   "cell_type": "code",
   "execution_count": 108,
   "id": "72354990-7ba2-4771-8132-203ca93ea83a",
   "metadata": {},
   "outputs": [],
   "source": [
    "test_target_col = ['id', 'gender', 'age', 'signup_method', 'signup_flow',\n",
    "       'language', 'affiliate_channel', 'affiliate_provider',\n",
    "       'first_affiliate_tracked', 'signup_app', 'first_device_type',\n",
    "       'first_browser']\n",
    "\n",
    "test_remain_col = ['id', 'date_account_created', 'timestamp_first_active',\n",
    "'date_first_booking']"
   ]
  },
  {
   "cell_type": "code",
   "execution_count": 109,
   "id": "03b349a6-bf3d-486d-abf9-c5a6e2f74bb1",
   "metadata": {},
   "outputs": [],
   "source": [
    "test_rare_cat = ['id' ,'signup_flow', 'language', 'affiliate_provider', 'first_affiliate_tracked', \n",
    "            'first_device_type', 'first_browser', 'country_destination']"
   ]
  },
  {
   "cell_type": "code",
   "execution_count": 110,
   "id": "224ba4ab-1e5f-43d6-98ee-6c7fa871d7f0",
   "metadata": {},
   "outputs": [],
   "source": [
    "test_data = test_users_df[test_target_col]"
   ]
  },
  {
   "cell_type": "code",
   "execution_count": 111,
   "id": "ab4f976b-7f23-46bf-b8dc-e6758f0178ac",
   "metadata": {},
   "outputs": [
    {
     "name": "stderr",
     "output_type": "stream",
     "text": [
      "C:\\Users\\Yasser-Sakr\\AppData\\Local\\Programs\\Python\\Python311\\Lib\\site-packages\\miceforest\\ImputationKernel.py:371: UserWarning: [id,signup_method,language,affiliate_provider,first_affiliate_tracked,first_device_type,first_browser] have very rare categories, it is a good idea to group these, or set the min_data_in_leaf parameter to prevent lightgbm from outputting 0.0 probabilities.\n",
      "  warn(\n"
     ]
    },
    {
     "name": "stdout",
     "output_type": "stream",
     "text": [
      "\n",
      "              Class: ImputationKernel\n",
      "           Datasets: 4\n",
      "         Iterations: 2\n",
      "       Data Samples: 62096\n",
      "       Data Columns: 12\n",
      "  Imputed Variables: 3\n",
      "save_all_iterations: True\n"
     ]
    }
   ],
   "source": [
    "# Create kernel. \n",
    "test_kernel = mf.ImputationKernel(\n",
    "  test_data,\n",
    "  datasets=4,\n",
    "  save_all_iterations=True,\n",
    "  random_state=1\n",
    ")\n",
    "\n",
    "# Run mice with our newly tuned parameters.\n",
    "test_kernel.mice(2)\n",
    "\n",
    "# Printing the kernel will show you some high level information.\n",
    "print(test_kernel)\n",
    "\n",
    "# Create completed dataset\n",
    "completed_dataset = test_kernel.complete_data(dataset=2)\n",
    "\n",
    "# Add imputed data to the original datasets\n",
    "test_users_df[test_target_col] = completed_dataset"
   ]
  },
  {
   "cell_type": "code",
   "execution_count": 112,
   "id": "a1f47e6a-b3da-4cc3-9210-c2cb8f149aed",
   "metadata": {},
   "outputs": [
    {
     "data": {
      "text/plain": [
       "id                             0\n",
       "date_account_created           0\n",
       "timestamp_first_active         0\n",
       "date_first_booking         62096\n",
       "gender                         0\n",
       "age                            0\n",
       "signup_method                  0\n",
       "signup_flow                    0\n",
       "language                       0\n",
       "affiliate_channel              0\n",
       "affiliate_provider             0\n",
       "first_affiliate_tracked        0\n",
       "signup_app                     0\n",
       "first_device_type              0\n",
       "first_browser                  0\n",
       "dtype: int64"
      ]
     },
     "execution_count": 112,
     "metadata": {},
     "output_type": "execute_result"
    }
   ],
   "source": [
    "test_users_df.isnull().sum()"
   ]
  },
  {
   "cell_type": "code",
   "execution_count": 113,
   "id": "d4648ddb-7db2-4a7a-8ce9-82c24728114b",
   "metadata": {},
   "outputs": [
    {
     "name": "stderr",
     "output_type": "stream",
     "text": [
      "C:\\Users\\Yasser-Sakr\\AppData\\Local\\Programs\\Python\\Python311\\Lib\\site-packages\\seaborn\\axisgrid.py:118: UserWarning: The figure layout has changed to tight\n",
      "  self._figure.tight_layout(*args, **kwargs)\n"
     ]
    },
    {
     "data": {
      "text/plain": [
       "<seaborn.axisgrid.FacetGrid at 0x2a0e12ead10>"
      ]
     },
     "execution_count": 113,
     "metadata": {},
     "output_type": "execute_result"
    },
    {
     "data": {
      "image/png": "[encoded data removed]",
      "text/plain": [
       "<Figure size 500x500 with 1 Axes>"
      ]
     },
     "metadata": {},
     "output_type": "display_data"
    }
   ],
   "source": [
    "sns.displot(test_users_df['age'], kde=True)"
   ]
  },
  {
   "cell_type": "code",
   "execution_count": 114,
   "id": "d7e26b4b-629d-4e4d-b0ba-9dee3b68ac81",
   "metadata": {},
   "outputs": [
    {
     "name": "stderr",
     "output_type": "stream",
     "text": [
      "C:\\Users\\Yasser-Sakr\\AppData\\Local\\Programs\\Python\\Python311\\Lib\\site-packages\\seaborn\\axisgrid.py:118: UserWarning: The figure layout has changed to tight\n",
      "  self._figure.tight_layout(*args, **kwargs)\n"
     ]
    },
    {
     "data": {
      "text/plain": [
       "<seaborn.axisgrid.FacetGrid at 0x2a0c50dcc90>"
      ]
     },
     "execution_count": 114,
     "metadata": {},
     "output_type": "execute_result"
    },
    {
     "data": {
      "image/png": "[encoded data removed]",
      "text/plain": [
       "<Figure size 500x500 with 1 Axes>"
      ]
     },
     "metadata": {},
     "output_type": "display_data"
    }
   ],
   "source": [
    "from scipy import stats\n",
    "test_users_df['z_scores'] = stats.zscore(test_users_df['age'])\n",
    "test_users_df['abs_z_scores'] = test_users_df['z_scores'].abs()\n",
    "threshold = 3\n",
    "test_users_df.loc[test_users_df['abs_z_scores'] > threshold, 'age'] = np.nan\n",
    "sns.displot(test_users_df['age'], kde=True)"
   ]
  },
  {
   "cell_type": "code",
   "execution_count": 115,
   "id": "a138abc8-38cf-4478-9887-6ebe4cefa7ed",
   "metadata": {},
   "outputs": [],
   "source": [
    "test_users_df.dropna(subset='age', axis=0, inplace=True)"
   ]
  },
  {
   "cell_type": "code",
   "execution_count": 116,
   "id": "41902301-2132-41e0-9a48-dd0dac6864c6",
   "metadata": {},
   "outputs": [
    {
     "data": {
      "text/plain": [
       "id                             0\n",
       "date_account_created           0\n",
       "timestamp_first_active         0\n",
       "date_first_booking         61426\n",
       "gender                         0\n",
       "age                            0\n",
       "signup_method                  0\n",
       "signup_flow                    0\n",
       "language                       0\n",
       "affiliate_channel              0\n",
       "affiliate_provider             0\n",
       "first_affiliate_tracked        0\n",
       "signup_app                     0\n",
       "first_device_type              0\n",
       "first_browser                  0\n",
       "z_scores                       0\n",
       "abs_z_scores                   0\n",
       "dtype: int64"
      ]
     },
     "execution_count": 116,
     "metadata": {},
     "output_type": "execute_result"
    }
   ],
   "source": [
    "test_users_df.isnull().sum()"
   ]
  },
  {
   "cell_type": "code",
   "execution_count": 117,
   "id": "839f9bea-9b5e-417c-bef5-e4cf4681a31d",
   "metadata": {},
   "outputs": [
    {
     "data": {
      "text/plain": [
       "count    61426.00\n",
       "mean        33.88\n",
       "std         10.87\n",
       "min         18.00\n",
       "25%         26.00\n",
       "50%         31.00\n",
       "75%         39.00\n",
       "max         69.00\n",
       "Name: age, dtype: float64"
      ]
     },
     "execution_count": 117,
     "metadata": {},
     "output_type": "execute_result"
    }
   ],
   "source": [
    "test_users_df['age'].describe()"
   ]
  },
  {
   "cell_type": "markdown",
   "id": "c84f863d-d340-445c-854b-c7371478b715",
   "metadata": {},
   "source": [
    "### Create cleaned train_users dataframe"
   ]
  },
  {
   "cell_type": "code",
   "execution_count": 118,
   "id": "c4b0fc3c-312a-4405-b2d9-a279891437a4",
   "metadata": {},
   "outputs": [],
   "source": [
    "test_users_df[test_users_df.select_dtypes(['category']).columns] = test_users_df.select_dtypes(['category']).apply(lambda x: x.astype('object'))"
   ]
  },
  {
   "cell_type": "code",
   "execution_count": 119,
   "id": "a7f75c52-8d0d-4b57-95f3-0e6210d60974",
   "metadata": {},
   "outputs": [
    {
     "name": "stdout",
     "output_type": "stream",
     "text": [
      "<class 'pandas.core.frame.DataFrame'>\n",
      "Index: 61426 entries, 0 to 62095\n",
      "Data columns (total 17 columns):\n",
      " #   Column                   Non-Null Count  Dtype         \n",
      "---  ------                   --------------  -----         \n",
      " 0   id                       61426 non-null  object        \n",
      " 1   date_account_created     61426 non-null  datetime64[ns]\n",
      " 2   timestamp_first_active   61426 non-null  datetime64[ns]\n",
      " 3   date_first_booking       0 non-null      datetime64[ns]\n",
      " 4   gender                   61426 non-null  object        \n",
      " 5   age                      61426 non-null  float64       \n",
      " 6   signup_method            61426 non-null  object        \n",
      " 7   signup_flow              61426 non-null  int64         \n",
      " 8   language                 61426 non-null  object        \n",
      " 9   affiliate_channel        61426 non-null  object        \n",
      " 10  affiliate_provider       61426 non-null  object        \n",
      " 11  first_affiliate_tracked  61426 non-null  object        \n",
      " 12  signup_app               61426 non-null  object        \n",
      " 13  first_device_type        61426 non-null  object        \n",
      " 14  first_browser            61426 non-null  object        \n",
      " 15  z_scores                 61426 non-null  float64       \n",
      " 16  abs_z_scores             61426 non-null  float64       \n",
      "dtypes: datetime64[ns](3), float64(3), int64(1), object(10)\n",
      "memory usage: 8.4+ MB\n"
     ]
    }
   ],
   "source": [
    "test_users_df.info()"
   ]
  },
  {
   "cell_type": "code",
   "execution_count": 120,
   "id": "c41329bc-0be0-4ebb-a279-c1aa84b96b70",
   "metadata": {},
   "outputs": [
    {
     "data": {
      "text/plain": [
       "Index(['id', 'date_account_created', 'timestamp_first_active',\n",
       "       'date_first_booking', 'gender', 'age', 'signup_method', 'signup_flow',\n",
       "       'language', 'affiliate_channel', 'affiliate_provider',\n",
       "       'first_affiliate_tracked', 'signup_app', 'first_device_type',\n",
       "       'first_browser', 'z_scores', 'abs_z_scores'],\n",
       "      dtype='object')"
      ]
     },
     "execution_count": 120,
     "metadata": {},
     "output_type": "execute_result"
    }
   ],
   "source": [
    "test_users_df.columns"
   ]
  },
  {
   "cell_type": "code",
   "execution_count": 121,
   "id": "1f25f942-2842-4d44-be3e-681dc2324cdd",
   "metadata": {},
   "outputs": [
    {
     "data": {
      "text/html": [
       "<div>\n",
       "<style scoped>\n",
       "    .dataframe tbody tr th:only-of-type {\n",
       "        vertical-align: middle;\n",
       "    }\n",
       "\n",
       "    .dataframe tbody tr th {\n",
       "        vertical-align: top;\n",
       "    }\n",
       "\n",
       "    .dataframe thead th {\n",
       "        text-align: right;\n",
       "    }\n",
       "</style>\n",
       "<table border=\"1\" class=\"dataframe\">\n",
       "  <thead>\n",
       "    <tr style=\"text-align: right;\">\n",
       "      <th></th>\n",
       "      <th>id</th>\n",
       "      <th>date_account_created</th>\n",
       "      <th>timestamp_first_active</th>\n",
       "      <th>date_first_booking</th>\n",
       "      <th>gender</th>\n",
       "      <th>age</th>\n",
       "      <th>signup_method</th>\n",
       "      <th>signup_flow</th>\n",
       "      <th>language</th>\n",
       "      <th>affiliate_channel</th>\n",
       "      <th>affiliate_provider</th>\n",
       "      <th>first_affiliate_tracked</th>\n",
       "      <th>signup_app</th>\n",
       "      <th>first_device_type</th>\n",
       "      <th>first_browser</th>\n",
       "    </tr>\n",
       "  </thead>\n",
       "  <tbody>\n",
       "    <tr>\n",
       "      <th>0</th>\n",
       "      <td>5uwns89zht</td>\n",
       "      <td>2014-07-01</td>\n",
       "      <td>2014-07-01 00:00:06</td>\n",
       "      <td>NaT</td>\n",
       "      <td>female</td>\n",
       "      <td>35.0</td>\n",
       "      <td>facebook</td>\n",
       "      <td>0</td>\n",
       "      <td>en</td>\n",
       "      <td>direct</td>\n",
       "      <td>direct</td>\n",
       "      <td>untracked</td>\n",
       "      <td>Moweb</td>\n",
       "      <td>iPhone</td>\n",
       "      <td>Mobile Safari</td>\n",
       "    </tr>\n",
       "    <tr>\n",
       "      <th>1</th>\n",
       "      <td>jtl0dijy2j</td>\n",
       "      <td>2014-07-01</td>\n",
       "      <td>2014-07-01 00:00:51</td>\n",
       "      <td>NaT</td>\n",
       "      <td>female</td>\n",
       "      <td>37.0</td>\n",
       "      <td>basic</td>\n",
       "      <td>0</td>\n",
       "      <td>en</td>\n",
       "      <td>direct</td>\n",
       "      <td>direct</td>\n",
       "      <td>untracked</td>\n",
       "      <td>Moweb</td>\n",
       "      <td>iPhone</td>\n",
       "      <td>Mobile Safari</td>\n",
       "    </tr>\n",
       "    <tr>\n",
       "      <th>2</th>\n",
       "      <td>xx0ulgorjt</td>\n",
       "      <td>2014-07-01</td>\n",
       "      <td>2014-07-01 00:01:48</td>\n",
       "      <td>NaT</td>\n",
       "      <td>male</td>\n",
       "      <td>32.0</td>\n",
       "      <td>basic</td>\n",
       "      <td>0</td>\n",
       "      <td>en</td>\n",
       "      <td>direct</td>\n",
       "      <td>direct</td>\n",
       "      <td>linked</td>\n",
       "      <td>Web</td>\n",
       "      <td>Windows Desktop</td>\n",
       "      <td>Chrome</td>\n",
       "    </tr>\n",
       "    <tr>\n",
       "      <th>3</th>\n",
       "      <td>6c6puo6ix0</td>\n",
       "      <td>2014-07-01</td>\n",
       "      <td>2014-07-01 00:02:15</td>\n",
       "      <td>NaT</td>\n",
       "      <td>male</td>\n",
       "      <td>26.0</td>\n",
       "      <td>basic</td>\n",
       "      <td>0</td>\n",
       "      <td>en</td>\n",
       "      <td>direct</td>\n",
       "      <td>direct</td>\n",
       "      <td>linked</td>\n",
       "      <td>Web</td>\n",
       "      <td>Windows Desktop</td>\n",
       "      <td>IE</td>\n",
       "    </tr>\n",
       "    <tr>\n",
       "      <th>4</th>\n",
       "      <td>czqhjk3yfe</td>\n",
       "      <td>2014-07-01</td>\n",
       "      <td>2014-07-01 00:03:05</td>\n",
       "      <td>NaT</td>\n",
       "      <td>male</td>\n",
       "      <td>39.0</td>\n",
       "      <td>basic</td>\n",
       "      <td>0</td>\n",
       "      <td>en</td>\n",
       "      <td>direct</td>\n",
       "      <td>direct</td>\n",
       "      <td>untracked</td>\n",
       "      <td>Web</td>\n",
       "      <td>Mac Desktop</td>\n",
       "      <td>Safari</td>\n",
       "    </tr>\n",
       "  </tbody>\n",
       "</table>\n",
       "</div>"
      ],
      "text/plain": [
       "           id date_account_created timestamp_first_active date_first_booking  \\\n",
       "0  5uwns89zht           2014-07-01    2014-07-01 00:00:06                NaT   \n",
       "1  jtl0dijy2j           2014-07-01    2014-07-01 00:00:51                NaT   \n",
       "2  xx0ulgorjt           2014-07-01    2014-07-01 00:01:48                NaT   \n",
       "3  6c6puo6ix0           2014-07-01    2014-07-01 00:02:15                NaT   \n",
       "4  czqhjk3yfe           2014-07-01    2014-07-01 00:03:05                NaT   \n",
       "\n",
       "   gender   age signup_method  signup_flow language affiliate_channel  \\\n",
       "0  female  35.0      facebook            0       en            direct   \n",
       "1  female  37.0         basic            0       en            direct   \n",
       "2    male  32.0         basic            0       en            direct   \n",
       "3    male  26.0         basic            0       en            direct   \n",
       "4    male  39.0         basic            0       en            direct   \n",
       "\n",
       "  affiliate_provider first_affiliate_tracked signup_app first_device_type  \\\n",
       "0             direct               untracked      Moweb            iPhone   \n",
       "1             direct               untracked      Moweb            iPhone   \n",
       "2             direct                  linked        Web   Windows Desktop   \n",
       "3             direct                  linked        Web   Windows Desktop   \n",
       "4             direct               untracked        Web       Mac Desktop   \n",
       "\n",
       "   first_browser  \n",
       "0  Mobile Safari  \n",
       "1  Mobile Safari  \n",
       "2         Chrome  \n",
       "3             IE  \n",
       "4         Safari  "
      ]
     },
     "execution_count": 121,
     "metadata": {},
     "output_type": "execute_result"
    }
   ],
   "source": [
    "test_users_cleaned = test_users_df.drop(axis=1, columns=['z_scores', 'abs_z_scores']).copy()\n",
    "test_users_cleaned.head()"
   ]
  },
  {
   "cell_type": "code",
   "execution_count": 122,
   "id": "8eb3610a-5e6b-40a2-8b1f-89d2d8b9b994",
   "metadata": {},
   "outputs": [
    {
     "data": {
      "text/plain": [
       "(61426, 15)"
      ]
     },
     "execution_count": 122,
     "metadata": {},
     "output_type": "execute_result"
    }
   ],
   "source": [
    "test_users_cleaned.shape"
   ]
  },
  {
   "cell_type": "code",
   "execution_count": 123,
   "id": "644a42a2-fbbc-4143-9310-037ef0c3d8df",
   "metadata": {},
   "outputs": [
    {
     "name": "stdout",
     "output_type": "stream",
     "text": [
      "<class 'pandas.core.frame.DataFrame'>\n",
      "Index: 61426 entries, 0 to 62095\n",
      "Data columns (total 15 columns):\n",
      " #   Column                   Non-Null Count  Dtype         \n",
      "---  ------                   --------------  -----         \n",
      " 0   id                       61426 non-null  object        \n",
      " 1   date_account_created     61426 non-null  datetime64[ns]\n",
      " 2   timestamp_first_active   61426 non-null  datetime64[ns]\n",
      " 3   date_first_booking       0 non-null      datetime64[ns]\n",
      " 4   gender                   61426 non-null  object        \n",
      " 5   age                      61426 non-null  float64       \n",
      " 6   signup_method            61426 non-null  object        \n",
      " 7   signup_flow              61426 non-null  int64         \n",
      " 8   language                 61426 non-null  object        \n",
      " 9   affiliate_channel        61426 non-null  object        \n",
      " 10  affiliate_provider       61426 non-null  object        \n",
      " 11  first_affiliate_tracked  61426 non-null  object        \n",
      " 12  signup_app               61426 non-null  object        \n",
      " 13  first_device_type        61426 non-null  object        \n",
      " 14  first_browser            61426 non-null  object        \n",
      "dtypes: datetime64[ns](3), float64(1), int64(1), object(10)\n",
      "memory usage: 7.5+ MB\n"
     ]
    }
   ],
   "source": [
    "test_users_cleaned.info()"
   ]
  },
  {
   "cell_type": "code",
   "execution_count": 124,
   "id": "05609209-521c-406b-a943-81699d203277",
   "metadata": {},
   "outputs": [],
   "source": [
    "test_users_cleaned.to_csv('test_users_cleaned.csv')"
   ]
  },
  {
   "attachments": {},
   "cell_type": "markdown",
   "id": "bedaf2d6",
   "metadata": {
    "id": "bedaf2d6"
   },
   "source": [
    "##############################################################################################################################"
   ]
  },
  {
   "attachments": {},
   "cell_type": "markdown",
   "id": "51e10a5e",
   "metadata": {
    "id": "51e10a5e"
   },
   "source": [
    "### ML modelling"
   ]
  },
  {
   "cell_type": "code",
   "execution_count": 220,
   "id": "XY8OP8HXNCch",
   "metadata": {
    "executionInfo": {
     "elapsed": 303,
     "status": "ok",
     "timestamp": 1687539692268,
     "user": {
      "displayName": "Yasser Sakr",
      "userId": "15584901531651561141"
     },
     "user_tz": -180
    },
    "id": "XY8OP8HXNCch"
   },
   "outputs": [],
   "source": [
    "RANDOM_STATE = 1 ## We will pass it to every sklearn call so we ensure reproducibility"
   ]
  },
  {
   "cell_type": "code",
   "execution_count": 221,
   "id": "7f93eee0",
   "metadata": {
    "id": "7f93eee0"
   },
   "outputs": [
    {
     "data": {
      "text/html": [
       "<div>\n",
       "<style scoped>\n",
       "    .dataframe tbody tr th:only-of-type {\n",
       "        vertical-align: middle;\n",
       "    }\n",
       "\n",
       "    .dataframe tbody tr th {\n",
       "        vertical-align: top;\n",
       "    }\n",
       "\n",
       "    .dataframe thead th {\n",
       "        text-align: right;\n",
       "    }\n",
       "</style>\n",
       "<table border=\"1\" class=\"dataframe\">\n",
       "  <thead>\n",
       "    <tr style=\"text-align: right;\">\n",
       "      <th></th>\n",
       "      <th>id</th>\n",
       "      <th>date_account_created</th>\n",
       "      <th>timestamp_first_active</th>\n",
       "      <th>date_first_booking</th>\n",
       "      <th>gender</th>\n",
       "      <th>age</th>\n",
       "      <th>signup_method</th>\n",
       "      <th>signup_flow</th>\n",
       "      <th>language</th>\n",
       "      <th>affiliate_channel</th>\n",
       "      <th>affiliate_provider</th>\n",
       "      <th>first_affiliate_tracked</th>\n",
       "      <th>signup_app</th>\n",
       "      <th>first_device_type</th>\n",
       "      <th>first_browser</th>\n",
       "      <th>country_destination</th>\n",
       "    </tr>\n",
       "  </thead>\n",
       "  <tbody>\n",
       "    <tr>\n",
       "      <th>0</th>\n",
       "      <td>gxn3p5htnn</td>\n",
       "      <td>2010-06-28</td>\n",
       "      <td>2009-03-19 04:32:55</td>\n",
       "      <td>NaT</td>\n",
       "      <td>male</td>\n",
       "      <td>29.0</td>\n",
       "      <td>facebook</td>\n",
       "      <td>0</td>\n",
       "      <td>en</td>\n",
       "      <td>direct</td>\n",
       "      <td>direct</td>\n",
       "      <td>untracked</td>\n",
       "      <td>Web</td>\n",
       "      <td>Mac Desktop</td>\n",
       "      <td>Chrome</td>\n",
       "      <td>NDF</td>\n",
       "    </tr>\n",
       "    <tr>\n",
       "      <th>1</th>\n",
       "      <td>820tgsjxq7</td>\n",
       "      <td>2011-05-25</td>\n",
       "      <td>2009-05-23 17:48:09</td>\n",
       "      <td>NaT</td>\n",
       "      <td>male</td>\n",
       "      <td>38.0</td>\n",
       "      <td>facebook</td>\n",
       "      <td>0</td>\n",
       "      <td>en</td>\n",
       "      <td>seo</td>\n",
       "      <td>google</td>\n",
       "      <td>untracked</td>\n",
       "      <td>Web</td>\n",
       "      <td>Mac Desktop</td>\n",
       "      <td>Chrome</td>\n",
       "      <td>NDF</td>\n",
       "    </tr>\n",
       "    <tr>\n",
       "      <th>2</th>\n",
       "      <td>4ft3gnwmtx</td>\n",
       "      <td>2010-09-28</td>\n",
       "      <td>2009-06-09 23:12:47</td>\n",
       "      <td>2010-08-02</td>\n",
       "      <td>female</td>\n",
       "      <td>56.0</td>\n",
       "      <td>basic</td>\n",
       "      <td>3</td>\n",
       "      <td>en</td>\n",
       "      <td>direct</td>\n",
       "      <td>direct</td>\n",
       "      <td>untracked</td>\n",
       "      <td>Web</td>\n",
       "      <td>Windows Desktop</td>\n",
       "      <td>IE</td>\n",
       "      <td>US</td>\n",
       "    </tr>\n",
       "    <tr>\n",
       "      <th>3</th>\n",
       "      <td>bjjt8pjhuk</td>\n",
       "      <td>2011-12-05</td>\n",
       "      <td>2009-10-31 06:01:29</td>\n",
       "      <td>2012-09-08</td>\n",
       "      <td>female</td>\n",
       "      <td>42.0</td>\n",
       "      <td>facebook</td>\n",
       "      <td>0</td>\n",
       "      <td>en</td>\n",
       "      <td>direct</td>\n",
       "      <td>direct</td>\n",
       "      <td>untracked</td>\n",
       "      <td>Web</td>\n",
       "      <td>Mac Desktop</td>\n",
       "      <td>Firefox</td>\n",
       "      <td>other</td>\n",
       "    </tr>\n",
       "    <tr>\n",
       "      <th>4</th>\n",
       "      <td>87mebub9p4</td>\n",
       "      <td>2010-09-14</td>\n",
       "      <td>2009-12-08 06:11:05</td>\n",
       "      <td>2010-02-18</td>\n",
       "      <td>male</td>\n",
       "      <td>41.0</td>\n",
       "      <td>basic</td>\n",
       "      <td>0</td>\n",
       "      <td>en</td>\n",
       "      <td>direct</td>\n",
       "      <td>direct</td>\n",
       "      <td>untracked</td>\n",
       "      <td>Web</td>\n",
       "      <td>Mac Desktop</td>\n",
       "      <td>Chrome</td>\n",
       "      <td>US</td>\n",
       "    </tr>\n",
       "  </tbody>\n",
       "</table>\n",
       "</div>"
      ],
      "text/plain": [
       "           id date_account_created timestamp_first_active date_first_booking  \\\n",
       "0  gxn3p5htnn           2010-06-28    2009-03-19 04:32:55                NaT   \n",
       "1  820tgsjxq7           2011-05-25    2009-05-23 17:48:09                NaT   \n",
       "2  4ft3gnwmtx           2010-09-28    2009-06-09 23:12:47         2010-08-02   \n",
       "3  bjjt8pjhuk           2011-12-05    2009-10-31 06:01:29         2012-09-08   \n",
       "4  87mebub9p4           2010-09-14    2009-12-08 06:11:05         2010-02-18   \n",
       "\n",
       "   gender   age signup_method  signup_flow language affiliate_channel  \\\n",
       "0    male  29.0      facebook            0       en            direct   \n",
       "1    male  38.0      facebook            0       en               seo   \n",
       "2  female  56.0         basic            3       en            direct   \n",
       "3  female  42.0      facebook            0       en            direct   \n",
       "4    male  41.0         basic            0       en            direct   \n",
       "\n",
       "  affiliate_provider first_affiliate_tracked signup_app first_device_type  \\\n",
       "0             direct               untracked        Web       Mac Desktop   \n",
       "1             google               untracked        Web       Mac Desktop   \n",
       "2             direct               untracked        Web   Windows Desktop   \n",
       "3             direct               untracked        Web       Mac Desktop   \n",
       "4             direct               untracked        Web       Mac Desktop   \n",
       "\n",
       "  first_browser country_destination  \n",
       "0        Chrome                 NDF  \n",
       "1        Chrome                 NDF  \n",
       "2            IE                  US  \n",
       "3       Firefox               other  \n",
       "4        Chrome                  US  "
      ]
     },
     "execution_count": 221,
     "metadata": {},
     "output_type": "execute_result"
    }
   ],
   "source": [
    "train_users_cleaned.head()"
   ]
  },
  {
   "cell_type": "code",
   "execution_count": 222,
   "id": "d97303fd-7760-42d1-9cfb-5ac63624014b",
   "metadata": {},
   "outputs": [],
   "source": [
    "X_train = train_users_cleaned.drop(['id', 'date_account_created', 'timestamp_first_active', 'date_first_booking'], axis=1).iloc[:, :-1]\n",
    "y_train = train_users_cleaned.iloc[:, -1]"
   ]
  },
  {
   "cell_type": "code",
   "execution_count": 223,
   "id": "48ca2c6b-cb4a-4bbb-a14f-6c370e78dcca",
   "metadata": {},
   "outputs": [
    {
     "data": {
      "text/html": [
       "<div>\n",
       "<style scoped>\n",
       "    .dataframe tbody tr th:only-of-type {\n",
       "        vertical-align: middle;\n",
       "    }\n",
       "\n",
       "    .dataframe tbody tr th {\n",
       "        vertical-align: top;\n",
       "    }\n",
       "\n",
       "    .dataframe thead th {\n",
       "        text-align: right;\n",
       "    }\n",
       "</style>\n",
       "<table border=\"1\" class=\"dataframe\">\n",
       "  <thead>\n",
       "    <tr style=\"text-align: right;\">\n",
       "      <th></th>\n",
       "      <th>gender</th>\n",
       "      <th>age</th>\n",
       "      <th>signup_method</th>\n",
       "      <th>signup_flow</th>\n",
       "      <th>language</th>\n",
       "      <th>affiliate_channel</th>\n",
       "      <th>affiliate_provider</th>\n",
       "      <th>first_affiliate_tracked</th>\n",
       "      <th>signup_app</th>\n",
       "      <th>first_device_type</th>\n",
       "      <th>first_browser</th>\n",
       "    </tr>\n",
       "  </thead>\n",
       "  <tbody>\n",
       "    <tr>\n",
       "      <th>0</th>\n",
       "      <td>male</td>\n",
       "      <td>29.0</td>\n",
       "      <td>facebook</td>\n",
       "      <td>0</td>\n",
       "      <td>en</td>\n",
       "      <td>direct</td>\n",
       "      <td>direct</td>\n",
       "      <td>untracked</td>\n",
       "      <td>Web</td>\n",
       "      <td>Mac Desktop</td>\n",
       "      <td>Chrome</td>\n",
       "    </tr>\n",
       "    <tr>\n",
       "      <th>1</th>\n",
       "      <td>male</td>\n",
       "      <td>38.0</td>\n",
       "      <td>facebook</td>\n",
       "      <td>0</td>\n",
       "      <td>en</td>\n",
       "      <td>seo</td>\n",
       "      <td>google</td>\n",
       "      <td>untracked</td>\n",
       "      <td>Web</td>\n",
       "      <td>Mac Desktop</td>\n",
       "      <td>Chrome</td>\n",
       "    </tr>\n",
       "    <tr>\n",
       "      <th>2</th>\n",
       "      <td>female</td>\n",
       "      <td>56.0</td>\n",
       "      <td>basic</td>\n",
       "      <td>3</td>\n",
       "      <td>en</td>\n",
       "      <td>direct</td>\n",
       "      <td>direct</td>\n",
       "      <td>untracked</td>\n",
       "      <td>Web</td>\n",
       "      <td>Windows Desktop</td>\n",
       "      <td>IE</td>\n",
       "    </tr>\n",
       "    <tr>\n",
       "      <th>3</th>\n",
       "      <td>female</td>\n",
       "      <td>42.0</td>\n",
       "      <td>facebook</td>\n",
       "      <td>0</td>\n",
       "      <td>en</td>\n",
       "      <td>direct</td>\n",
       "      <td>direct</td>\n",
       "      <td>untracked</td>\n",
       "      <td>Web</td>\n",
       "      <td>Mac Desktop</td>\n",
       "      <td>Firefox</td>\n",
       "    </tr>\n",
       "    <tr>\n",
       "      <th>4</th>\n",
       "      <td>male</td>\n",
       "      <td>41.0</td>\n",
       "      <td>basic</td>\n",
       "      <td>0</td>\n",
       "      <td>en</td>\n",
       "      <td>direct</td>\n",
       "      <td>direct</td>\n",
       "      <td>untracked</td>\n",
       "      <td>Web</td>\n",
       "      <td>Mac Desktop</td>\n",
       "      <td>Chrome</td>\n",
       "    </tr>\n",
       "  </tbody>\n",
       "</table>\n",
       "</div>"
      ],
      "text/plain": [
       "   gender   age signup_method  signup_flow language affiliate_channel  \\\n",
       "0    male  29.0      facebook            0       en            direct   \n",
       "1    male  38.0      facebook            0       en               seo   \n",
       "2  female  56.0         basic            3       en            direct   \n",
       "3  female  42.0      facebook            0       en            direct   \n",
       "4    male  41.0         basic            0       en            direct   \n",
       "\n",
       "  affiliate_provider first_affiliate_tracked signup_app first_device_type  \\\n",
       "0             direct               untracked        Web       Mac Desktop   \n",
       "1             google               untracked        Web       Mac Desktop   \n",
       "2             direct               untracked        Web   Windows Desktop   \n",
       "3             direct               untracked        Web       Mac Desktop   \n",
       "4             direct               untracked        Web       Mac Desktop   \n",
       "\n",
       "  first_browser  \n",
       "0        Chrome  \n",
       "1        Chrome  \n",
       "2            IE  \n",
       "3       Firefox  \n",
       "4        Chrome  "
      ]
     },
     "execution_count": 223,
     "metadata": {},
     "output_type": "execute_result"
    }
   ],
   "source": [
    "X_train.head()"
   ]
  },
  {
   "cell_type": "code",
   "execution_count": 224,
   "id": "7cff8a49-05ec-4150-a182-dc94a81d556f",
   "metadata": {},
   "outputs": [
    {
     "data": {
      "text/plain": [
       "0      NDF\n",
       "1      NDF\n",
       "2       US\n",
       "3    other\n",
       "4       US\n",
       "Name: country_destination, dtype: object"
      ]
     },
     "execution_count": 224,
     "metadata": {},
     "output_type": "execute_result"
    }
   ],
   "source": [
    "y_train.head()"
   ]
  },
  {
   "cell_type": "code",
   "execution_count": 225,
   "id": "70ddfacd-26bc-499f-a4f3-d49076bae1ff",
   "metadata": {},
   "outputs": [
    {
     "data": {
      "text/html": [
       "<div>\n",
       "<style scoped>\n",
       "    .dataframe tbody tr th:only-of-type {\n",
       "        vertical-align: middle;\n",
       "    }\n",
       "\n",
       "    .dataframe tbody tr th {\n",
       "        vertical-align: top;\n",
       "    }\n",
       "\n",
       "    .dataframe thead th {\n",
       "        text-align: right;\n",
       "    }\n",
       "</style>\n",
       "<table border=\"1\" class=\"dataframe\">\n",
       "  <thead>\n",
       "    <tr style=\"text-align: right;\">\n",
       "      <th></th>\n",
       "      <th>id</th>\n",
       "      <th>date_account_created</th>\n",
       "      <th>timestamp_first_active</th>\n",
       "      <th>date_first_booking</th>\n",
       "      <th>gender</th>\n",
       "      <th>age</th>\n",
       "      <th>signup_method</th>\n",
       "      <th>signup_flow</th>\n",
       "      <th>language</th>\n",
       "      <th>affiliate_channel</th>\n",
       "      <th>affiliate_provider</th>\n",
       "      <th>first_affiliate_tracked</th>\n",
       "      <th>signup_app</th>\n",
       "      <th>first_device_type</th>\n",
       "      <th>first_browser</th>\n",
       "    </tr>\n",
       "  </thead>\n",
       "  <tbody>\n",
       "    <tr>\n",
       "      <th>0</th>\n",
       "      <td>5uwns89zht</td>\n",
       "      <td>2014-07-01</td>\n",
       "      <td>2014-07-01 00:00:06</td>\n",
       "      <td>NaT</td>\n",
       "      <td>female</td>\n",
       "      <td>35.0</td>\n",
       "      <td>facebook</td>\n",
       "      <td>0</td>\n",
       "      <td>en</td>\n",
       "      <td>direct</td>\n",
       "      <td>direct</td>\n",
       "      <td>untracked</td>\n",
       "      <td>Moweb</td>\n",
       "      <td>iPhone</td>\n",
       "      <td>Mobile Safari</td>\n",
       "    </tr>\n",
       "    <tr>\n",
       "      <th>1</th>\n",
       "      <td>jtl0dijy2j</td>\n",
       "      <td>2014-07-01</td>\n",
       "      <td>2014-07-01 00:00:51</td>\n",
       "      <td>NaT</td>\n",
       "      <td>female</td>\n",
       "      <td>37.0</td>\n",
       "      <td>basic</td>\n",
       "      <td>0</td>\n",
       "      <td>en</td>\n",
       "      <td>direct</td>\n",
       "      <td>direct</td>\n",
       "      <td>untracked</td>\n",
       "      <td>Moweb</td>\n",
       "      <td>iPhone</td>\n",
       "      <td>Mobile Safari</td>\n",
       "    </tr>\n",
       "    <tr>\n",
       "      <th>2</th>\n",
       "      <td>xx0ulgorjt</td>\n",
       "      <td>2014-07-01</td>\n",
       "      <td>2014-07-01 00:01:48</td>\n",
       "      <td>NaT</td>\n",
       "      <td>male</td>\n",
       "      <td>32.0</td>\n",
       "      <td>basic</td>\n",
       "      <td>0</td>\n",
       "      <td>en</td>\n",
       "      <td>direct</td>\n",
       "      <td>direct</td>\n",
       "      <td>linked</td>\n",
       "      <td>Web</td>\n",
       "      <td>Windows Desktop</td>\n",
       "      <td>Chrome</td>\n",
       "    </tr>\n",
       "    <tr>\n",
       "      <th>3</th>\n",
       "      <td>6c6puo6ix0</td>\n",
       "      <td>2014-07-01</td>\n",
       "      <td>2014-07-01 00:02:15</td>\n",
       "      <td>NaT</td>\n",
       "      <td>male</td>\n",
       "      <td>26.0</td>\n",
       "      <td>basic</td>\n",
       "      <td>0</td>\n",
       "      <td>en</td>\n",
       "      <td>direct</td>\n",
       "      <td>direct</td>\n",
       "      <td>linked</td>\n",
       "      <td>Web</td>\n",
       "      <td>Windows Desktop</td>\n",
       "      <td>IE</td>\n",
       "    </tr>\n",
       "    <tr>\n",
       "      <th>4</th>\n",
       "      <td>czqhjk3yfe</td>\n",
       "      <td>2014-07-01</td>\n",
       "      <td>2014-07-01 00:03:05</td>\n",
       "      <td>NaT</td>\n",
       "      <td>male</td>\n",
       "      <td>39.0</td>\n",
       "      <td>basic</td>\n",
       "      <td>0</td>\n",
       "      <td>en</td>\n",
       "      <td>direct</td>\n",
       "      <td>direct</td>\n",
       "      <td>untracked</td>\n",
       "      <td>Web</td>\n",
       "      <td>Mac Desktop</td>\n",
       "      <td>Safari</td>\n",
       "    </tr>\n",
       "  </tbody>\n",
       "</table>\n",
       "</div>"
      ],
      "text/plain": [
       "           id date_account_created timestamp_first_active date_first_booking  \\\n",
       "0  5uwns89zht           2014-07-01    2014-07-01 00:00:06                NaT   \n",
       "1  jtl0dijy2j           2014-07-01    2014-07-01 00:00:51                NaT   \n",
       "2  xx0ulgorjt           2014-07-01    2014-07-01 00:01:48                NaT   \n",
       "3  6c6puo6ix0           2014-07-01    2014-07-01 00:02:15                NaT   \n",
       "4  czqhjk3yfe           2014-07-01    2014-07-01 00:03:05                NaT   \n",
       "\n",
       "   gender   age signup_method  signup_flow language affiliate_channel  \\\n",
       "0  female  35.0      facebook            0       en            direct   \n",
       "1  female  37.0         basic            0       en            direct   \n",
       "2    male  32.0         basic            0       en            direct   \n",
       "3    male  26.0         basic            0       en            direct   \n",
       "4    male  39.0         basic            0       en            direct   \n",
       "\n",
       "  affiliate_provider first_affiliate_tracked signup_app first_device_type  \\\n",
       "0             direct               untracked      Moweb            iPhone   \n",
       "1             direct               untracked      Moweb            iPhone   \n",
       "2             direct                  linked        Web   Windows Desktop   \n",
       "3             direct                  linked        Web   Windows Desktop   \n",
       "4             direct               untracked        Web       Mac Desktop   \n",
       "\n",
       "   first_browser  \n",
       "0  Mobile Safari  \n",
       "1  Mobile Safari  \n",
       "2         Chrome  \n",
       "3             IE  \n",
       "4         Safari  "
      ]
     },
     "execution_count": 225,
     "metadata": {},
     "output_type": "execute_result"
    }
   ],
   "source": [
    "test_users_cleaned.head()"
   ]
  },
  {
   "cell_type": "code",
   "execution_count": 226,
   "id": "5c242292-4500-480d-a1d6-77ba583e2d29",
   "metadata": {},
   "outputs": [],
   "source": [
    "X_test = test_users_cleaned.drop(['id', 'date_account_created', 'timestamp_first_active', 'date_first_booking'], axis=1)"
   ]
  },
  {
   "cell_type": "code",
   "execution_count": 227,
   "id": "220b9004-9f4e-4c85-ac12-17607ec897cb",
   "metadata": {},
   "outputs": [
    {
     "data": {
      "text/html": [
       "<div>\n",
       "<style scoped>\n",
       "    .dataframe tbody tr th:only-of-type {\n",
       "        vertical-align: middle;\n",
       "    }\n",
       "\n",
       "    .dataframe tbody tr th {\n",
       "        vertical-align: top;\n",
       "    }\n",
       "\n",
       "    .dataframe thead th {\n",
       "        text-align: right;\n",
       "    }\n",
       "</style>\n",
       "<table border=\"1\" class=\"dataframe\">\n",
       "  <thead>\n",
       "    <tr style=\"text-align: right;\">\n",
       "      <th></th>\n",
       "      <th>gender</th>\n",
       "      <th>age</th>\n",
       "      <th>signup_method</th>\n",
       "      <th>signup_flow</th>\n",
       "      <th>language</th>\n",
       "      <th>affiliate_channel</th>\n",
       "      <th>affiliate_provider</th>\n",
       "      <th>first_affiliate_tracked</th>\n",
       "      <th>signup_app</th>\n",
       "      <th>first_device_type</th>\n",
       "      <th>first_browser</th>\n",
       "    </tr>\n",
       "  </thead>\n",
       "  <tbody>\n",
       "    <tr>\n",
       "      <th>0</th>\n",
       "      <td>female</td>\n",
       "      <td>35.0</td>\n",
       "      <td>facebook</td>\n",
       "      <td>0</td>\n",
       "      <td>en</td>\n",
       "      <td>direct</td>\n",
       "      <td>direct</td>\n",
       "      <td>untracked</td>\n",
       "      <td>Moweb</td>\n",
       "      <td>iPhone</td>\n",
       "      <td>Mobile Safari</td>\n",
       "    </tr>\n",
       "    <tr>\n",
       "      <th>1</th>\n",
       "      <td>female</td>\n",
       "      <td>37.0</td>\n",
       "      <td>basic</td>\n",
       "      <td>0</td>\n",
       "      <td>en</td>\n",
       "      <td>direct</td>\n",
       "      <td>direct</td>\n",
       "      <td>untracked</td>\n",
       "      <td>Moweb</td>\n",
       "      <td>iPhone</td>\n",
       "      <td>Mobile Safari</td>\n",
       "    </tr>\n",
       "    <tr>\n",
       "      <th>2</th>\n",
       "      <td>male</td>\n",
       "      <td>32.0</td>\n",
       "      <td>basic</td>\n",
       "      <td>0</td>\n",
       "      <td>en</td>\n",
       "      <td>direct</td>\n",
       "      <td>direct</td>\n",
       "      <td>linked</td>\n",
       "      <td>Web</td>\n",
       "      <td>Windows Desktop</td>\n",
       "      <td>Chrome</td>\n",
       "    </tr>\n",
       "    <tr>\n",
       "      <th>3</th>\n",
       "      <td>male</td>\n",
       "      <td>26.0</td>\n",
       "      <td>basic</td>\n",
       "      <td>0</td>\n",
       "      <td>en</td>\n",
       "      <td>direct</td>\n",
       "      <td>direct</td>\n",
       "      <td>linked</td>\n",
       "      <td>Web</td>\n",
       "      <td>Windows Desktop</td>\n",
       "      <td>IE</td>\n",
       "    </tr>\n",
       "    <tr>\n",
       "      <th>4</th>\n",
       "      <td>male</td>\n",
       "      <td>39.0</td>\n",
       "      <td>basic</td>\n",
       "      <td>0</td>\n",
       "      <td>en</td>\n",
       "      <td>direct</td>\n",
       "      <td>direct</td>\n",
       "      <td>untracked</td>\n",
       "      <td>Web</td>\n",
       "      <td>Mac Desktop</td>\n",
       "      <td>Safari</td>\n",
       "    </tr>\n",
       "  </tbody>\n",
       "</table>\n",
       "</div>"
      ],
      "text/plain": [
       "   gender   age signup_method  signup_flow language affiliate_channel  \\\n",
       "0  female  35.0      facebook            0       en            direct   \n",
       "1  female  37.0         basic            0       en            direct   \n",
       "2    male  32.0         basic            0       en            direct   \n",
       "3    male  26.0         basic            0       en            direct   \n",
       "4    male  39.0         basic            0       en            direct   \n",
       "\n",
       "  affiliate_provider first_affiliate_tracked signup_app first_device_type  \\\n",
       "0             direct               untracked      Moweb            iPhone   \n",
       "1             direct               untracked      Moweb            iPhone   \n",
       "2             direct                  linked        Web   Windows Desktop   \n",
       "3             direct                  linked        Web   Windows Desktop   \n",
       "4             direct               untracked        Web       Mac Desktop   \n",
       "\n",
       "   first_browser  \n",
       "0  Mobile Safari  \n",
       "1  Mobile Safari  \n",
       "2         Chrome  \n",
       "3             IE  \n",
       "4         Safari  "
      ]
     },
     "execution_count": 227,
     "metadata": {},
     "output_type": "execute_result"
    }
   ],
   "source": [
    "X_test.head()"
   ]
  },
  {
   "cell_type": "markdown",
   "id": "30393ca6-670c-4eef-b88b-4e6dc2f5c9e9",
   "metadata": {},
   "source": [
    "### One Hot Encoding"
   ]
  },
  {
   "cell_type": "code",
   "execution_count": 228,
   "id": "a75b6c71-41f3-4e52-99bd-7ff5212efa9d",
   "metadata": {},
   "outputs": [
    {
     "data": {
      "text/plain": [
       "Index(['gender', 'signup_method', 'language', 'affiliate_channel',\n",
       "       'affiliate_provider', 'first_affiliate_tracked', 'signup_app',\n",
       "       'first_device_type', 'first_browser'],\n",
       "      dtype='object')"
      ]
     },
     "execution_count": 228,
     "metadata": {},
     "output_type": "execute_result"
    }
   ],
   "source": [
    "cat_cols = X_train.select_dtypes('object').columns\n",
    "cat_cols"
   ]
  },
  {
   "cell_type": "code",
   "execution_count": 229,
   "id": "272741fb-198b-4613-b747-d3b92e283e41",
   "metadata": {},
   "outputs": [
    {
     "data": {
      "text/plain": [
       "(211905, 11)"
      ]
     },
     "execution_count": 229,
     "metadata": {},
     "output_type": "execute_result"
    }
   ],
   "source": [
    "X_train.shape"
   ]
  },
  {
   "cell_type": "code",
   "execution_count": 230,
   "id": "7bde06d9-8f2f-4411-a56e-dfb5331f0945",
   "metadata": {},
   "outputs": [
    {
     "data": {
      "text/plain": [
       "(61426, 11)"
      ]
     },
     "execution_count": 230,
     "metadata": {},
     "output_type": "execute_result"
    }
   ],
   "source": [
    "X_test.shape"
   ]
  },
  {
   "cell_type": "code",
   "execution_count": 231,
   "id": "a9bc5c01-bc49-4630-91e6-07a433cdb791",
   "metadata": {},
   "outputs": [],
   "source": [
    "X = pd.concat([X_train, X_test], ignore_index=True)"
   ]
  },
  {
   "cell_type": "code",
   "execution_count": 232,
   "id": "fdf20c52-262b-4cfa-86a7-3e4a97436cbc",
   "metadata": {},
   "outputs": [
    {
     "data": {
      "text/html": [
       "<div>\n",
       "<style scoped>\n",
       "    .dataframe tbody tr th:only-of-type {\n",
       "        vertical-align: middle;\n",
       "    }\n",
       "\n",
       "    .dataframe tbody tr th {\n",
       "        vertical-align: top;\n",
       "    }\n",
       "\n",
       "    .dataframe thead th {\n",
       "        text-align: right;\n",
       "    }\n",
       "</style>\n",
       "<table border=\"1\" class=\"dataframe\">\n",
       "  <thead>\n",
       "    <tr style=\"text-align: right;\">\n",
       "      <th></th>\n",
       "      <th>gender</th>\n",
       "      <th>age</th>\n",
       "      <th>signup_method</th>\n",
       "      <th>signup_flow</th>\n",
       "      <th>language</th>\n",
       "      <th>affiliate_channel</th>\n",
       "      <th>affiliate_provider</th>\n",
       "      <th>first_affiliate_tracked</th>\n",
       "      <th>signup_app</th>\n",
       "      <th>first_device_type</th>\n",
       "      <th>first_browser</th>\n",
       "    </tr>\n",
       "  </thead>\n",
       "  <tbody>\n",
       "    <tr>\n",
       "      <th>0</th>\n",
       "      <td>male</td>\n",
       "      <td>29.0</td>\n",
       "      <td>facebook</td>\n",
       "      <td>0</td>\n",
       "      <td>en</td>\n",
       "      <td>direct</td>\n",
       "      <td>direct</td>\n",
       "      <td>untracked</td>\n",
       "      <td>Web</td>\n",
       "      <td>Mac Desktop</td>\n",
       "      <td>Chrome</td>\n",
       "    </tr>\n",
       "    <tr>\n",
       "      <th>1</th>\n",
       "      <td>male</td>\n",
       "      <td>38.0</td>\n",
       "      <td>facebook</td>\n",
       "      <td>0</td>\n",
       "      <td>en</td>\n",
       "      <td>seo</td>\n",
       "      <td>google</td>\n",
       "      <td>untracked</td>\n",
       "      <td>Web</td>\n",
       "      <td>Mac Desktop</td>\n",
       "      <td>Chrome</td>\n",
       "    </tr>\n",
       "    <tr>\n",
       "      <th>2</th>\n",
       "      <td>female</td>\n",
       "      <td>56.0</td>\n",
       "      <td>basic</td>\n",
       "      <td>3</td>\n",
       "      <td>en</td>\n",
       "      <td>direct</td>\n",
       "      <td>direct</td>\n",
       "      <td>untracked</td>\n",
       "      <td>Web</td>\n",
       "      <td>Windows Desktop</td>\n",
       "      <td>IE</td>\n",
       "    </tr>\n",
       "    <tr>\n",
       "      <th>3</th>\n",
       "      <td>female</td>\n",
       "      <td>42.0</td>\n",
       "      <td>facebook</td>\n",
       "      <td>0</td>\n",
       "      <td>en</td>\n",
       "      <td>direct</td>\n",
       "      <td>direct</td>\n",
       "      <td>untracked</td>\n",
       "      <td>Web</td>\n",
       "      <td>Mac Desktop</td>\n",
       "      <td>Firefox</td>\n",
       "    </tr>\n",
       "    <tr>\n",
       "      <th>4</th>\n",
       "      <td>male</td>\n",
       "      <td>41.0</td>\n",
       "      <td>basic</td>\n",
       "      <td>0</td>\n",
       "      <td>en</td>\n",
       "      <td>direct</td>\n",
       "      <td>direct</td>\n",
       "      <td>untracked</td>\n",
       "      <td>Web</td>\n",
       "      <td>Mac Desktop</td>\n",
       "      <td>Chrome</td>\n",
       "    </tr>\n",
       "  </tbody>\n",
       "</table>\n",
       "</div>"
      ],
      "text/plain": [
       "   gender   age signup_method  signup_flow language affiliate_channel  \\\n",
       "0    male  29.0      facebook            0       en            direct   \n",
       "1    male  38.0      facebook            0       en               seo   \n",
       "2  female  56.0         basic            3       en            direct   \n",
       "3  female  42.0      facebook            0       en            direct   \n",
       "4    male  41.0         basic            0       en            direct   \n",
       "\n",
       "  affiliate_provider first_affiliate_tracked signup_app first_device_type  \\\n",
       "0             direct               untracked        Web       Mac Desktop   \n",
       "1             google               untracked        Web       Mac Desktop   \n",
       "2             direct               untracked        Web   Windows Desktop   \n",
       "3             direct               untracked        Web       Mac Desktop   \n",
       "4             direct               untracked        Web       Mac Desktop   \n",
       "\n",
       "  first_browser  \n",
       "0        Chrome  \n",
       "1        Chrome  \n",
       "2            IE  \n",
       "3       Firefox  \n",
       "4        Chrome  "
      ]
     },
     "execution_count": 232,
     "metadata": {},
     "output_type": "execute_result"
    }
   ],
   "source": [
    "X.head()"
   ]
  },
  {
   "cell_type": "code",
   "execution_count": 233,
   "id": "68df9299-2beb-4926-aacb-16c74e20e508",
   "metadata": {},
   "outputs": [],
   "source": [
    "from sklearn.compose import ColumnTransformer\n",
    "from sklearn.preprocessing import OneHotEncoder\n",
    "ct = ColumnTransformer(transformers=[('encoder', OneHotEncoder(), cat_cols)], remainder='passthrough')"
   ]
  },
  {
   "cell_type": "code",
   "execution_count": 234,
   "id": "4827282e-089a-4f13-bc9e-328f9feadd1d",
   "metadata": {},
   "outputs": [],
   "source": [
    "X = ct.fit_transform(X)"
   ]
  },
  {
   "cell_type": "markdown",
   "id": "741fd7fb-441f-418f-927c-af9d26de7e59",
   "metadata": {},
   "source": [
    "### Label Encoding"
   ]
  },
  {
   "cell_type": "code",
   "execution_count": 235,
   "id": "4bd11719-11d8-4b41-b9ec-28944497cf83",
   "metadata": {},
   "outputs": [
    {
     "data": {
      "text/plain": [
       "array([ 7,  7, 10, ...,  7,  7,  7])"
      ]
     },
     "execution_count": 235,
     "metadata": {},
     "output_type": "execute_result"
    }
   ],
   "source": [
    "from sklearn.preprocessing import LabelEncoder\n",
    "le = LabelEncoder()\n",
    "y_train = le.fit_transform(y_train)\n",
    "y_train"
   ]
  },
  {
   "cell_type": "markdown",
   "id": "059b684c-383d-4082-84ae-321d408c7839",
   "metadata": {},
   "source": [
    "### Feature Scaling"
   ]
  },
  {
   "cell_type": "code",
   "execution_count": 236,
   "id": "35236eba-4597-41da-b062-a7d3a2d7d923",
   "metadata": {},
   "outputs": [],
   "source": [
    "X_train = X[:X_train.shape[0], :]\n",
    "X_test = X[X_train.shape[0]:, :]"
   ]
  },
  {
   "cell_type": "code",
   "execution_count": 237,
   "id": "222d3962-a578-4724-8d06-f10afc086bbe",
   "metadata": {},
   "outputs": [
    {
     "data": {
      "text/plain": [
       "<211905x134 sparse matrix of type '<class 'numpy.float64'>'\n",
       "\twith 2167492 stored elements in Compressed Sparse Row format>"
      ]
     },
     "execution_count": 237,
     "metadata": {},
     "output_type": "execute_result"
    }
   ],
   "source": [
    "X_train"
   ]
  },
  {
   "cell_type": "code",
   "execution_count": 238,
   "id": "58154d35-b6b6-4bb6-9d97-e57d8b06d7e5",
   "metadata": {},
   "outputs": [
    {
     "data": {
      "text/plain": [
       "<61426x134 sparse matrix of type '<class 'numpy.float64'>'\n",
       "\twith 634904 stored elements in Compressed Sparse Row format>"
      ]
     },
     "execution_count": 238,
     "metadata": {},
     "output_type": "execute_result"
    }
   ],
   "source": [
    "X_test"
   ]
  },
  {
   "cell_type": "code",
   "execution_count": 239,
   "id": "cb26d159-36f6-4687-9100-baf6095e7f2d",
   "metadata": {},
   "outputs": [],
   "source": [
    "from sklearn.preprocessing import StandardScaler\n",
    "sc = StandardScaler(with_mean=False)\n",
    "X_train[:, [1, 3]] = sc.fit_transform(X_train[:, [1, 3]])\n",
    "X_test[:, [1, 3]] = sc.transform(X_test[:, [1, 3]])"
   ]
  },
  {
   "cell_type": "markdown",
   "id": "ddb539b6-0cda-42f7-a321-fa6a5157a4e1",
   "metadata": {},
   "source": [
    "#### Linear Regression"
   ]
  },
  {
   "cell_type": "code",
   "execution_count": 241,
   "id": "81273e40-72ad-46fd-8684-6033768bfb04",
   "metadata": {},
   "outputs": [
    {
     "data": {
      "text/html": [
       "<style>#sk-container-id-2 {color: black;}#sk-container-id-2 pre{padding: 0;}#sk-container-id-2 div.sk-toggleable {background-color: white;}#sk-container-id-2 label.sk-toggleable__label {cursor: pointer;display: block;width: 100%;margin-bottom: 0;padding: 0.3em;box-sizing: border-box;text-align: center;}#sk-container-id-2 label.sk-toggleable__label-arrow:before {content: \"▸\";float: left;margin-right: 0.25em;color: #696969;}#sk-container-id-2 label.sk-toggleable__label-arrow:hover:before {color: black;}#sk-container-id-2 div.sk-estimator:hover label.sk-toggleable__label-arrow:before {color: black;}#sk-container-id-2 div.sk-toggleable__content {max-height: 0;max-width: 0;overflow: hidden;text-align: left;background-color: #f0f8ff;}#sk-container-id-2 div.sk-toggleable__content pre {margin: 0.2em;color: black;border-radius: 0.25em;background-color: #f0f8ff;}#sk-container-id-2 input.sk-toggleable__control:checked~div.sk-toggleable__content {max-height: 200px;max-width: 100%;overflow: auto;}#sk-container-id-2 input.sk-toggleable__control:checked~label.sk-toggleable__label-arrow:before {content: \"▾\";}#sk-container-id-2 div.sk-estimator input.sk-toggleable__control:checked~label.sk-toggleable__label {background-color: #d4ebff;}#sk-container-id-2 div.sk-label input.sk-toggleable__control:checked~label.sk-toggleable__label {background-color: #d4ebff;}#sk-container-id-2 input.sk-hidden--visually {border: 0;clip: rect(1px 1px 1px 1px);clip: rect(1px, 1px, 1px, 1px);height: 1px;margin: -1px;overflow: hidden;padding: 0;position: absolute;width: 1px;}#sk-container-id-2 div.sk-estimator {font-family: monospace;background-color: #f0f8ff;border: 1px dotted black;border-radius: 0.25em;box-sizing: border-box;margin-bottom: 0.5em;}#sk-container-id-2 div.sk-estimator:hover {background-color: #d4ebff;}#sk-container-id-2 div.sk-parallel-item::after {content: \"\";width: 100%;border-bottom: 1px solid gray;flex-grow: 1;}#sk-container-id-2 div.sk-label:hover label.sk-toggleable__label {background-color: #d4ebff;}#sk-container-id-2 div.sk-serial::before {content: \"\";position: absolute;border-left: 1px solid gray;box-sizing: border-box;top: 0;bottom: 0;left: 50%;z-index: 0;}#sk-container-id-2 div.sk-serial {display: flex;flex-direction: column;align-items: center;background-color: white;padding-right: 0.2em;padding-left: 0.2em;position: relative;}#sk-container-id-2 div.sk-item {position: relative;z-index: 1;}#sk-container-id-2 div.sk-parallel {display: flex;align-items: stretch;justify-content: center;background-color: white;position: relative;}#sk-container-id-2 div.sk-item::before, #sk-container-id-2 div.sk-parallel-item::before {content: \"\";position: absolute;border-left: 1px solid gray;box-sizing: border-box;top: 0;bottom: 0;left: 50%;z-index: -1;}#sk-container-id-2 div.sk-parallel-item {display: flex;flex-direction: column;z-index: 1;position: relative;background-color: white;}#sk-container-id-2 div.sk-parallel-item:first-child::after {align-self: flex-end;width: 50%;}#sk-container-id-2 div.sk-parallel-item:last-child::after {align-self: flex-start;width: 50%;}#sk-container-id-2 div.sk-parallel-item:only-child::after {width: 0;}#sk-container-id-2 div.sk-dashed-wrapped {border: 1px dashed gray;margin: 0 0.4em 0.5em 0.4em;box-sizing: border-box;padding-bottom: 0.4em;background-color: white;}#sk-container-id-2 div.sk-label label {font-family: monospace;font-weight: bold;display: inline-block;line-height: 1.2em;}#sk-container-id-2 div.sk-label-container {text-align: center;}#sk-container-id-2 div.sk-container {/* jupyter's `normalize.less` sets `[hidden] { display: none; }` but bootstrap.min.css set `[hidden] { display: none !important; }` so we also need the `!important` here to be able to override the default hidden behavior on the sphinx rendered scikit-learn.org. See: https://github.com/scikit-learn/scikit-learn/issues/21755 */display: inline-block !important;position: relative;}#sk-container-id-2 div.sk-text-repr-fallback {display: none;}</style><div id=\"sk-container-id-2\" class=\"sk-top-container\"><div class=\"sk-text-repr-fallback\"><pre>LinearRegression()</pre><b>In a Jupyter environment, please rerun this cell to show the HTML representation or trust the notebook. <br />On GitHub, the HTML representation is unable to render, please try loading this page with nbviewer.org.</b></div><div class=\"sk-container\" hidden><div class=\"sk-item\"><div class=\"sk-estimator sk-toggleable\"><input class=\"sk-toggleable__control sk-hidden--visually\" id=\"sk-estimator-id-2\" type=\"checkbox\" checked><label for=\"sk-estimator-id-2\" class=\"sk-toggleable__label sk-toggleable__label-arrow\">LinearRegression</label><div class=\"sk-toggleable__content\"><pre>LinearRegression()</pre></div></div></div></div></div>"
      ],
      "text/plain": [
       "LinearRegression()"
      ]
     },
     "execution_count": 241,
     "metadata": {},
     "output_type": "execute_result"
    }
   ],
   "source": [
    "from sklearn.linear_model import LinearRegression\n",
    "regressor = LinearRegression()\n",
    "regressor.fit(X_train, y_train)"
   ]
  },
  {
   "cell_type": "code",
   "execution_count": 248,
   "id": "eeb59f50-af39-4228-8a83-a771d726dfde",
   "metadata": {},
   "outputs": [],
   "source": [
    "y_pred = regressor.predict(X_test).astype('int')"
   ]
  },
  {
   "cell_type": "code",
   "execution_count": 249,
   "id": "34c92316-fef0-468f-bbf6-6944e6dd589f",
   "metadata": {},
   "outputs": [
    {
     "data": {
      "text/plain": [
       "array([7, 7, 8, ..., 7, 7, 8])"
      ]
     },
     "execution_count": 249,
     "metadata": {},
     "output_type": "execute_result"
    }
   ],
   "source": [
    "y_pred"
   ]
  },
  {
   "cell_type": "code",
   "execution_count": 252,
   "id": "a07518a7-205b-483a-857a-366c3b1ed220",
   "metadata": {},
   "outputs": [],
   "source": [
    "yhat = le.inverse_transform(y_pred)"
   ]
  },
  {
   "cell_type": "code",
   "execution_count": 263,
   "id": "d25734af-3ad9-46e8-b120-63246b7f5186",
   "metadata": {},
   "outputs": [
    {
     "data": {
      "text/plain": [
       "(61426,)"
      ]
     },
     "execution_count": 263,
     "metadata": {},
     "output_type": "execute_result"
    }
   ],
   "source": [
    "yhat.shape"
   ]
  },
  {
   "cell_type": "code",
   "execution_count": 264,
   "id": "3f14e6d8-ba49-4d69-80ff-102d9b5dd6a9",
   "metadata": {},
   "outputs": [
    {
     "data": {
      "text/plain": [
       "(61426,)"
      ]
     },
     "execution_count": 264,
     "metadata": {},
     "output_type": "execute_result"
    }
   ],
   "source": [
    "test_users_cleaned['id'].shape"
   ]
  },
  {
   "cell_type": "code",
   "execution_count": 271,
   "id": "f5009202-a579-4b3c-9d20-d214ea08d1d0",
   "metadata": {},
   "outputs": [],
   "source": [
    "submission = pd.concat([test_users_cleaned['id'].reset_index(drop=True), pd.Series(yhat)], axis=1)"
   ]
  },
  {
   "cell_type": "code",
   "execution_count": 274,
   "id": "52579b3e-34c3-46b7-a340-36ff7c030307",
   "metadata": {},
   "outputs": [
    {
     "data": {
      "text/html": [
       "<div>\n",
       "<style scoped>\n",
       "    .dataframe tbody tr th:only-of-type {\n",
       "        vertical-align: middle;\n",
       "    }\n",
       "\n",
       "    .dataframe tbody tr th {\n",
       "        vertical-align: top;\n",
       "    }\n",
       "\n",
       "    .dataframe thead th {\n",
       "        text-align: right;\n",
       "    }\n",
       "</style>\n",
       "<table border=\"1\" class=\"dataframe\">\n",
       "  <thead>\n",
       "    <tr style=\"text-align: right;\">\n",
       "      <th></th>\n",
       "      <th>id</th>\n",
       "      <th>0</th>\n",
       "    </tr>\n",
       "  </thead>\n",
       "  <tbody>\n",
       "    <tr>\n",
       "      <th>0</th>\n",
       "      <td>5uwns89zht</td>\n",
       "      <td>NDF</td>\n",
       "    </tr>\n",
       "    <tr>\n",
       "      <th>1</th>\n",
       "      <td>jtl0dijy2j</td>\n",
       "      <td>NDF</td>\n",
       "    </tr>\n",
       "    <tr>\n",
       "      <th>2</th>\n",
       "      <td>xx0ulgorjt</td>\n",
       "      <td>NL</td>\n",
       "    </tr>\n",
       "    <tr>\n",
       "      <th>3</th>\n",
       "      <td>6c6puo6ix0</td>\n",
       "      <td>NDF</td>\n",
       "    </tr>\n",
       "    <tr>\n",
       "      <th>4</th>\n",
       "      <td>czqhjk3yfe</td>\n",
       "      <td>NDF</td>\n",
       "    </tr>\n",
       "  </tbody>\n",
       "</table>\n",
       "</div>"
      ],
      "text/plain": [
       "           id    0\n",
       "0  5uwns89zht  NDF\n",
       "1  jtl0dijy2j  NDF\n",
       "2  xx0ulgorjt   NL\n",
       "3  6c6puo6ix0  NDF\n",
       "4  czqhjk3yfe  NDF"
      ]
     },
     "execution_count": 274,
     "metadata": {},
     "output_type": "execute_result"
    }
   ],
   "source": [
    "submission.head()"
   ]
  },
  {
   "cell_type": "code",
   "execution_count": 273,
   "id": "63a8f771-3d5c-4eb5-b76e-b069e2d08ec1",
   "metadata": {},
   "outputs": [
    {
     "data": {
      "text/plain": [
       "(61426, 2)"
      ]
     },
     "execution_count": 273,
     "metadata": {},
     "output_type": "execute_result"
    }
   ],
   "source": [
    "submission.shape"
   ]
  },
  {
   "cell_type": "code",
   "execution_count": 275,
   "id": "03f53e3e-9e5a-4c87-ace4-d69ed4884531",
   "metadata": {},
   "outputs": [],
   "source": [
    "submission.to_csv('submission.csv')"
   ]
  },
  {
   "cell_type": "code",
   "execution_count": null,
   "id": "79effa3e-571d-4bd3-9929-eb5d9895ec8b",
   "metadata": {},
   "outputs": [],
   "source": []
  }
 ],
 "metadata": {
  "colab": {
   "provenance": []
  },
  "kernelspec": {
   "display_name": "Python 3 (ipykernel)",
   "language": "python",
   "name": "python3"
  },
  "language_info": {
   "codemirror_mode": {
    "name": "ipython",
    "version": 3
   },
   "file_extension": ".py",
   "mimetype": "text/x-python",
   "name": "python",
   "nbconvert_exporter": "python",
   "pygments_lexer": "ipython3",
   "version": "3.11.4"
  }
 },
 "nbformat": 4,
 "nbformat_minor": 5
}
